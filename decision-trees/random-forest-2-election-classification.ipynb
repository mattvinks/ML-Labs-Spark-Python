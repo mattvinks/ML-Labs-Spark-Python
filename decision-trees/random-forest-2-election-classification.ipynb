{
 "cells": [
  {
   "cell_type": "markdown",
   "metadata": {},
   "source": [
    "# Random Forests: Presidential Contributions\n",
    "\n",
    "Let's look at a random forests models for the presidential dataset.\n",
    "\n",
    "This dataset defines all presidential contribution amounts from publicly available information.\n",
    "\n",
    "**The purpose here is to try to classify the candidate to whom the contributor likely to contribute.**  \n",
    "\n",
    "Here are the feature columns we will use:\n",
    "1. State \n",
    "2. Employer\n",
    "3. Occupation\n",
    "\n",
    "### Notes\n",
    "\n",
    "This is going to be a very difficult dataset to get high accuracy, because we don't have any features that are highly correlated with the outcome. Part of our analysis is to see which features prove to be the most useful. \n",
    "\n",
    "One might suspect that information like State, might be very predictive -- because presumably New Yorkers might contribute to Hillary Clinton and Texans might contribute to Donald Trump. However, it turns out that State is pretty weakly correlated to the outcome.  \n",
    "\n",
    "One nice thing about random forests is that since we \"bag\" featues in differnet trees, we can empirically see which variables have hte most predictive power.  This is helpful for analytical reasons.\n",
    "\n"
   ]
  },
  {
   "cell_type": "code",
   "execution_count": 1,
   "metadata": {},
   "outputs": [
    {
     "name": "stdout",
     "output_type": "stream",
     "text": [
      "Initializing Spark...\n",
      "Spark found in :  /home/ubuntu/spark\n",
      "Spark config:\n",
      "\t spark.app.name=TestApp\n",
      "\tspark.master=local[*]\n",
      "\texecutor.memory=2g\n",
      "\tspark.sql.warehouse.dir=/tmp/tmpmiwtwmen\n",
      "\tsome_property=some_value\n",
      "Spark UI running on port 4044\n"
     ]
    },
    {
     "data": {
      "text/html": [
       "\n",
       "            <div>\n",
       "                <p><b>SparkSession - in-memory</b></p>\n",
       "                \n",
       "        <div>\n",
       "            <p><b>SparkContext</b></p>\n",
       "\n",
       "            <p><a href=\"http://ip-172-16-0-107.ec2.internal:4044\">Spark UI</a></p>\n",
       "\n",
       "            <dl>\n",
       "              <dt>Version</dt>\n",
       "                <dd><code>v2.4.0</code></dd>\n",
       "              <dt>Master</dt>\n",
       "                <dd><code>local[*]</code></dd>\n",
       "              <dt>AppName</dt>\n",
       "                <dd><code>TestApp</code></dd>\n",
       "            </dl>\n",
       "        </div>\n",
       "        \n",
       "            </div>\n",
       "        "
      ],
      "text/plain": [
       "<pyspark.sql.session.SparkSession at 0x7fd7006e22e8>"
      ]
     },
     "execution_count": 1,
     "metadata": {},
     "output_type": "execute_result"
    }
   ],
   "source": [
    "# initialize Spark Session\n",
    "import os\n",
    "import sys\n",
    "top_dir = os.path.abspath(os.path.join(os.getcwd(), \"../\"))\n",
    "if top_dir not in sys.path:\n",
    "    sys.path.append(top_dir)\n",
    "\n",
    "from init_spark import init_spark\n",
    "spark = init_spark()\n",
    "spark"
   ]
  },
  {
   "cell_type": "markdown",
   "metadata": {},
   "source": [
    "## Step 1: Load the data"
   ]
  },
  {
   "cell_type": "code",
   "execution_count": 2,
   "metadata": {},
   "outputs": [
    {
     "name": "stdout",
     "output_type": "stream",
     "text": [
      "CPU times: user 4 ms, sys: 0 ns, total: 4 ms\n",
      "Wall time: 5.85 s\n"
     ]
    }
   ],
   "source": [
    "%%time\n",
    "\n",
    "# 100k samples\n",
    "data_file = '/data/presidential_election_contribs/2016/2016-100k.csv.gz'\n",
    "\n",
    "\n",
    "data = spark.read.csv(data_file, \\\n",
    "                         header=True, inferSchema=True)"
   ]
  },
  {
   "cell_type": "code",
   "execution_count": 3,
   "metadata": {},
   "outputs": [
    {
     "name": "stdout",
     "output_type": "stream",
     "text": [
      "read 100,000 records\n"
     ]
    }
   ],
   "source": [
    "print(\"read {:,} records\".format(data.count()))"
   ]
  },
  {
   "cell_type": "code",
   "execution_count": 4,
   "metadata": {},
   "outputs": [
    {
     "name": "stdout",
     "output_type": "stream",
     "text": [
      "root\n",
      " |-- CMTE_ID: string (nullable = true)\n",
      " |-- CAND_ID: string (nullable = true)\n",
      " |-- CAND_NM: string (nullable = true)\n",
      " |-- CONTBR_NM: string (nullable = true)\n",
      " |-- CONTBR_CITY: string (nullable = true)\n",
      " |-- CONTBR_ST: string (nullable = true)\n",
      " |-- CONTBR_ZIP: string (nullable = true)\n",
      " |-- CONTBR_EMPLOYER: string (nullable = true)\n",
      " |-- CONTBR_OCCUPATION: string (nullable = true)\n",
      " |-- CONTB_RECEIPT_AMT: double (nullable = true)\n",
      " |-- CONTB_RECEIPT_DT: string (nullable = true)\n",
      " |-- RECEIPT_DESC: string (nullable = true)\n",
      " |-- MEMO_CD: string (nullable = true)\n",
      " |-- MEMO_TEXT: string (nullable = true)\n",
      " |-- FORM_TP: string (nullable = true)\n",
      " |-- FILE_NUM: integer (nullable = true)\n",
      " |-- TRAN_ID: string (nullable = true)\n",
      " |-- ELECTION_TP: string (nullable = true)\n",
      "\n"
     ]
    }
   ],
   "source": [
    "data.printSchema()"
   ]
  },
  {
   "cell_type": "code",
   "execution_count": 5,
   "metadata": {},
   "outputs": [
    {
     "data": {
      "text/html": [
       "<div>\n",
       "<style scoped>\n",
       "    .dataframe tbody tr th:only-of-type {\n",
       "        vertical-align: middle;\n",
       "    }\n",
       "\n",
       "    .dataframe tbody tr th {\n",
       "        vertical-align: top;\n",
       "    }\n",
       "\n",
       "    .dataframe thead th {\n",
       "        text-align: right;\n",
       "    }\n",
       "</style>\n",
       "<table border=\"1\" class=\"dataframe\">\n",
       "  <thead>\n",
       "    <tr style=\"text-align: right;\">\n",
       "      <th></th>\n",
       "      <th>0</th>\n",
       "      <th>1</th>\n",
       "      <th>2</th>\n",
       "    </tr>\n",
       "  </thead>\n",
       "  <tbody>\n",
       "    <tr>\n",
       "      <th>CMTE_ID</th>\n",
       "      <td>C00605568</td>\n",
       "      <td>C00574624</td>\n",
       "      <td>C00580100</td>\n",
       "    </tr>\n",
       "    <tr>\n",
       "      <th>CAND_ID</th>\n",
       "      <td>P20002671</td>\n",
       "      <td>P60006111</td>\n",
       "      <td>P80001571</td>\n",
       "    </tr>\n",
       "    <tr>\n",
       "      <th>CAND_NM</th>\n",
       "      <td>Johnson, Gary</td>\n",
       "      <td>Cruz, Rafael Edward 'Ted'</td>\n",
       "      <td>Trump, Donald J.</td>\n",
       "    </tr>\n",
       "    <tr>\n",
       "      <th>CONTBR_NM</th>\n",
       "      <td>SMITH, PAUL</td>\n",
       "      <td>BROWNE, THOMAS JOHN</td>\n",
       "      <td>RISENHOOVER, LINDSEY</td>\n",
       "    </tr>\n",
       "    <tr>\n",
       "      <th>CONTBR_CITY</th>\n",
       "      <td>SAN DIEGO</td>\n",
       "      <td>WHITESBORO</td>\n",
       "      <td>TULSA</td>\n",
       "    </tr>\n",
       "    <tr>\n",
       "      <th>CONTBR_ST</th>\n",
       "      <td>CA</td>\n",
       "      <td>NY</td>\n",
       "      <td>OK</td>\n",
       "    </tr>\n",
       "    <tr>\n",
       "      <th>CONTBR_ZIP</th>\n",
       "      <td>92117</td>\n",
       "      <td>134921106</td>\n",
       "      <td>74133</td>\n",
       "    </tr>\n",
       "    <tr>\n",
       "      <th>CONTBR_EMPLOYER</th>\n",
       "      <td>SELF</td>\n",
       "      <td>RETIRED</td>\n",
       "      <td>INFORMATION REQUESTED</td>\n",
       "    </tr>\n",
       "    <tr>\n",
       "      <th>CONTBR_OCCUPATION</th>\n",
       "      <td>RETIRED</td>\n",
       "      <td>RETIRED</td>\n",
       "      <td>INFORMATION REQUESTED</td>\n",
       "    </tr>\n",
       "    <tr>\n",
       "      <th>CONTB_RECEIPT_AMT</th>\n",
       "      <td>150</td>\n",
       "      <td>35</td>\n",
       "      <td>73.59</td>\n",
       "    </tr>\n",
       "    <tr>\n",
       "      <th>CONTB_RECEIPT_DT</th>\n",
       "      <td>16-SEP-16</td>\n",
       "      <td>30-APR-15</td>\n",
       "      <td>09-NOV-16</td>\n",
       "    </tr>\n",
       "    <tr>\n",
       "      <th>RECEIPT_DESC</th>\n",
       "      <td>None</td>\n",
       "      <td>None</td>\n",
       "      <td>None</td>\n",
       "    </tr>\n",
       "    <tr>\n",
       "      <th>MEMO_CD</th>\n",
       "      <td>None</td>\n",
       "      <td>None</td>\n",
       "      <td>X</td>\n",
       "    </tr>\n",
       "    <tr>\n",
       "      <th>MEMO_TEXT</th>\n",
       "      <td>None</td>\n",
       "      <td>None</td>\n",
       "      <td>None</td>\n",
       "    </tr>\n",
       "    <tr>\n",
       "      <th>FORM_TP</th>\n",
       "      <td>SA17A</td>\n",
       "      <td>SA17A</td>\n",
       "      <td>SA18</td>\n",
       "    </tr>\n",
       "    <tr>\n",
       "      <th>FILE_NUM</th>\n",
       "      <td>1112281</td>\n",
       "      <td>1024046</td>\n",
       "      <td>1146165</td>\n",
       "    </tr>\n",
       "    <tr>\n",
       "      <th>TRAN_ID</th>\n",
       "      <td>SA17A.66792</td>\n",
       "      <td>SA17.279055</td>\n",
       "      <td>SA18.136964</td>\n",
       "    </tr>\n",
       "    <tr>\n",
       "      <th>ELECTION_TP</th>\n",
       "      <td>G2016</td>\n",
       "      <td>P2016</td>\n",
       "      <td>G2016</td>\n",
       "    </tr>\n",
       "  </tbody>\n",
       "</table>\n",
       "</div>"
      ],
      "text/plain": [
       "                               0                          1  \\\n",
       "CMTE_ID                C00605568                  C00574624   \n",
       "CAND_ID                P20002671                  P60006111   \n",
       "CAND_NM            Johnson, Gary  Cruz, Rafael Edward 'Ted'   \n",
       "CONTBR_NM            SMITH, PAUL        BROWNE, THOMAS JOHN   \n",
       "CONTBR_CITY            SAN DIEGO                 WHITESBORO   \n",
       "CONTBR_ST                     CA                         NY   \n",
       "CONTBR_ZIP                 92117                  134921106   \n",
       "CONTBR_EMPLOYER             SELF                    RETIRED   \n",
       "CONTBR_OCCUPATION        RETIRED                    RETIRED   \n",
       "CONTB_RECEIPT_AMT            150                         35   \n",
       "CONTB_RECEIPT_DT       16-SEP-16                  30-APR-15   \n",
       "RECEIPT_DESC                None                       None   \n",
       "MEMO_CD                     None                       None   \n",
       "MEMO_TEXT                   None                       None   \n",
       "FORM_TP                    SA17A                      SA17A   \n",
       "FILE_NUM                 1112281                    1024046   \n",
       "TRAN_ID              SA17A.66792                SA17.279055   \n",
       "ELECTION_TP                G2016                      P2016   \n",
       "\n",
       "                                       2  \n",
       "CMTE_ID                        C00580100  \n",
       "CAND_ID                        P80001571  \n",
       "CAND_NM                 Trump, Donald J.  \n",
       "CONTBR_NM           RISENHOOVER, LINDSEY  \n",
       "CONTBR_CITY                        TULSA  \n",
       "CONTBR_ST                             OK  \n",
       "CONTBR_ZIP                         74133  \n",
       "CONTBR_EMPLOYER    INFORMATION REQUESTED  \n",
       "CONTBR_OCCUPATION  INFORMATION REQUESTED  \n",
       "CONTB_RECEIPT_AMT                  73.59  \n",
       "CONTB_RECEIPT_DT               09-NOV-16  \n",
       "RECEIPT_DESC                        None  \n",
       "MEMO_CD                                X  \n",
       "MEMO_TEXT                           None  \n",
       "FORM_TP                             SA18  \n",
       "FILE_NUM                         1146165  \n",
       "TRAN_ID                      SA18.136964  \n",
       "ELECTION_TP                        G2016  "
      ]
     },
     "execution_count": 5,
     "metadata": {},
     "output_type": "execute_result"
    }
   ],
   "source": [
    "## data.show() is hard to read\n",
    "## use Pandas to pretty print\n",
    "\n",
    "## vertical\n",
    "## TODO : 'toPandas'\n",
    "data.limit(3).toPandas().T\n",
    "\n",
    "# horizontal\n",
    "# data.limit(5).toPandas()"
   ]
  },
  {
   "cell_type": "markdown",
   "metadata": {},
   "source": [
    "### 1.5 - Sample Data\n",
    "Start with a small sample of data. Once the algorithm is working procss the full dataset.\n"
   ]
  },
  {
   "cell_type": "code",
   "execution_count": 6,
   "metadata": {},
   "outputs": [
    {
     "name": "stdout",
     "output_type": "stream",
     "text": [
      "sample size 9,972 records\n"
     ]
    }
   ],
   "source": [
    "## TODO : set sample rate, start with 0.1\n",
    "# sample size :  10% --> 0.1,   100%  -> 1.0\n",
    "sample_size = 0.1\n",
    "\n",
    "data = data.sample(withReplacement=False, fraction=sample_size)\n",
    "print(\"sample size {:,} records\".format(data.count()))"
   ]
  },
  {
   "cell_type": "markdown",
   "metadata": {},
   "source": [
    "## Step 2 : Clean Data"
   ]
  },
  {
   "cell_type": "markdown",
   "metadata": {},
   "source": [
    "### 2.1 - extract only a few columns"
   ]
  },
  {
   "cell_type": "code",
   "execution_count": 7,
   "metadata": {},
   "outputs": [],
   "source": [
    "## TODO : Select these columns \n",
    "## Hint ; 'CAND_NM', 'CONTBR_ST', 'CONTBR_EMPLOYER', 'CONTBR_OCCUPATION', 'CONTB_RECEIPT_AMT'\n",
    "\n",
    "columns = ['CAND_NM', 'CONTBR_ST', 'CONTBR_EMPLOYER', 'CONTBR_OCCUPATION', 'CONTB_RECEIPT_AMT']"
   ]
  },
  {
   "cell_type": "code",
   "execution_count": 8,
   "metadata": {},
   "outputs": [
    {
     "name": "stdout",
     "output_type": "stream",
     "text": [
      "root\n",
      " |-- CAND_NM: string (nullable = true)\n",
      " |-- CONTBR_ST: string (nullable = true)\n",
      " |-- CONTBR_EMPLOYER: string (nullable = true)\n",
      " |-- CONTBR_OCCUPATION: string (nullable = true)\n",
      " |-- CONTB_RECEIPT_AMT: double (nullable = true)\n",
      "\n"
     ]
    },
    {
     "data": {
      "text/html": [
       "<div>\n",
       "<style scoped>\n",
       "    .dataframe tbody tr th:only-of-type {\n",
       "        vertical-align: middle;\n",
       "    }\n",
       "\n",
       "    .dataframe tbody tr th {\n",
       "        vertical-align: top;\n",
       "    }\n",
       "\n",
       "    .dataframe thead th {\n",
       "        text-align: right;\n",
       "    }\n",
       "</style>\n",
       "<table border=\"1\" class=\"dataframe\">\n",
       "  <thead>\n",
       "    <tr style=\"text-align: right;\">\n",
       "      <th></th>\n",
       "      <th>CAND_NM</th>\n",
       "      <th>CONTBR_ST</th>\n",
       "      <th>CONTBR_EMPLOYER</th>\n",
       "      <th>CONTBR_OCCUPATION</th>\n",
       "      <th>CONTB_RECEIPT_AMT</th>\n",
       "    </tr>\n",
       "  </thead>\n",
       "  <tbody>\n",
       "    <tr>\n",
       "      <th>0</th>\n",
       "      <td>Clinton, Hillary Rodham</td>\n",
       "      <td>OR</td>\n",
       "      <td>N/A</td>\n",
       "      <td>RETIRED</td>\n",
       "      <td>56.30</td>\n",
       "    </tr>\n",
       "    <tr>\n",
       "      <th>1</th>\n",
       "      <td>Sanders, Bernard</td>\n",
       "      <td>KS</td>\n",
       "      <td>KCUC</td>\n",
       "      <td>PHYSICIAN</td>\n",
       "      <td>58.65</td>\n",
       "    </tr>\n",
       "    <tr>\n",
       "      <th>2</th>\n",
       "      <td>Trump, Donald J.</td>\n",
       "      <td>OK</td>\n",
       "      <td>DEVON ENERGY</td>\n",
       "      <td>PETROLEUM GEOLOGIST</td>\n",
       "      <td>20.00</td>\n",
       "    </tr>\n",
       "    <tr>\n",
       "      <th>3</th>\n",
       "      <td>Trump, Donald J.</td>\n",
       "      <td>VA</td>\n",
       "      <td>LEIDOS BIOMED.</td>\n",
       "      <td>MANAGER</td>\n",
       "      <td>100.00</td>\n",
       "    </tr>\n",
       "    <tr>\n",
       "      <th>4</th>\n",
       "      <td>Clinton, Hillary Rodham</td>\n",
       "      <td>CA</td>\n",
       "      <td>RETIRED</td>\n",
       "      <td>HUMAN RESOURCE SPECIALIST</td>\n",
       "      <td>150.00</td>\n",
       "    </tr>\n",
       "  </tbody>\n",
       "</table>\n",
       "</div>"
      ],
      "text/plain": [
       "                   CAND_NM CONTBR_ST CONTBR_EMPLOYER  \\\n",
       "0  Clinton, Hillary Rodham        OR             N/A   \n",
       "1         Sanders, Bernard        KS            KCUC   \n",
       "2         Trump, Donald J.        OK    DEVON ENERGY   \n",
       "3         Trump, Donald J.        VA  LEIDOS BIOMED.   \n",
       "4  Clinton, Hillary Rodham        CA         RETIRED   \n",
       "\n",
       "           CONTBR_OCCUPATION  CONTB_RECEIPT_AMT  \n",
       "0                    RETIRED              56.30  \n",
       "1                  PHYSICIAN              58.65  \n",
       "2        PETROLEUM GEOLOGIST              20.00  \n",
       "3                    MANAGER             100.00  \n",
       "4  HUMAN RESOURCE SPECIALIST             150.00  "
      ]
     },
     "execution_count": 8,
     "metadata": {},
     "output_type": "execute_result"
    }
   ],
   "source": [
    "data2 = data.select(columns)\n",
    "data2.printSchema()\n",
    "\n",
    "data2.limit(5).toPandas()"
   ]
  },
  {
   "cell_type": "markdown",
   "metadata": {},
   "source": [
    "### 2.2 - Clean data (drop null values)"
   ]
  },
  {
   "cell_type": "code",
   "execution_count": 9,
   "metadata": {},
   "outputs": [
    {
     "name": "stdout",
     "output_type": "stream",
     "text": [
      "original data size = 9,972\n",
      "clean data size = 9,879\n",
      "droped records = 93\n"
     ]
    }
   ],
   "source": [
    "## TODO : drop any null values\n",
    "## Hint : na\n",
    "data_clean = data2.na.drop()\n",
    "\n",
    "print(\"original data size = {:,}\".format(data2.count()) )\n",
    "print(\"clean data size = {:,}\".format(data_clean.count()) )\n",
    "print(\"droped records = {:,}\".format(data2.count() - data_clean.count()) )"
   ]
  },
  {
   "cell_type": "markdown",
   "metadata": {},
   "source": [
    "## Step 2 : Basic Exploration"
   ]
  },
  {
   "cell_type": "markdown",
   "metadata": {},
   "source": [
    "### 2.1 - Print out a contribution count broken down by candidate?\n",
    "\n",
    "**=> Which candidates got the most donations? (in terms of number of donors)**"
   ]
  },
  {
   "cell_type": "code",
   "execution_count": 10,
   "metadata": {},
   "outputs": [
    {
     "name": "stdout",
     "output_type": "stream",
     "text": [
      "+-------------------------+-----+\n",
      "|CAND_NM                  |count|\n",
      "+-------------------------+-----+\n",
      "|Clinton, Hillary Rodham  |4622 |\n",
      "|Sanders, Bernard         |2756 |\n",
      "|Trump, Donald J.         |1061 |\n",
      "|Cruz, Rafael Edward 'Ted'|730  |\n",
      "|Carson, Benjamin S.      |327  |\n",
      "|Rubio, Marco             |135  |\n",
      "|Bush, Jeb                |48   |\n",
      "|Kasich, John R.          |42   |\n",
      "|Paul, Rand               |32   |\n",
      "|Fiorina, Carly           |27   |\n",
      "|Johnson, Gary            |26   |\n",
      "|Huckabee, Mike           |12   |\n",
      "|O'Malley, Martin Joseph  |12   |\n",
      "|Walker, Scott            |12   |\n",
      "|Christie, Christopher J. |10   |\n",
      "|Stein, Jill              |9    |\n",
      "|Graham, Lindsey O.       |5    |\n",
      "|Santorum, Richard J.     |4    |\n",
      "|McMullin, Evan           |4    |\n",
      "|Webb, James Henry Jr.    |2    |\n",
      "+-------------------------+-----+\n",
      "only showing top 20 rows\n",
      "\n"
     ]
    }
   ],
   "source": [
    "## TODO : print out per candidate breakdown\n",
    "## Hint : group by 'CAND_NM'  and order by 'count'\n",
    "data_clean.groupBy('CAND_NM').count().orderBy('count', ascending=False).show(20, False)"
   ]
  },
  {
   "cell_type": "markdown",
   "metadata": {},
   "source": [
    "### 2.2 - find min/max/average contribution per candidate"
   ]
  },
  {
   "cell_type": "code",
   "execution_count": 14,
   "metadata": {},
   "outputs": [
    {
     "name": "stdout",
     "output_type": "stream",
     "text": [
      "+-------------------------+----------------------+----------------------+----------------------+\n",
      "|CAND_NM                  |min(CONTB_RECEIPT_AMT)|avg(CONTB_RECEIPT_AMT)|max(CONTB_RECEIPT_AMT)|\n",
      "+-------------------------+----------------------+----------------------+----------------------+\n",
      "|Bush, Jeb                |5.0                   |1533.4375             |5000.0                |\n",
      "|Carson, Benjamin S.      |-100.0                |124.32449541284404    |5400.0                |\n",
      "|Christie, Christopher J. |50.0                  |1789.038              |2700.0                |\n",
      "|Clinton, Hillary Rodham  |-2700.0               |118.56500216356554    |2700.0                |\n",
      "|Cruz, Rafael Edward 'Ted'|-5380.0               |90.57419178082192     |5400.0                |\n",
      "|Fiorina, Carly           |13.0                  |122.77777777777777    |1000.0                |\n",
      "|Graham, Lindsey O.       |-2700.0               |740.0                 |2700.0                |\n",
      "|Huckabee, Mike           |1.0                   |101.25                |500.0                 |\n",
      "|Johnson, Gary            |15.0                  |195.56730769230768    |1500.0                |\n",
      "|Kasich, John R.          |10.0                  |584.4047619047619     |2700.0                |\n",
      "|Lessig, Lawrence         |50.0                  |150.0                 |250.0                 |\n",
      "|McMullin, Evan           |25.0                  |43.75                 |100.0                 |\n",
      "|O'Malley, Martin Joseph  |15.0                  |695.0                 |2700.0                |\n",
      "|Paul, Rand               |10.0                  |239.90875             |2700.0                |\n",
      "|Perry, James R. (Rick)   |1000.0                |1000.0                |1000.0                |\n",
      "|Rubio, Marco             |-2700.0               |365.3851851851852     |5400.0                |\n",
      "|Sanders, Bernard         |-25.0                 |45.06710087082726     |5000.0                |\n",
      "|Santorum, Richard J.     |-2700.0               |-573.5025             |250.0                 |\n",
      "|Stein, Jill              |15.0                  |458.44444444444446    |2700.0                |\n",
      "|Trump, Donald J.         |-1000.0               |144.66640904806783    |2700.0                |\n",
      "|Walker, Scott            |25.0                  |799.1666666666666     |5400.0                |\n",
      "|Webb, James Henry Jr.    |100.0                 |175.0                 |250.0                 |\n",
      "+-------------------------+----------------------+----------------------+----------------------+\n",
      "\n"
     ]
    }
   ],
   "source": [
    "from pyspark.sql.functions import min,max,mean\n",
    "\n",
    "## TODO : what colum represents contribution amount?\n",
    "data_clean.groupBy('CAND_NM').\\\n",
    "        agg(min('CONTB_RECEIPT_AMT'), mean('CONTB_RECEIPT_AMT'), max('CONTB_RECEIPT_AMT')).\\\n",
    "        orderBy('CAND_NM').\\\n",
    "        show(40, False)"
   ]
  },
  {
   "cell_type": "markdown",
   "metadata": {},
   "source": [
    "### 2.3 - Whoah!  Negative Contributions!\n",
    "We see some negative contributions!   \n",
    "\n",
    "**Q==> Can you guys figure out why?**\n"
   ]
  },
  {
   "cell_type": "code",
   "execution_count": 13,
   "metadata": {},
   "outputs": [
    {
     "name": "stdout",
     "output_type": "stream",
     "text": [
      "original data size = 9,879\n",
      "positive contributions data size = 9,818\n"
     ]
    }
   ],
   "source": [
    "## TODO Filter out only positive contribs\n",
    "## Hint : use fileter(condition)\n",
    "## Hint : condition :   \n",
    "pos_contribs = data_clean.filter(\"CONTB_RECEIPT_AMT > 0\")\n",
    "\n",
    "print(\"original data size = {:,}\".format(data_clean.count()) )\n",
    "print(\"positive contributions data size = {:,}\".format(pos_contribs.count()) )"
   ]
  },
  {
   "cell_type": "markdown",
   "metadata": {},
   "source": [
    "### 2.4 - now find min/max/median in positive contributions"
   ]
  },
  {
   "cell_type": "code",
   "execution_count": 15,
   "metadata": {},
   "outputs": [
    {
     "name": "stdout",
     "output_type": "stream",
     "text": [
      "sorted by CAND_NM\n",
      "+-------------------------+----------------------+----------------------+----------------------+\n",
      "|CAND_NM                  |min(CONTB_RECEIPT_AMT)|avg(CONTB_RECEIPT_AMT)|max(CONTB_RECEIPT_AMT)|\n",
      "+-------------------------+----------------------+----------------------+----------------------+\n",
      "|Bush, Jeb                |5.0                   |1533.4375             |5000.0                |\n",
      "|Carson, Benjamin S.      |2.0                   |125.5511076923077     |5400.0                |\n",
      "|Christie, Christopher J. |50.0                  |1789.038              |2700.0                |\n",
      "|Clinton, Hillary Rodham  |0.64                  |119.48439584235598    |2700.0                |\n",
      "|Cruz, Rafael Edward 'Ted'|1.0                   |122.02713881019831    |5400.0                |\n",
      "|Fiorina, Carly           |13.0                  |122.77777777777777    |1000.0                |\n",
      "|Graham, Lindsey O.       |100.0                 |1600.0                |2700.0                |\n",
      "|Huckabee, Mike           |1.0                   |101.25                |500.0                 |\n",
      "|Johnson, Gary            |15.0                  |195.56730769230768    |1500.0                |\n",
      "|Kasich, John R.          |10.0                  |584.4047619047619     |2700.0                |\n",
      "|Lessig, Lawrence         |50.0                  |150.0                 |250.0                 |\n",
      "|McMullin, Evan           |25.0                  |43.75                 |100.0                 |\n",
      "|O'Malley, Martin Joseph  |15.0                  |695.0                 |2700.0                |\n",
      "|Paul, Rand               |10.0                  |239.90875             |2700.0                |\n",
      "|Perry, James R. (Rick)   |1000.0                |1000.0                |1000.0                |\n",
      "|Rubio, Marco             |10.0                  |464.6279069767442     |5400.0                |\n",
      "|Sanders, Bernard         |1.0                   |45.09253357531758     |5000.0                |\n",
      "|Santorum, Richard J.     |55.99                 |135.33                |250.0                 |\n",
      "|Stein, Jill              |15.0                  |458.44444444444446    |2700.0                |\n",
      "|Trump, Donald J.         |0.8                   |149.74923965351294    |2700.0                |\n",
      "|Walker, Scott            |25.0                  |799.1666666666666     |5400.0                |\n",
      "|Webb, James Henry Jr.    |100.0                 |175.0                 |250.0                 |\n",
      "+-------------------------+----------------------+----------------------+----------------------+\n",
      "\n"
     ]
    }
   ],
   "source": [
    "from pyspark.sql.functions import min,max,mean\n",
    "\n",
    "print (\"sorted by CAND_NM\")\n",
    "\n",
    "pos_contribs.groupBy('CAND_NM').\\\n",
    "        agg(min('CONTB_RECEIPT_AMT'), mean('CONTB_RECEIPT_AMT'), max('CONTB_RECEIPT_AMT')).\\\n",
    "        orderBy('CAND_NM').\\\n",
    "        show(40, False)"
   ]
  },
  {
   "cell_type": "code",
   "execution_count": 16,
   "metadata": {},
   "outputs": [
    {
     "name": "stdout",
     "output_type": "stream",
     "text": [
      "sorted by AVG contribution\n",
      "+-------------------------+----------------------+----------------------+----------------------+\n",
      "|CAND_NM                  |min(CONTB_RECEIPT_AMT)|avg(CONTB_RECEIPT_AMT)|max(CONTB_RECEIPT_AMT)|\n",
      "+-------------------------+----------------------+----------------------+----------------------+\n",
      "|Christie, Christopher J. |50.0                  |1789.038              |2700.0                |\n",
      "|Graham, Lindsey O.       |100.0                 |1600.0                |2700.0                |\n",
      "|Bush, Jeb                |5.0                   |1533.4375             |5000.0                |\n",
      "|Perry, James R. (Rick)   |1000.0                |1000.0                |1000.0                |\n",
      "|Walker, Scott            |25.0                  |799.1666666666666     |5400.0                |\n",
      "|O'Malley, Martin Joseph  |15.0                  |695.0                 |2700.0                |\n",
      "|Kasich, John R.          |10.0                  |584.4047619047619     |2700.0                |\n",
      "|Rubio, Marco             |10.0                  |464.6279069767442     |5400.0                |\n",
      "|Stein, Jill              |15.0                  |458.44444444444446    |2700.0                |\n",
      "|Paul, Rand               |10.0                  |239.90875             |2700.0                |\n",
      "|Johnson, Gary            |15.0                  |195.56730769230768    |1500.0                |\n",
      "|Webb, James Henry Jr.    |100.0                 |175.0                 |250.0                 |\n",
      "|Lessig, Lawrence         |50.0                  |150.0                 |250.0                 |\n",
      "|Trump, Donald J.         |0.8                   |149.74923965351294    |2700.0                |\n",
      "|Santorum, Richard J.     |55.99                 |135.33                |250.0                 |\n",
      "|Carson, Benjamin S.      |2.0                   |125.5511076923077     |5400.0                |\n",
      "|Fiorina, Carly           |13.0                  |122.77777777777777    |1000.0                |\n",
      "|Cruz, Rafael Edward 'Ted'|1.0                   |122.02713881019831    |5400.0                |\n",
      "|Clinton, Hillary Rodham  |0.64                  |119.48439584235598    |2700.0                |\n",
      "|Huckabee, Mike           |1.0                   |101.25                |500.0                 |\n",
      "|Sanders, Bernard         |1.0                   |45.09253357531758     |5000.0                |\n",
      "|McMullin, Evan           |25.0                  |43.75                 |100.0                 |\n",
      "+-------------------------+----------------------+----------------------+----------------------+\n",
      "\n"
     ]
    }
   ],
   "source": [
    "from pyspark.sql.functions import min,max,mean\n",
    "\n",
    "print(\"sorted by AVG contribution\")\n",
    "\n",
    "pos_contribs.groupBy('CAND_NM').\\\n",
    "        agg(min('CONTB_RECEIPT_AMT'), mean('CONTB_RECEIPT_AMT'), max('CONTB_RECEIPT_AMT')).\\\n",
    "        orderBy('avg(CONTB_RECEIPT_AMT)', ascending=False).\\\n",
    "        show(40, False)"
   ]
  },
  {
   "cell_type": "markdown",
   "metadata": {},
   "source": [
    "### 2.5 -- Find total contribution amount per candidate"
   ]
  },
  {
   "cell_type": "code",
   "execution_count": 17,
   "metadata": {},
   "outputs": [
    {
     "name": "stdout",
     "output_type": "stream",
     "text": [
      "sorted by total contribution\n",
      "+-------------------------+----------------------+\n",
      "|CAND_NM                  |sum(CONTB_RECEIPT_AMT)|\n",
      "+-------------------------+----------------------+\n",
      "|Clinton, Hillary Rodham  |551778.94             |\n",
      "|Trump, Donald J.         |155589.45999999996    |\n",
      "|Sanders, Bernard         |124229.92999999993    |\n",
      "|Cruz, Rafael Edward 'Ted'|86151.16              |\n",
      "|Bush, Jeb                |73605.0               |\n",
      "|Rubio, Marco             |59937.0               |\n",
      "|Carson, Benjamin S.      |40804.11              |\n",
      "|Kasich, John R.          |24545.0               |\n",
      "|Christie, Christopher J. |17890.38              |\n",
      "|Walker, Scott            |9590.0                |\n",
      "|O'Malley, Martin Joseph  |8340.0                |\n",
      "|Paul, Rand               |7677.08               |\n",
      "|Graham, Lindsey O.       |6400.0                |\n",
      "|Johnson, Gary            |5084.75               |\n",
      "|Stein, Jill              |4126.0                |\n",
      "|Fiorina, Carly           |3315.0                |\n",
      "|Huckabee, Mike           |1215.0                |\n",
      "|Perry, James R. (Rick)   |1000.0                |\n",
      "|Santorum, Richard J.     |405.99                |\n",
      "|Webb, James Henry Jr.    |350.0                 |\n",
      "|Lessig, Lawrence         |300.0                 |\n",
      "|McMullin, Evan           |175.0                 |\n",
      "+-------------------------+----------------------+\n",
      "\n"
     ]
    }
   ],
   "source": [
    "from pyspark.sql.functions import min,max,mean\n",
    "\n",
    "print(\"sorted by total contribution\")\n",
    "\n",
    "pos_contribs.groupBy('CAND_NM').\\\n",
    "        sum('CONTB_RECEIPT_AMT').\\\n",
    "        orderBy('sum(CONTB_RECEIPT_AMT)', ascending=False).\\\n",
    "        show(40, False)"
   ]
  },
  {
   "cell_type": "markdown",
   "metadata": {},
   "source": [
    "## Step 3: Build Indexers"
   ]
  },
  {
   "cell_type": "code",
   "execution_count": 18,
   "metadata": {},
   "outputs": [],
   "source": [
    "from pyspark.ml.feature import StringIndexer\n",
    "\n",
    "## TODO build indexers for following categorical columns\n",
    "## CAND_NM,   CONTBR_ST,  CONTBR_EMPLOYER,  CONTBR_OCCUPATION\n",
    "\n",
    "indexer1 = StringIndexer(inputCol='CAND_NM', outputCol = \"CAND_NM_index\", handleInvalid=\"keep\")\n",
    "indexer2 = StringIndexer(inputCol='CONTBR_ST', outputCol = \"CONTBR_ST_index\", handleInvalid=\"keep\")\n",
    "indexer3 = StringIndexer(inputCol='CONTBR_EMPLOYER', outputCol = \"CONTBR_EMPLOYER_index\", handleInvalid=\"keep\")\n",
    "indexer4 = StringIndexer(inputCol='CONTBR_OCCUPATION', outputCol = \"CONTBR_OCCUPATION_index\", handleInvalid=\"keep\")\n"
   ]
  },
  {
   "cell_type": "code",
   "execution_count": 19,
   "metadata": {},
   "outputs": [
    {
     "name": "stdout",
     "output_type": "stream",
     "text": [
      "Pipeline_614337aaccd8\n"
     ]
    }
   ],
   "source": [
    "## Stash indexers into \n",
    "from pyspark.ml import Pipeline\n",
    "\n",
    "## TODO : add all indexers into stages\n",
    "pipeline = Pipeline(stages=[indexer1, indexer2, indexer3, indexer4])\n",
    "print(pipeline)"
   ]
  },
  {
   "cell_type": "code",
   "execution_count": 20,
   "metadata": {},
   "outputs": [
    {
     "name": "stdout",
     "output_type": "stream",
     "text": [
      "CPU times: user 36 ms, sys: 12 ms, total: 48 ms\n",
      "Wall time: 3.27 s\n"
     ]
    }
   ],
   "source": [
    "%%time\n",
    "## TODO : fit and transform 'pos_contribs'  through pipeline\n",
    "indexed_data = pipeline.fit(pos_contribs).transform(pos_contribs)"
   ]
  },
  {
   "cell_type": "code",
   "execution_count": 21,
   "metadata": {},
   "outputs": [
    {
     "name": "stdout",
     "output_type": "stream",
     "text": [
      "root\n",
      " |-- CAND_NM: string (nullable = true)\n",
      " |-- CONTBR_ST: string (nullable = true)\n",
      " |-- CONTBR_EMPLOYER: string (nullable = true)\n",
      " |-- CONTBR_OCCUPATION: string (nullable = true)\n",
      " |-- CONTB_RECEIPT_AMT: double (nullable = true)\n",
      " |-- CAND_NM_index: double (nullable = false)\n",
      " |-- CONTBR_ST_index: double (nullable = false)\n",
      " |-- CONTBR_EMPLOYER_index: double (nullable = false)\n",
      " |-- CONTBR_OCCUPATION_index: double (nullable = false)\n",
      "\n"
     ]
    }
   ],
   "source": [
    "indexed_data.printSchema()\n",
    "# indexed_data.show()"
   ]
  },
  {
   "cell_type": "markdown",
   "metadata": {},
   "source": [
    "### 3.1  Understand indexed values"
   ]
  },
  {
   "cell_type": "code",
   "execution_count": 22,
   "metadata": {},
   "outputs": [
    {
     "name": "stdout",
     "output_type": "stream",
     "text": [
      "+---------+---------------+-----+\n",
      "|CONTBR_ST|CONTBR_ST_index|count|\n",
      "+---------+---------------+-----+\n",
      "|       XX|           59.0|    1|\n",
      "|       FF|           58.0|    1|\n",
      "|       GU|           57.0|    1|\n",
      "|       ON|           56.0|    1|\n",
      "|       AP|           55.0|    2|\n",
      "|       VI|           54.0|    3|\n",
      "|       AE|           53.0|    7|\n",
      "|       PR|           52.0|    9|\n",
      "|       WY|           51.0|   11|\n",
      "|       SD|           50.0|   11|\n",
      "|       ND|           49.0|   12|\n",
      "|       ZZ|           48.0|   15|\n",
      "|       DE|           47.0|   25|\n",
      "|       AK|           46.0|   26|\n",
      "|       MS|           45.0|   27|\n",
      "|       WV|           44.0|   29|\n",
      "|       ID|           43.0|   37|\n",
      "|       RI|           42.0|   38|\n",
      "|       HI|           41.0|   38|\n",
      "|       MT|           40.0|   39|\n",
      "+---------+---------------+-----+\n",
      "only showing top 20 rows\n",
      "\n"
     ]
    }
   ],
   "source": [
    "# state\n",
    "indexed_data.groupBy(['CONTBR_ST', 'CONTBR_ST_index']).count()\\\n",
    "            .orderBy('CONTBR_ST_index', ascending=False).show()"
   ]
  },
  {
   "cell_type": "code",
   "execution_count": 23,
   "metadata": {},
   "outputs": [
    {
     "name": "stdout",
     "output_type": "stream",
     "text": [
      "+--------------------+---------------------+-----+\n",
      "|     CONTBR_EMPLOYER|CONTBR_EMPLOYER_index|count|\n",
      "+--------------------+---------------------+-----+\n",
      "|NONPROFIT NETWORK...|               4166.0|    1|\n",
      "|            JOTTA AS|               4165.0|    1|\n",
      "|LIGHT N LIVELY PO...|               4164.0|    1|\n",
      "|   PENTA CORPORATION|               4163.0|    1|\n",
      "|PEOPLES NATIONAL ...|               4162.0|    1|\n",
      "|HAGLETON AREA SCH...|               4161.0|    1|\n",
      "|     SUNSET PHARMACY|               4160.0|    1|\n",
      "|PRESTIGE CONCRETE...|               4159.0|    1|\n",
      "|DRIVE SMART COLORADO|               4158.0|    1|\n",
      "|           CHANDLERS|               4157.0|    1|\n",
      "|      GIBSON GUITARS|               4156.0|    1|\n",
      "|MADDIN, HAUSER, R...|               4155.0|    1|\n",
      "|        DISTRICT SUN|               4154.0|    1|\n",
      "|EPS FIELD SERVICE...|               4153.0|    1|\n",
      "|EVERETT PUBLIC SC...|               4152.0|    1|\n",
      "|ENTERTAINMENT PAR...|               4151.0|    1|\n",
      "|        INTEGRIS OKC|               4150.0|    1|\n",
      "|                BANK|               4149.0|    1|\n",
      "|                  MS|               4148.0|    1|\n",
      "|MUSICIAN/NORTH PA...|               4147.0|    1|\n",
      "+--------------------+---------------------+-----+\n",
      "only showing top 20 rows\n",
      "\n"
     ]
    }
   ],
   "source": [
    "# employer\n",
    "indexed_data.groupBy(['CONTBR_EMPLOYER', 'CONTBR_EMPLOYER_index']).count()\\\n",
    "            .orderBy('CONTBR_EMPLOYER_index', ascending=False).show()"
   ]
  },
  {
   "cell_type": "code",
   "execution_count": 24,
   "metadata": {},
   "outputs": [
    {
     "name": "stdout",
     "output_type": "stream",
     "text": [
      "+--------------------------------------+-----------------------+-----+\n",
      "|CONTBR_OCCUPATION                     |CONTBR_OCCUPATION_index|count|\n",
      "+--------------------------------------+-----------------------+-----+\n",
      "|SENIOR AIDE                           |2506.0                 |1    |\n",
      "|FORMERLY MANAGER, INVESTOR AND SHAREHO|2505.0                 |1    |\n",
      "|GLAZER                                |2504.0                 |1    |\n",
      "|ORTHODONTIST                          |2503.0                 |1    |\n",
      "|RESERVATIONS CLERK                    |2502.0                 |1    |\n",
      "|OWNER/MECHANICAL ENGINEER             |2501.0                 |1    |\n",
      "|MOBILE APP DEVELOPER                  |2500.0                 |1    |\n",
      "|TRANPORTATION SUPERVISOR              |2499.0                 |1    |\n",
      "|DIRECTOR OF LITIGATION SUPPORT        |2498.0                 |1    |\n",
      "|MORTGAGE SERVICER                     |2497.0                 |1    |\n",
      "+--------------------------------------+-----------------------+-----+\n",
      "only showing top 10 rows\n",
      "\n"
     ]
    }
   ],
   "source": [
    "# occupation\n",
    "indexed_data.groupBy(['CONTBR_OCCUPATION', 'CONTBR_OCCUPATION_index']).count()\\\n",
    "            .orderBy('CONTBR_OCCUPATION_index', ascending=False).show(10, False)"
   ]
  },
  {
   "cell_type": "markdown",
   "metadata": {},
   "source": [
    "## Step 4 -  Feature Vectors"
   ]
  },
  {
   "cell_type": "code",
   "execution_count": 25,
   "metadata": {},
   "outputs": [
    {
     "name": "stdout",
     "output_type": "stream",
     "text": [
      "root\n",
      " |-- CAND_NM: string (nullable = true)\n",
      " |-- CONTBR_ST: string (nullable = true)\n",
      " |-- CONTBR_EMPLOYER: string (nullable = true)\n",
      " |-- CONTBR_OCCUPATION: string (nullable = true)\n",
      " |-- CONTB_RECEIPT_AMT: double (nullable = true)\n",
      " |-- CAND_NM_index: double (nullable = false)\n",
      " |-- CONTBR_ST_index: double (nullable = false)\n",
      " |-- CONTBR_EMPLOYER_index: double (nullable = false)\n",
      " |-- CONTBR_OCCUPATION_index: double (nullable = false)\n",
      " |-- features: vector (nullable = true)\n",
      "\n"
     ]
    },
    {
     "data": {
      "text/html": [
       "<div>\n",
       "<style scoped>\n",
       "    .dataframe tbody tr th:only-of-type {\n",
       "        vertical-align: middle;\n",
       "    }\n",
       "\n",
       "    .dataframe tbody tr th {\n",
       "        vertical-align: top;\n",
       "    }\n",
       "\n",
       "    .dataframe thead th {\n",
       "        text-align: right;\n",
       "    }\n",
       "</style>\n",
       "<table border=\"1\" class=\"dataframe\">\n",
       "  <thead>\n",
       "    <tr style=\"text-align: right;\">\n",
       "      <th></th>\n",
       "      <th>CAND_NM</th>\n",
       "      <th>CONTBR_ST</th>\n",
       "      <th>CONTBR_EMPLOYER</th>\n",
       "      <th>CONTBR_OCCUPATION</th>\n",
       "      <th>CONTB_RECEIPT_AMT</th>\n",
       "      <th>CAND_NM_index</th>\n",
       "      <th>CONTBR_ST_index</th>\n",
       "      <th>CONTBR_EMPLOYER_index</th>\n",
       "      <th>CONTBR_OCCUPATION_index</th>\n",
       "      <th>features</th>\n",
       "    </tr>\n",
       "  </thead>\n",
       "  <tbody>\n",
       "    <tr>\n",
       "      <th>0</th>\n",
       "      <td>Clinton, Hillary Rodham</td>\n",
       "      <td>OR</td>\n",
       "      <td>N/A</td>\n",
       "      <td>RETIRED</td>\n",
       "      <td>56.30</td>\n",
       "      <td>0.0</td>\n",
       "      <td>13.0</td>\n",
       "      <td>0.0</td>\n",
       "      <td>0.0</td>\n",
       "      <td>[13.0, 0.0, 0.0]</td>\n",
       "    </tr>\n",
       "    <tr>\n",
       "      <th>1</th>\n",
       "      <td>Sanders, Bernard</td>\n",
       "      <td>KS</td>\n",
       "      <td>KCUC</td>\n",
       "      <td>PHYSICIAN</td>\n",
       "      <td>58.65</td>\n",
       "      <td>1.0</td>\n",
       "      <td>34.0</td>\n",
       "      <td>4099.0</td>\n",
       "      <td>6.0</td>\n",
       "      <td>[34.0, 4099.0, 6.0]</td>\n",
       "    </tr>\n",
       "    <tr>\n",
       "      <th>2</th>\n",
       "      <td>Trump, Donald J.</td>\n",
       "      <td>OK</td>\n",
       "      <td>DEVON ENERGY</td>\n",
       "      <td>PETROLEUM GEOLOGIST</td>\n",
       "      <td>20.00</td>\n",
       "      <td>2.0</td>\n",
       "      <td>29.0</td>\n",
       "      <td>2606.0</td>\n",
       "      <td>1844.0</td>\n",
       "      <td>[29.0, 2606.0, 1844.0]</td>\n",
       "    </tr>\n",
       "    <tr>\n",
       "      <th>3</th>\n",
       "      <td>Trump, Donald J.</td>\n",
       "      <td>VA</td>\n",
       "      <td>LEIDOS BIOMED.</td>\n",
       "      <td>MANAGER</td>\n",
       "      <td>100.00</td>\n",
       "      <td>2.0</td>\n",
       "      <td>8.0</td>\n",
       "      <td>2125.0</td>\n",
       "      <td>12.0</td>\n",
       "      <td>[8.0, 2125.0, 12.0]</td>\n",
       "    </tr>\n",
       "    <tr>\n",
       "      <th>4</th>\n",
       "      <td>Clinton, Hillary Rodham</td>\n",
       "      <td>CA</td>\n",
       "      <td>RETIRED</td>\n",
       "      <td>HUMAN RESOURCE SPECIALIST</td>\n",
       "      <td>150.00</td>\n",
       "      <td>0.0</td>\n",
       "      <td>0.0</td>\n",
       "      <td>1.0</td>\n",
       "      <td>450.0</td>\n",
       "      <td>[0.0, 1.0, 450.0]</td>\n",
       "    </tr>\n",
       "  </tbody>\n",
       "</table>\n",
       "</div>"
      ],
      "text/plain": [
       "                   CAND_NM CONTBR_ST CONTBR_EMPLOYER  \\\n",
       "0  Clinton, Hillary Rodham        OR             N/A   \n",
       "1         Sanders, Bernard        KS            KCUC   \n",
       "2         Trump, Donald J.        OK    DEVON ENERGY   \n",
       "3         Trump, Donald J.        VA  LEIDOS BIOMED.   \n",
       "4  Clinton, Hillary Rodham        CA         RETIRED   \n",
       "\n",
       "           CONTBR_OCCUPATION  CONTB_RECEIPT_AMT  CAND_NM_index  \\\n",
       "0                    RETIRED              56.30            0.0   \n",
       "1                  PHYSICIAN              58.65            1.0   \n",
       "2        PETROLEUM GEOLOGIST              20.00            2.0   \n",
       "3                    MANAGER             100.00            2.0   \n",
       "4  HUMAN RESOURCE SPECIALIST             150.00            0.0   \n",
       "\n",
       "   CONTBR_ST_index  CONTBR_EMPLOYER_index  CONTBR_OCCUPATION_index  \\\n",
       "0             13.0                    0.0                      0.0   \n",
       "1             34.0                 4099.0                      6.0   \n",
       "2             29.0                 2606.0                   1844.0   \n",
       "3              8.0                 2125.0                     12.0   \n",
       "4              0.0                    1.0                    450.0   \n",
       "\n",
       "                 features  \n",
       "0        [13.0, 0.0, 0.0]  \n",
       "1     [34.0, 4099.0, 6.0]  \n",
       "2  [29.0, 2606.0, 1844.0]  \n",
       "3     [8.0, 2125.0, 12.0]  \n",
       "4       [0.0, 1.0, 450.0]  "
      ]
     },
     "execution_count": 25,
     "metadata": {},
     "output_type": "execute_result"
    }
   ],
   "source": [
    "from pyspark.ml.feature import VectorAssembler\n",
    "\n",
    "## Create a feature vector using 'index' columns\n",
    "feature_columns = ['CONTBR_ST_index', 'CONTBR_EMPLOYER_index', 'CONTBR_OCCUPATION_index' ]\n",
    "\n",
    "assembler = VectorAssembler(inputCols= feature_columns,  outputCol=\"features\")\n",
    "feature_vector = assembler.transform(indexed_data)\n",
    "feature_vector.printSchema()\n",
    "\n",
    "feature_vector.limit(5).toPandas()"
   ]
  },
  {
   "cell_type": "markdown",
   "metadata": {},
   "source": [
    "## Step 5: Split data into training and test\n"
   ]
  },
  {
   "cell_type": "code",
   "execution_count": 26,
   "metadata": {},
   "outputs": [
    {
     "name": "stdout",
     "output_type": "stream",
     "text": [
      "training set =  6842\n",
      "testing set =  2976\n"
     ]
    }
   ],
   "source": [
    "# TODO : Split the data into training and test sets (30% held out for testing)\n",
    "(training, test) = feature_vector.randomSplit([.7 , .3])\n",
    "\n",
    "print(\"training set = \" , training.count())\n",
    "print(\"testing set = \" , test.count())"
   ]
  },
  {
   "cell_type": "markdown",
   "metadata": {},
   "source": [
    "## Step 6: Create Random Forest Model"
   ]
  },
  {
   "cell_type": "code",
   "execution_count": 27,
   "metadata": {},
   "outputs": [],
   "source": [
    "from pyspark.ml.classification import RandomForestClassifier\n",
    "\n",
    "## TODO : Create a random forest model\n",
    "##        what is the 'labelCol' ?  (Hint : CAND_NM_index)\n",
    "rf = RandomForestClassifier(labelCol=\"CAND_NM_index\", featuresCol=\"features\", numTrees=20, maxBins=50000)\n"
   ]
  },
  {
   "cell_type": "markdown",
   "metadata": {},
   "source": [
    "## 7 -  Train"
   ]
  },
  {
   "cell_type": "code",
   "execution_count": 28,
   "metadata": {},
   "outputs": [
    {
     "name": "stdout",
     "output_type": "stream",
     "text": [
      "training starting...\n",
      "training done\n",
      "RandomForestClassificationModel (uid=RandomForestClassifier_c3b648464f80) with 20 trees\n",
      "CPU times: user 24 ms, sys: 8 ms, total: 32 ms\n",
      "Wall time: 42.5 s\n"
     ]
    }
   ],
   "source": [
    "%%time\n",
    "print(\"training starting...\")\n",
    "\n",
    "## TODO : start training, using 'fit' method  on training data\n",
    "model = rf.fit(training)\n",
    "print(\"training done\")\n",
    "print (model)"
   ]
  },
  {
   "cell_type": "code",
   "execution_count": 29,
   "metadata": {},
   "outputs": [
    {
     "name": "stdout",
     "output_type": "stream",
     "text": [
      "trained on 6,842 records\n"
     ]
    }
   ],
   "source": [
    "print(\"trained on {:,} records\".format(training.count()))"
   ]
  },
  {
   "cell_type": "markdown",
   "metadata": {},
   "source": [
    "## 8 - Prediction"
   ]
  },
  {
   "cell_type": "code",
   "execution_count": 30,
   "metadata": {},
   "outputs": [
    {
     "name": "stdout",
     "output_type": "stream",
     "text": [
      "CPU times: user 8 ms, sys: 0 ns, total: 8 ms\n",
      "Wall time: 80.4 ms\n"
     ]
    }
   ],
   "source": [
    "%%time\n",
    "\n",
    "## TODO : predict on 'test' columns\n",
    "##        use 'transform' method\n",
    "predictions = model.transform(test)"
   ]
  },
  {
   "cell_type": "code",
   "execution_count": 31,
   "metadata": {},
   "outputs": [
    {
     "name": "stdout",
     "output_type": "stream",
     "text": [
      "predicted on 2,976 records\n"
     ]
    }
   ],
   "source": [
    "print(\"predicted on {:,} records\".format(test.count()))"
   ]
  },
  {
   "cell_type": "code",
   "execution_count": 32,
   "metadata": {},
   "outputs": [
    {
     "name": "stdout",
     "output_type": "stream",
     "text": [
      "+----------+-------------+--------------------+\n",
      "|prediction|CAND_NM_index|             CAND_NM|\n",
      "+----------+-------------+--------------------+\n",
      "|       0.0|          6.0|           Bush, Jeb|\n",
      "|       3.0|          4.0| Carson, Benjamin S.|\n",
      "|       2.0|          4.0| Carson, Benjamin S.|\n",
      "|       0.0|          4.0| Carson, Benjamin S.|\n",
      "|       2.0|          4.0| Carson, Benjamin S.|\n",
      "|       2.0|          4.0| Carson, Benjamin S.|\n",
      "|       2.0|          4.0| Carson, Benjamin S.|\n",
      "|       2.0|          4.0| Carson, Benjamin S.|\n",
      "|       2.0|          4.0| Carson, Benjamin S.|\n",
      "|       0.0|          0.0|Clinton, Hillary ...|\n",
      "|       0.0|          0.0|Clinton, Hillary ...|\n",
      "|       2.0|          0.0|Clinton, Hillary ...|\n",
      "|       0.0|          0.0|Clinton, Hillary ...|\n",
      "|       0.0|          0.0|Clinton, Hillary ...|\n",
      "|       2.0|          0.0|Clinton, Hillary ...|\n",
      "|       2.0|          0.0|Clinton, Hillary ...|\n",
      "|       2.0|          0.0|Clinton, Hillary ...|\n",
      "|       0.0|          0.0|Clinton, Hillary ...|\n",
      "|       2.0|          0.0|Clinton, Hillary ...|\n",
      "|       2.0|          0.0|Clinton, Hillary ...|\n",
      "+----------+-------------+--------------------+\n",
      "only showing top 20 rows\n",
      "\n"
     ]
    }
   ],
   "source": [
    "# Select example rows to display.\n",
    "predictions.sample(False, 0.1).select(\"prediction\", 'CAND_NM_index', \"CAND_NM\").show()"
   ]
  },
  {
   "cell_type": "markdown",
   "metadata": {},
   "source": [
    "## 9 - Evaluate"
   ]
  },
  {
   "cell_type": "code",
   "execution_count": 33,
   "metadata": {},
   "outputs": [],
   "source": [
    "predictions_test = model.transform(test)\n",
    "predictions_train = model.transform(training)"
   ]
  },
  {
   "cell_type": "markdown",
   "metadata": {},
   "source": [
    "### 9.1 - Acuracy\n",
    "**=> TODO: Think about the test error here?  Does it seem high?  What does that say about our model?**\n",
    "\n",
    "**=> How do we define model success?**"
   ]
  },
  {
   "cell_type": "code",
   "execution_count": 34,
   "metadata": {},
   "outputs": [
    {
     "name": "stdout",
     "output_type": "stream",
     "text": [
      "Training set accuracy =  0.6505407775504238\n",
      "Test set accuracy =  0.5053763440860215\n"
     ]
    }
   ],
   "source": [
    "from pyspark.ml.evaluation import MulticlassClassificationEvaluator\n",
    "\n",
    "evaluator = MulticlassClassificationEvaluator(labelCol=\"CAND_NM_index\", predictionCol=\"prediction\",\n",
    "                                              metricName=\"accuracy\")\n",
    "\n",
    "print(\"Training set accuracy = \" , evaluator.evaluate(predictions_train))\n",
    "print(\"Test set accuracy = \" , evaluator.evaluate(predictions_test))"
   ]
  },
  {
   "cell_type": "markdown",
   "metadata": {},
   "source": [
    "### 9.2 - Confusion Matrix"
   ]
  },
  {
   "cell_type": "markdown",
   "metadata": {},
   "source": [
    "####  Figure Out Candidate Mapping"
   ]
  },
  {
   "cell_type": "code",
   "execution_count": 35,
   "metadata": {},
   "outputs": [
    {
     "name": "stdout",
     "output_type": "stream",
     "text": [
      "+--------------------+-------------+-----+\n",
      "|             CAND_NM|CAND_NM_index|count|\n",
      "+--------------------+-------------+-----+\n",
      "|Clinton, Hillary ...|          0.0| 4618|\n",
      "|    Sanders, Bernard|          1.0| 2755|\n",
      "|    Trump, Donald J.|          2.0| 1039|\n",
      "|Cruz, Rafael Edwa...|          3.0|  706|\n",
      "| Carson, Benjamin S.|          4.0|  325|\n",
      "|        Rubio, Marco|          5.0|  129|\n",
      "|           Bush, Jeb|          6.0|   48|\n",
      "|     Kasich, John R.|          7.0|   42|\n",
      "|          Paul, Rand|          8.0|   32|\n",
      "|      Fiorina, Carly|          9.0|   27|\n",
      "|       Johnson, Gary|         10.0|   26|\n",
      "|       Walker, Scott|         11.0|   12|\n",
      "|O'Malley, Martin ...|         12.0|   12|\n",
      "|      Huckabee, Mike|         13.0|   12|\n",
      "|Christie, Christo...|         14.0|   10|\n",
      "|         Stein, Jill|         15.0|    9|\n",
      "|  Graham, Lindsey O.|         16.0|    4|\n",
      "|      McMullin, Evan|         17.0|    4|\n",
      "|Santorum, Richard J.|         18.0|    3|\n",
      "|Webb, James Henry...|         19.0|    2|\n",
      "+--------------------+-------------+-----+\n",
      "only showing top 20 rows\n",
      "\n"
     ]
    }
   ],
   "source": [
    "## Candidate Mapping\n",
    "candidate_mapping = indexed_data.groupBy(['CAND_NM', 'CAND_NM_index']).count()\n",
    "# candidate_mapping.orderBy('CAND_NM').show()\n",
    "candidate_mapping.orderBy('CAND_NM_index').show()"
   ]
  },
  {
   "cell_type": "markdown",
   "metadata": {},
   "source": [
    "#### Confusion Matrix\n",
    "\n",
    "**=>What can you conclude from the confusion matrix?**\n",
    "\n",
    "Use the list above to interpret the label.  \n",
    "\n",
    "Is our model better at predicting candidates with many donations (Clinton, Sanders), or few donations?\n",
    "\n",
    "What can you say about our model perfromance."
   ]
  },
  {
   "cell_type": "code",
   "execution_count": 36,
   "metadata": {
    "scrolled": true
   },
   "outputs": [
    {
     "data": {
      "text/html": [
       "<div>\n",
       "<style scoped>\n",
       "    .dataframe tbody tr th:only-of-type {\n",
       "        vertical-align: middle;\n",
       "    }\n",
       "\n",
       "    .dataframe tbody tr th {\n",
       "        vertical-align: top;\n",
       "    }\n",
       "\n",
       "    .dataframe thead th {\n",
       "        text-align: right;\n",
       "    }\n",
       "</style>\n",
       "<table border=\"1\" class=\"dataframe\">\n",
       "  <thead>\n",
       "    <tr style=\"text-align: right;\">\n",
       "      <th></th>\n",
       "      <th>CAND_NM</th>\n",
       "      <th>0</th>\n",
       "      <th>1</th>\n",
       "      <th>2</th>\n",
       "      <th>3</th>\n",
       "      <th>4</th>\n",
       "      <th>5</th>\n",
       "      <th>6</th>\n",
       "      <th>7</th>\n",
       "      <th>8</th>\n",
       "      <th>...</th>\n",
       "      <th>12</th>\n",
       "      <th>13</th>\n",
       "      <th>14</th>\n",
       "      <th>15</th>\n",
       "      <th>16</th>\n",
       "      <th>17</th>\n",
       "      <th>18</th>\n",
       "      <th>19</th>\n",
       "      <th>20</th>\n",
       "      <th>21</th>\n",
       "    </tr>\n",
       "  </thead>\n",
       "  <tbody>\n",
       "    <tr>\n",
       "      <th>0</th>\n",
       "      <td>Bush, Jeb</td>\n",
       "      <td>6</td>\n",
       "      <td>2</td>\n",
       "      <td>8</td>\n",
       "      <td>0</td>\n",
       "      <td>0</td>\n",
       "      <td>0</td>\n",
       "      <td>0</td>\n",
       "      <td>0</td>\n",
       "      <td>0</td>\n",
       "      <td>...</td>\n",
       "      <td>0</td>\n",
       "      <td>0</td>\n",
       "      <td>0</td>\n",
       "      <td>0</td>\n",
       "      <td>0</td>\n",
       "      <td>0</td>\n",
       "      <td>0</td>\n",
       "      <td>0</td>\n",
       "      <td>0</td>\n",
       "      <td>0</td>\n",
       "    </tr>\n",
       "    <tr>\n",
       "      <th>1</th>\n",
       "      <td>Carson, Benjamin S.</td>\n",
       "      <td>7</td>\n",
       "      <td>16</td>\n",
       "      <td>67</td>\n",
       "      <td>14</td>\n",
       "      <td>0</td>\n",
       "      <td>0</td>\n",
       "      <td>0</td>\n",
       "      <td>0</td>\n",
       "      <td>0</td>\n",
       "      <td>...</td>\n",
       "      <td>0</td>\n",
       "      <td>0</td>\n",
       "      <td>0</td>\n",
       "      <td>0</td>\n",
       "      <td>0</td>\n",
       "      <td>0</td>\n",
       "      <td>0</td>\n",
       "      <td>0</td>\n",
       "      <td>0</td>\n",
       "      <td>0</td>\n",
       "    </tr>\n",
       "    <tr>\n",
       "      <th>2</th>\n",
       "      <td>Christie, Christopher J.</td>\n",
       "      <td>0</td>\n",
       "      <td>1</td>\n",
       "      <td>0</td>\n",
       "      <td>0</td>\n",
       "      <td>0</td>\n",
       "      <td>0</td>\n",
       "      <td>0</td>\n",
       "      <td>0</td>\n",
       "      <td>0</td>\n",
       "      <td>...</td>\n",
       "      <td>0</td>\n",
       "      <td>0</td>\n",
       "      <td>0</td>\n",
       "      <td>0</td>\n",
       "      <td>0</td>\n",
       "      <td>0</td>\n",
       "      <td>0</td>\n",
       "      <td>0</td>\n",
       "      <td>0</td>\n",
       "      <td>0</td>\n",
       "    </tr>\n",
       "    <tr>\n",
       "      <th>3</th>\n",
       "      <td>Clinton, Hillary Rodham</td>\n",
       "      <td>792</td>\n",
       "      <td>112</td>\n",
       "      <td>463</td>\n",
       "      <td>17</td>\n",
       "      <td>0</td>\n",
       "      <td>0</td>\n",
       "      <td>0</td>\n",
       "      <td>0</td>\n",
       "      <td>0</td>\n",
       "      <td>...</td>\n",
       "      <td>0</td>\n",
       "      <td>0</td>\n",
       "      <td>0</td>\n",
       "      <td>0</td>\n",
       "      <td>0</td>\n",
       "      <td>0</td>\n",
       "      <td>0</td>\n",
       "      <td>0</td>\n",
       "      <td>0</td>\n",
       "      <td>0</td>\n",
       "    </tr>\n",
       "    <tr>\n",
       "      <th>4</th>\n",
       "      <td>Cruz, Rafael Edward 'Ted'</td>\n",
       "      <td>28</td>\n",
       "      <td>43</td>\n",
       "      <td>139</td>\n",
       "      <td>15</td>\n",
       "      <td>0</td>\n",
       "      <td>0</td>\n",
       "      <td>0</td>\n",
       "      <td>0</td>\n",
       "      <td>0</td>\n",
       "      <td>...</td>\n",
       "      <td>0</td>\n",
       "      <td>0</td>\n",
       "      <td>0</td>\n",
       "      <td>0</td>\n",
       "      <td>0</td>\n",
       "      <td>0</td>\n",
       "      <td>0</td>\n",
       "      <td>0</td>\n",
       "      <td>0</td>\n",
       "      <td>0</td>\n",
       "    </tr>\n",
       "    <tr>\n",
       "      <th>5</th>\n",
       "      <td>Fiorina, Carly</td>\n",
       "      <td>1</td>\n",
       "      <td>2</td>\n",
       "      <td>4</td>\n",
       "      <td>0</td>\n",
       "      <td>0</td>\n",
       "      <td>0</td>\n",
       "      <td>0</td>\n",
       "      <td>0</td>\n",
       "      <td>0</td>\n",
       "      <td>...</td>\n",
       "      <td>0</td>\n",
       "      <td>0</td>\n",
       "      <td>0</td>\n",
       "      <td>0</td>\n",
       "      <td>0</td>\n",
       "      <td>0</td>\n",
       "      <td>0</td>\n",
       "      <td>0</td>\n",
       "      <td>0</td>\n",
       "      <td>0</td>\n",
       "    </tr>\n",
       "    <tr>\n",
       "      <th>6</th>\n",
       "      <td>Graham, Lindsey O.</td>\n",
       "      <td>1</td>\n",
       "      <td>0</td>\n",
       "      <td>1</td>\n",
       "      <td>0</td>\n",
       "      <td>0</td>\n",
       "      <td>0</td>\n",
       "      <td>0</td>\n",
       "      <td>0</td>\n",
       "      <td>0</td>\n",
       "      <td>...</td>\n",
       "      <td>0</td>\n",
       "      <td>0</td>\n",
       "      <td>0</td>\n",
       "      <td>0</td>\n",
       "      <td>0</td>\n",
       "      <td>0</td>\n",
       "      <td>0</td>\n",
       "      <td>0</td>\n",
       "      <td>0</td>\n",
       "      <td>0</td>\n",
       "    </tr>\n",
       "    <tr>\n",
       "      <th>7</th>\n",
       "      <td>Huckabee, Mike</td>\n",
       "      <td>3</td>\n",
       "      <td>0</td>\n",
       "      <td>4</td>\n",
       "      <td>0</td>\n",
       "      <td>0</td>\n",
       "      <td>0</td>\n",
       "      <td>0</td>\n",
       "      <td>0</td>\n",
       "      <td>0</td>\n",
       "      <td>...</td>\n",
       "      <td>0</td>\n",
       "      <td>0</td>\n",
       "      <td>0</td>\n",
       "      <td>0</td>\n",
       "      <td>0</td>\n",
       "      <td>0</td>\n",
       "      <td>0</td>\n",
       "      <td>0</td>\n",
       "      <td>0</td>\n",
       "      <td>0</td>\n",
       "    </tr>\n",
       "    <tr>\n",
       "      <th>8</th>\n",
       "      <td>Johnson, Gary</td>\n",
       "      <td>3</td>\n",
       "      <td>0</td>\n",
       "      <td>5</td>\n",
       "      <td>0</td>\n",
       "      <td>0</td>\n",
       "      <td>0</td>\n",
       "      <td>0</td>\n",
       "      <td>0</td>\n",
       "      <td>0</td>\n",
       "      <td>...</td>\n",
       "      <td>0</td>\n",
       "      <td>0</td>\n",
       "      <td>0</td>\n",
       "      <td>0</td>\n",
       "      <td>0</td>\n",
       "      <td>0</td>\n",
       "      <td>0</td>\n",
       "      <td>0</td>\n",
       "      <td>0</td>\n",
       "      <td>0</td>\n",
       "    </tr>\n",
       "    <tr>\n",
       "      <th>9</th>\n",
       "      <td>Kasich, John R.</td>\n",
       "      <td>5</td>\n",
       "      <td>1</td>\n",
       "      <td>6</td>\n",
       "      <td>1</td>\n",
       "      <td>0</td>\n",
       "      <td>0</td>\n",
       "      <td>0</td>\n",
       "      <td>0</td>\n",
       "      <td>0</td>\n",
       "      <td>...</td>\n",
       "      <td>0</td>\n",
       "      <td>0</td>\n",
       "      <td>0</td>\n",
       "      <td>0</td>\n",
       "      <td>0</td>\n",
       "      <td>0</td>\n",
       "      <td>0</td>\n",
       "      <td>0</td>\n",
       "      <td>0</td>\n",
       "      <td>0</td>\n",
       "    </tr>\n",
       "    <tr>\n",
       "      <th>10</th>\n",
       "      <td>McMullin, Evan</td>\n",
       "      <td>1</td>\n",
       "      <td>0</td>\n",
       "      <td>0</td>\n",
       "      <td>0</td>\n",
       "      <td>0</td>\n",
       "      <td>0</td>\n",
       "      <td>0</td>\n",
       "      <td>0</td>\n",
       "      <td>0</td>\n",
       "      <td>...</td>\n",
       "      <td>0</td>\n",
       "      <td>0</td>\n",
       "      <td>0</td>\n",
       "      <td>0</td>\n",
       "      <td>0</td>\n",
       "      <td>0</td>\n",
       "      <td>0</td>\n",
       "      <td>0</td>\n",
       "      <td>0</td>\n",
       "      <td>0</td>\n",
       "    </tr>\n",
       "    <tr>\n",
       "      <th>11</th>\n",
       "      <td>O'Malley, Martin Joseph</td>\n",
       "      <td>0</td>\n",
       "      <td>0</td>\n",
       "      <td>3</td>\n",
       "      <td>0</td>\n",
       "      <td>0</td>\n",
       "      <td>0</td>\n",
       "      <td>0</td>\n",
       "      <td>0</td>\n",
       "      <td>0</td>\n",
       "      <td>...</td>\n",
       "      <td>0</td>\n",
       "      <td>0</td>\n",
       "      <td>0</td>\n",
       "      <td>0</td>\n",
       "      <td>0</td>\n",
       "      <td>0</td>\n",
       "      <td>0</td>\n",
       "      <td>0</td>\n",
       "      <td>0</td>\n",
       "      <td>0</td>\n",
       "    </tr>\n",
       "    <tr>\n",
       "      <th>12</th>\n",
       "      <td>Paul, Rand</td>\n",
       "      <td>0</td>\n",
       "      <td>3</td>\n",
       "      <td>2</td>\n",
       "      <td>1</td>\n",
       "      <td>0</td>\n",
       "      <td>0</td>\n",
       "      <td>0</td>\n",
       "      <td>0</td>\n",
       "      <td>0</td>\n",
       "      <td>...</td>\n",
       "      <td>0</td>\n",
       "      <td>0</td>\n",
       "      <td>0</td>\n",
       "      <td>0</td>\n",
       "      <td>0</td>\n",
       "      <td>0</td>\n",
       "      <td>0</td>\n",
       "      <td>0</td>\n",
       "      <td>0</td>\n",
       "      <td>0</td>\n",
       "    </tr>\n",
       "    <tr>\n",
       "      <th>13</th>\n",
       "      <td>Rubio, Marco</td>\n",
       "      <td>5</td>\n",
       "      <td>2</td>\n",
       "      <td>29</td>\n",
       "      <td>1</td>\n",
       "      <td>0</td>\n",
       "      <td>0</td>\n",
       "      <td>0</td>\n",
       "      <td>0</td>\n",
       "      <td>0</td>\n",
       "      <td>...</td>\n",
       "      <td>0</td>\n",
       "      <td>0</td>\n",
       "      <td>0</td>\n",
       "      <td>0</td>\n",
       "      <td>0</td>\n",
       "      <td>0</td>\n",
       "      <td>0</td>\n",
       "      <td>0</td>\n",
       "      <td>0</td>\n",
       "      <td>0</td>\n",
       "    </tr>\n",
       "    <tr>\n",
       "      <th>14</th>\n",
       "      <td>Sanders, Bernard</td>\n",
       "      <td>121</td>\n",
       "      <td>451</td>\n",
       "      <td>257</td>\n",
       "      <td>16</td>\n",
       "      <td>0</td>\n",
       "      <td>0</td>\n",
       "      <td>0</td>\n",
       "      <td>0</td>\n",
       "      <td>0</td>\n",
       "      <td>...</td>\n",
       "      <td>0</td>\n",
       "      <td>0</td>\n",
       "      <td>0</td>\n",
       "      <td>0</td>\n",
       "      <td>0</td>\n",
       "      <td>0</td>\n",
       "      <td>0</td>\n",
       "      <td>0</td>\n",
       "      <td>0</td>\n",
       "      <td>0</td>\n",
       "    </tr>\n",
       "    <tr>\n",
       "      <th>15</th>\n",
       "      <td>Santorum, Richard J.</td>\n",
       "      <td>0</td>\n",
       "      <td>0</td>\n",
       "      <td>2</td>\n",
       "      <td>0</td>\n",
       "      <td>0</td>\n",
       "      <td>0</td>\n",
       "      <td>0</td>\n",
       "      <td>0</td>\n",
       "      <td>0</td>\n",
       "      <td>...</td>\n",
       "      <td>0</td>\n",
       "      <td>0</td>\n",
       "      <td>0</td>\n",
       "      <td>0</td>\n",
       "      <td>0</td>\n",
       "      <td>0</td>\n",
       "      <td>0</td>\n",
       "      <td>0</td>\n",
       "      <td>0</td>\n",
       "      <td>0</td>\n",
       "    </tr>\n",
       "    <tr>\n",
       "      <th>16</th>\n",
       "      <td>Stein, Jill</td>\n",
       "      <td>0</td>\n",
       "      <td>0</td>\n",
       "      <td>1</td>\n",
       "      <td>0</td>\n",
       "      <td>0</td>\n",
       "      <td>0</td>\n",
       "      <td>0</td>\n",
       "      <td>0</td>\n",
       "      <td>0</td>\n",
       "      <td>...</td>\n",
       "      <td>0</td>\n",
       "      <td>0</td>\n",
       "      <td>0</td>\n",
       "      <td>0</td>\n",
       "      <td>0</td>\n",
       "      <td>0</td>\n",
       "      <td>0</td>\n",
       "      <td>0</td>\n",
       "      <td>0</td>\n",
       "      <td>0</td>\n",
       "    </tr>\n",
       "    <tr>\n",
       "      <th>17</th>\n",
       "      <td>Trump, Donald J.</td>\n",
       "      <td>44</td>\n",
       "      <td>15</td>\n",
       "      <td>246</td>\n",
       "      <td>4</td>\n",
       "      <td>0</td>\n",
       "      <td>0</td>\n",
       "      <td>0</td>\n",
       "      <td>0</td>\n",
       "      <td>0</td>\n",
       "      <td>...</td>\n",
       "      <td>0</td>\n",
       "      <td>0</td>\n",
       "      <td>0</td>\n",
       "      <td>0</td>\n",
       "      <td>0</td>\n",
       "      <td>0</td>\n",
       "      <td>0</td>\n",
       "      <td>0</td>\n",
       "      <td>0</td>\n",
       "      <td>0</td>\n",
       "    </tr>\n",
       "    <tr>\n",
       "      <th>18</th>\n",
       "      <td>Walker, Scott</td>\n",
       "      <td>1</td>\n",
       "      <td>1</td>\n",
       "      <td>1</td>\n",
       "      <td>0</td>\n",
       "      <td>0</td>\n",
       "      <td>0</td>\n",
       "      <td>0</td>\n",
       "      <td>0</td>\n",
       "      <td>0</td>\n",
       "      <td>...</td>\n",
       "      <td>0</td>\n",
       "      <td>0</td>\n",
       "      <td>0</td>\n",
       "      <td>0</td>\n",
       "      <td>0</td>\n",
       "      <td>0</td>\n",
       "      <td>0</td>\n",
       "      <td>0</td>\n",
       "      <td>0</td>\n",
       "      <td>0</td>\n",
       "    </tr>\n",
       "    <tr>\n",
       "      <th>19</th>\n",
       "      <td>Webb, James Henry Jr.</td>\n",
       "      <td>0</td>\n",
       "      <td>1</td>\n",
       "      <td>1</td>\n",
       "      <td>0</td>\n",
       "      <td>0</td>\n",
       "      <td>0</td>\n",
       "      <td>0</td>\n",
       "      <td>0</td>\n",
       "      <td>0</td>\n",
       "      <td>...</td>\n",
       "      <td>0</td>\n",
       "      <td>0</td>\n",
       "      <td>0</td>\n",
       "      <td>0</td>\n",
       "      <td>0</td>\n",
       "      <td>0</td>\n",
       "      <td>0</td>\n",
       "      <td>0</td>\n",
       "      <td>0</td>\n",
       "      <td>0</td>\n",
       "    </tr>\n",
       "  </tbody>\n",
       "</table>\n",
       "<p>20 rows × 23 columns</p>\n",
       "</div>"
      ],
      "text/plain": [
       "                      CAND_NM    0    1    2   3  4  5  6  7  8  ...  12  13  \\\n",
       "0                   Bush, Jeb    6    2    8   0  0  0  0  0  0  ...   0   0   \n",
       "1         Carson, Benjamin S.    7   16   67  14  0  0  0  0  0  ...   0   0   \n",
       "2    Christie, Christopher J.    0    1    0   0  0  0  0  0  0  ...   0   0   \n",
       "3     Clinton, Hillary Rodham  792  112  463  17  0  0  0  0  0  ...   0   0   \n",
       "4   Cruz, Rafael Edward 'Ted'   28   43  139  15  0  0  0  0  0  ...   0   0   \n",
       "5              Fiorina, Carly    1    2    4   0  0  0  0  0  0  ...   0   0   \n",
       "6          Graham, Lindsey O.    1    0    1   0  0  0  0  0  0  ...   0   0   \n",
       "7              Huckabee, Mike    3    0    4   0  0  0  0  0  0  ...   0   0   \n",
       "8               Johnson, Gary    3    0    5   0  0  0  0  0  0  ...   0   0   \n",
       "9             Kasich, John R.    5    1    6   1  0  0  0  0  0  ...   0   0   \n",
       "10             McMullin, Evan    1    0    0   0  0  0  0  0  0  ...   0   0   \n",
       "11    O'Malley, Martin Joseph    0    0    3   0  0  0  0  0  0  ...   0   0   \n",
       "12                 Paul, Rand    0    3    2   1  0  0  0  0  0  ...   0   0   \n",
       "13               Rubio, Marco    5    2   29   1  0  0  0  0  0  ...   0   0   \n",
       "14           Sanders, Bernard  121  451  257  16  0  0  0  0  0  ...   0   0   \n",
       "15       Santorum, Richard J.    0    0    2   0  0  0  0  0  0  ...   0   0   \n",
       "16                Stein, Jill    0    0    1   0  0  0  0  0  0  ...   0   0   \n",
       "17           Trump, Donald J.   44   15  246   4  0  0  0  0  0  ...   0   0   \n",
       "18              Walker, Scott    1    1    1   0  0  0  0  0  0  ...   0   0   \n",
       "19      Webb, James Henry Jr.    0    1    1   0  0  0  0  0  0  ...   0   0   \n",
       "\n",
       "    14  15  16  17  18  19  20  21  \n",
       "0    0   0   0   0   0   0   0   0  \n",
       "1    0   0   0   0   0   0   0   0  \n",
       "2    0   0   0   0   0   0   0   0  \n",
       "3    0   0   0   0   0   0   0   0  \n",
       "4    0   0   0   0   0   0   0   0  \n",
       "5    0   0   0   0   0   0   0   0  \n",
       "6    0   0   0   0   0   0   0   0  \n",
       "7    0   0   0   0   0   0   0   0  \n",
       "8    0   0   0   0   0   0   0   0  \n",
       "9    0   0   0   0   0   0   0   0  \n",
       "10   0   0   0   0   0   0   0   0  \n",
       "11   0   0   0   0   0   0   0   0  \n",
       "12   0   0   0   0   0   0   0   0  \n",
       "13   0   0   0   0   0   0   0   0  \n",
       "14   0   0   0   0   0   0   0   0  \n",
       "15   0   0   0   0   0   0   0   0  \n",
       "16   0   0   0   0   0   0   0   0  \n",
       "17   0   0   0   0   0   0   0   0  \n",
       "18   0   0   0   0   0   0   0   0  \n",
       "19   0   0   0   0   0   0   0   0  \n",
       "\n",
       "[20 rows x 23 columns]"
      ]
     },
     "execution_count": 36,
     "metadata": {},
     "output_type": "execute_result"
    }
   ],
   "source": [
    "cm = predictions.groupBy('CAND_NM').pivot('prediction', range(0,22)).count().na.fill(0).orderBy('CAND_NM')\n",
    "cm.toPandas()"
   ]
  },
  {
   "cell_type": "markdown",
   "metadata": {},
   "source": [
    "## Step 10 -  Print the feature importanes\n",
    "\n",
    "**=> TODO Compare the relative weight of the feature importances?**"
   ]
  },
  {
   "cell_type": "code",
   "execution_count": 37,
   "metadata": {},
   "outputs": [
    {
     "name": "stdout",
     "output_type": "stream",
     "text": [
      "[0.03339745 0.63959505 0.32700749]\n",
      "                      cols  importance\n",
      "0          CONTBR_ST_index    0.033397\n",
      "1    CONTBR_EMPLOYER_index    0.639595\n",
      "2  CONTBR_OCCUPATION_index    0.327007\n"
     ]
    },
    {
     "data": {
      "text/html": [
       "<div>\n",
       "<style scoped>\n",
       "    .dataframe tbody tr th:only-of-type {\n",
       "        vertical-align: middle;\n",
       "    }\n",
       "\n",
       "    .dataframe tbody tr th {\n",
       "        vertical-align: top;\n",
       "    }\n",
       "\n",
       "    .dataframe thead th {\n",
       "        text-align: right;\n",
       "    }\n",
       "</style>\n",
       "<table border=\"1\" class=\"dataframe\">\n",
       "  <thead>\n",
       "    <tr style=\"text-align: right;\">\n",
       "      <th></th>\n",
       "      <th>cols</th>\n",
       "      <th>importance</th>\n",
       "    </tr>\n",
       "  </thead>\n",
       "  <tbody>\n",
       "    <tr>\n",
       "      <th>1</th>\n",
       "      <td>CONTBR_EMPLOYER_index</td>\n",
       "      <td>0.639595</td>\n",
       "    </tr>\n",
       "    <tr>\n",
       "      <th>2</th>\n",
       "      <td>CONTBR_OCCUPATION_index</td>\n",
       "      <td>0.327007</td>\n",
       "    </tr>\n",
       "    <tr>\n",
       "      <th>0</th>\n",
       "      <td>CONTBR_ST_index</td>\n",
       "      <td>0.033397</td>\n",
       "    </tr>\n",
       "  </tbody>\n",
       "</table>\n",
       "</div>"
      ],
      "text/plain": [
       "                      cols  importance\n",
       "1    CONTBR_EMPLOYER_index    0.639595\n",
       "2  CONTBR_OCCUPATION_index    0.327007\n",
       "0          CONTBR_ST_index    0.033397"
      ]
     },
     "execution_count": 37,
     "metadata": {},
     "output_type": "execute_result"
    }
   ],
   "source": [
    "import pandas as pd\n",
    "\n",
    "imp = model.featureImportances.toArray()\n",
    "print(imp)\n",
    "df = pd.DataFrame({'cols': feature_columns, 'importance':imp})\n",
    "print(df)\n",
    "df.sort_values(by=['importance'], ascending=False)"
   ]
  },
  {
   "cell_type": "markdown",
   "metadata": {},
   "source": [
    "## Conclusion: Most important Fields\n",
    "\n",
    "1. Employer\n",
    "2. Occupation\n",
    "3. State\n",
    "\n",
    "Other fields not significant\n",
    "\n",
    "**=> TODO Compare the relative weight of the feature importances?**\n",
    "\n",
    "**=> BONUS: Do a Pearson Correlation Matrix of the variables to the outcome, to see correlation**\n",
    "\n"
   ]
  },
  {
   "cell_type": "code",
   "execution_count": 39,
   "metadata": {},
   "outputs": [
    {
     "data": {
      "text/plain": [
       "[]"
      ]
     },
     "execution_count": 39,
     "metadata": {},
     "output_type": "execute_result"
    },
    {
     "data": {
      "image/png": "[encoded data removed]",
      "text/plain": [
       "<Figure size 432x288 with 2 Axes>"
      ]
     },
     "metadata": {
      "needs_background": "light"
     },
     "output_type": "display_data"
    }
   ],
   "source": [
    "import seaborn as sns\n",
    "\n",
    "cm_pd = cm.toPandas()\n",
    "cm_pd.set_index(\"CAND_NM\", inplace=True)\n",
    "# print(cm_pd)\n",
    "\n",
    "# colormaps : cmap=\"YlGnBu\" , cmap=\"Greens\", cmap=\"Blues\",  cmap=\"Reds\"\n",
    "sns.heatmap(cm_pd, annot=True,  fmt=',', cmap=\"Blues\").plot()"
   ]
  },
  {
   "cell_type": "markdown",
   "metadata": {},
   "source": [
    "## BONUS : Running on full dataset\n",
    "\n",
    "**Use the dowload script**\n",
    "\n",
    "```bash\n",
    "$ cd   ~/data/presidential_election_contribs\n",
    "$ ./download-data.sh\n",
    "```\n",
    "\n",
    "This will download full dataset.\n",
    "\n",
    "As we run on larger dataset, the execution will take longer and Jupyter notebook might time out.  So let's run this in command line / script mode\n",
    "\n",
    "Download the Jupyter notebook as Python file (File --> Download as --> Python)\n",
    "\n",
    "```bash\n",
    "# run the downloaded python script as follows\n",
    "$    time  ~/spark/bin/spark-submit    --master local[*]  random-forest-2-election-classification.py 2> logs\n",
    "\n",
    "```\n",
    "\n",
    "Watch the output\n"
   ]
  },
  {
   "cell_type": "code",
   "execution_count": null,
   "metadata": {},
   "outputs": [],
   "source": []
  }
 ],
 "metadata": {
  "anaconda-cloud": {},
  "kernelspec": {
   "display_name": "Python 3",
   "language": "python",
   "name": "python3"
  },
  "language_info": {
   "codemirror_mode": {
    "name": "ipython",
    "version": 3
   },
   "file_extension": ".py",
   "mimetype": "text/x-python",
   "name": "python",
   "nbconvert_exporter": "python",
   "pygments_lexer": "ipython3",
   "version": "3.6.8"
  }
 },
 "nbformat": 4,
 "nbformat_minor": 2
}
