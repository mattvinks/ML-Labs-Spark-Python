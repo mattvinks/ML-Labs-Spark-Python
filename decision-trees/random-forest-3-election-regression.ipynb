{
 "cells": [
  {
   "cell_type": "markdown",
   "metadata": {},
   "source": [
    "# Random Forests: Presidential Contributions\n",
    "\n",
    "Let's look at a random forests models for the presidential dataset.\n",
    "\n",
    "We are going to try to predict two variables:\n",
    "\n",
    "1. Amount of contribution (regression)\n",
    "2. Candidate of Contribution (classification)."
   ]
  },
  {
   "cell_type": "code",
   "execution_count": 1,
   "metadata": {},
   "outputs": [
    {
     "name": "stdout",
     "output_type": "stream",
     "text": [
      "Initializing Spark...\n",
      "Spark found in :  /home/ubuntu/spark\n",
      "Spark config:\n",
      "\t spark.app.name=TestApp\n",
      "\tspark.master=local[*]\n",
      "\texecutor.memory=2g\n",
      "\tspark.sql.warehouse.dir=/tmp/tmp4nenodek\n",
      "\tsome_property=some_value\n",
      "Spark UI running on port 4043\n"
     ]
    },
    {
     "data": {
      "text/html": [
       "\n",
       "            <div>\n",
       "                <p><b>SparkSession - in-memory</b></p>\n",
       "                \n",
       "        <div>\n",
       "            <p><b>SparkContext</b></p>\n",
       "\n",
       "            <p><a href=\"http://ip-172-16-0-107.ec2.internal:4043\">Spark UI</a></p>\n",
       "\n",
       "            <dl>\n",
       "              <dt>Version</dt>\n",
       "                <dd><code>v2.4.0</code></dd>\n",
       "              <dt>Master</dt>\n",
       "                <dd><code>local[*]</code></dd>\n",
       "              <dt>AppName</dt>\n",
       "                <dd><code>TestApp</code></dd>\n",
       "            </dl>\n",
       "        </div>\n",
       "        \n",
       "            </div>\n",
       "        "
      ],
      "text/plain": [
       "<pyspark.sql.session.SparkSession at 0x7f5c706f9240>"
      ]
     },
     "execution_count": 1,
     "metadata": {},
     "output_type": "execute_result"
    }
   ],
   "source": [
    "# initialize Spark Session\n",
    "import os\n",
    "import sys\n",
    "top_dir = os.path.abspath(os.path.join(os.getcwd(), \"../\"))\n",
    "if top_dir not in sys.path:\n",
    "    sys.path.append(top_dir)\n",
    "\n",
    "from init_spark import init_spark\n",
    "spark = init_spark()\n",
    "spark"
   ]
  },
  {
   "cell_type": "code",
   "execution_count": 2,
   "metadata": {
    "collapsed": true
   },
   "outputs": [],
   "source": [
    "from pyspark.ml.feature import VectorAssembler\n",
    "from pyspark.ml.feature import StandardScaler\n",
    "from pyspark.ml import Pipeline\n",
    "from pyspark.ml.feature import StringIndexer, VectorIndexer\n",
    "from pyspark.ml.evaluation import MulticlassClassificationEvaluator\n",
    "from pyspark.sql.functions import isnan, when, count, col, split, trim, countDistinct, abs \n",
    "from pyspark.ml.regression import RandomForestRegressor\n",
    "from pyspark.ml.classification import RandomForestClassifier\n",
    "from pyspark.ml.feature import VectorIndexer\n",
    "from pyspark.ml.evaluation import RegressionEvaluator\n",
    "from pyspark.sql.types import IntegerType\n",
    "\n",
    "import pyspark.sql.functions"
   ]
  },
  {
   "cell_type": "code",
   "execution_count": 4,
   "metadata": {
    "collapsed": true
   },
   "outputs": [],
   "source": [
    "dataset = spark.read.csv(\"/data/presidential_election_contribs/2016/2016-with-names.csv\", header=True, inferSchema=True)\n"
   ]
  },
  {
   "cell_type": "code",
   "execution_count": 5,
   "metadata": {},
   "outputs": [
    {
     "name": "stdout",
     "output_type": "stream",
     "text": [
      "+-----------------+--------------------+------------+------------+---------+---------+-----------+--------------------+--------------------+\n",
      "|CONTB_RECEIPT_AMT|             CAND_NM|    LASTNAME|   FIRSTNAME|CONTBR_ST|      LAT|        LNG|     CONTBR_EMPLOYER|   CONTBR_OCCUPATION|\n",
      "+-----------------+--------------------+------------+------------+---------+---------+-----------+--------------------+--------------------+\n",
      "|              5.0|Clinton, Hillary ...|      RIGNEY|     FARRELL|       CA|33.147294|-117.322181|       SELF-EMPLOYED|          CONTRACTOR|\n",
      "|            100.0|    Sanders, Bernard|      ARNOLD|         IRA|       CA| 38.34642|-122.694127|                NONE|        NOT EMPLOYED|\n",
      "|             24.0|Cruz, Rafael Edwa...|    VANDOREN|HELEN E. MS.|       MD|39.002745| -76.931721|             RETIRED|             RETIRED|\n",
      "|            100.0|Clinton, Hillary ...|    RICHARDS|        MARC|       CA| 34.07041|-118.350411|       SELF-EMPLOYED|                 ART|\n",
      "|             10.0|Clinton, Hillary ...|       MOYER|      DENNIS|       CA|37.916555|-122.341233|         MARIN HONDA|WARRANTY ADMINIST...|\n",
      "|            300.0|Clinton, Hillary ...|      SNYDER|       DAVID|       OH|41.139872| -81.860559|INFORMATION REQUE...|INFORMATION REQUE...|\n",
      "|            100.0|      Huckabee, Mike|        WARD|       JAMES|       NM|34.129177|-103.299416|REQUESTED PER BES...|REQUESTED PER BES...|\n",
      "|              1.5|    Sanders, Bernard|       KELLY|      ELAINE|       MO| 39.02037| -92.296535|                NONE|        NOT EMPLOYED|\n",
      "|              5.0|    Sanders, Bernard|   UNDERWOOD|       KELSY|       MD|38.379757| -76.442883|SOUTHERN MARYLAND...|          DISPATCHER|\n",
      "|             12.0|    Trump, Donald J.|    MCCAULOU|        LILA|       AZ|31.917849|-111.019049|INFORMATION REQUE...|INFORMATION REQUE...|\n",
      "|            100.0|    Sanders, Bernard|      LOUDIN|     CYNTHIA|       IL|41.993019| -87.759627|            CNA/NNOC|     UNION ORGANIZER|\n",
      "|            250.0|    Trump, Donald J.|       JANES|       DAVID|       CA|33.634626|-117.874882|       SELF-EMPLOYED|        MANUFACTURER|\n",
      "|             3.75|Clinton, Hillary ...|ST. GERMAINE|       JULIE|       CA|37.959549|-122.283578|PACIFIC GAS & ELE...| SAFETY PROFESSIONAL|\n",
      "|             50.0|    Sanders, Bernard|  HILFENHAUS|       JAMES|       CA|34.204568|-118.326365|                NONE|        NOT EMPLOYED|\n",
      "|             27.0|    Sanders, Bernard|      MURRAY|      PAMELA|       MO|37.167533| -93.324773|CURVES FITNESS FO...|           PART-TIME|\n",
      "|              5.0|    Sanders, Bernard|       KNOTT|        RYAN|       SC|34.092634| -80.919271|                SELF|            MUSICIAN|\n",
      "|             25.0|Clinton, Hillary ...|      LAUBER|      NICOLE|       FL|27.796346| -82.628737| NICOLE LAUBER, INC.|       CEO/PRESIDENT|\n",
      "|             37.0|Clinton, Hillary ...|     WHATLEY|     MICHAEL|       DC|38.936238| -77.059981|                 N/A|             RETIRED|\n",
      "|           2700.0|Clinton, Hillary ...|       NOLAN|     KENNETH|       NY|40.798601| -73.966622|               G-III|            DESIGNER|\n",
      "|            100.0|Clinton, Hillary ...|      FISHER|        JOEL|       NC|35.986719| -78.554351|       SELF-EMPLOYED|        VETERINARIAN|\n",
      "+-----------------+--------------------+------------+------------+---------+---------+-----------+--------------------+--------------------+\n",
      "only showing top 20 rows\n",
      "\n"
     ]
    }
   ],
   "source": [
    "dataset.show()"
   ]
  },
  {
   "cell_type": "code",
   "execution_count": 6,
   "metadata": {
    "collapsed": true
   },
   "outputs": [],
   "source": [
    "\n",
    "feature_columns = ['CAND_NM', 'LASTNAME', 'FIRSTNAME', 'CONTBR_ST', 'LAT', 'LNG', 'CONTBR_EMPLOYER', \"CONTBR_OCCUPATION\"]\n",
    "numeric_columns = ['LAT', 'LNG']\n",
    "categorical_columns = ['CAND_NM', 'LASTNAME', 'FIRSTNAME', 'CONTBR_ST', 'CONTBR_EMPLOYER', \"CONTBR_OCCUPATION\"]\n",
    "categorical_index = ['CAND_NM_index', 'FIRSTNAME_index', 'LASTNAME_index', 'CONTBR_ST_index', 'CONTBR_EMPLOYER_index', \n",
    "                     \"CONTBR_OCCUPATION_index\"]\n",
    "prediction_column = ['CONTB_RECEIPT_AMT']\n"
   ]
  },
  {
   "cell_type": "code",
   "execution_count": 7,
   "metadata": {},
   "outputs": [],
   "source": [
    "indexers = [StringIndexer(inputCol=column, outputCol=column+\"_index\", handleInvalid=\"keep\").fit(dataset) for column in categorical_columns ]\n",
    "pipeline = Pipeline(stages=indexers)\n",
    "df_r = pipeline.fit(dataset).transform(dataset)"
   ]
  },
  {
   "cell_type": "code",
   "execution_count": 8,
   "metadata": {
    "collapsed": true
   },
   "outputs": [],
   "source": [
    "assembler = VectorAssembler(inputCols=numeric_columns + categorical_index, outputCol=\"features\")\n",
    "fv = assembler.transform(df_r.na.drop())"
   ]
  },
  {
   "cell_type": "code",
   "execution_count": 9,
   "metadata": {
    "collapsed": true
   },
   "outputs": [],
   "source": [
    "# Automatically identify categorical features, and index them.\n",
    "# We specify maxCategories so features with > 4 distinct values are treated as continuous.\n",
    "featureIndexer =\\\n",
    "    VectorIndexer(inputCol=\"features\", outputCol=\"indexedFeatures\").fit(fv)\n"
   ]
  },
  {
   "cell_type": "code",
   "execution_count": 10,
   "metadata": {
    "collapsed": true
   },
   "outputs": [],
   "source": [
    "\n",
    "# Split the data into training and test sets (30% held out for testing)\n",
    "(trainingData, testData) = fv.randomSplit([0.7, 0.3])\n"
   ]
  },
  {
   "cell_type": "code",
   "execution_count": 11,
   "metadata": {
    "collapsed": true
   },
   "outputs": [],
   "source": [
    "\n",
    "# Train a RandomForest model.\n",
    "rf = RandomForestRegressor(featuresCol=\"indexedFeatures\", maxBins=12000)\n",
    "\n",
    "# Chain indexer and forest in a Pipeline\n",
    "pipeline = Pipeline(stages=[featureIndexer, rf])\n"
   ]
  },
  {
   "cell_type": "code",
   "execution_count": 12,
   "metadata": {
    "collapsed": true
   },
   "outputs": [],
   "source": [
    "# Train model.  This also runs the indexers.\n",
    "\n",
    "\n",
    "trainingData = trainingData.withColumn(\"label\",trainingData.CONTB_RECEIPT_AMT)\n",
    "\n",
    "\n",
    "model = pipeline.fit(trainingData)\n",
    "\n",
    "# Make predictions.\n",
    "predictions = model.transform(testData)\n"
   ]
  },
  {
   "cell_type": "code",
   "execution_count": 13,
   "metadata": {
    "collapsed": true
   },
   "outputs": [
    {
     "name": "stdout",
     "output_type": "stream",
     "text": [
      "+-----------------+------------------+\n",
      "|CONTB_RECEIPT_AMT|        prediction|\n",
      "+-----------------+------------------+\n",
      "|              0.0| 3568.155913978495|\n",
      "|              1.0|1223.9425518382345|\n",
      "|              1.0| 3083.572690733082|\n",
      "|              1.0|2770.6230265628315|\n",
      "|              1.0| 1756.259655813835|\n",
      "|              1.0|  4137.15742913001|\n",
      "|              1.0| 4172.666666666666|\n",
      "|              1.0| 2861.940490933067|\n",
      "|              1.0| 2865.750110087921|\n",
      "|              1.0|3966.1696375234687|\n",
      "|              1.0| 3626.650473587871|\n",
      "|              1.0| 3792.937412587413|\n",
      "|              1.0|           3760.75|\n",
      "|              1.0| 2546.110432582149|\n",
      "|              1.0| 3270.453643114034|\n",
      "|              1.0|4077.1574291300103|\n",
      "|              1.0| 3865.280913978495|\n",
      "|              1.0| 2900.250806159426|\n",
      "|              1.0|3843.4818086513565|\n",
      "|              1.0|  674.579257538643|\n",
      "|              1.0|3426.4554809122224|\n",
      "|              1.0|3172.9034084504397|\n",
      "|              1.0|1667.2562603347833|\n",
      "|              1.0| 4225.168181818181|\n",
      "|              1.0| 2704.589427337627|\n",
      "|             1.43|44.114548940125964|\n",
      "|             1.67| 3161.464395802206|\n",
      "|              2.0|3982.1377226298514|\n",
      "|              2.0| 2345.031112609745|\n",
      "|              2.0|3501.0456514982206|\n",
      "|              2.0|3769.3758842940106|\n",
      "|              2.0|            4552.5|\n",
      "|              2.0| 3657.937412587413|\n",
      "|              2.4|4002.0740957966764|\n",
      "|              2.4|176.84029624336546|\n",
      "|              2.4|1325.9691596450732|\n",
      "|              2.4| 3739.007530037258|\n",
      "|              2.4| 3568.072580645162|\n",
      "|              2.4|2310.9976733488406|\n",
      "|              2.4| 3384.321898872444|\n",
      "|              2.5| 199.6911027602917|\n",
      "|              2.5|3424.8872778706805|\n",
      "|              2.5|3826.8953634085206|\n",
      "|              2.7|           4526.25|\n",
      "|              2.7| 1184.085262936727|\n",
      "|              3.0| 4145.697580645161|\n",
      "|              3.0| 74.51940325408188|\n",
      "|              3.0|3044.5928909861877|\n",
      "|              3.0| 4117.679606549364|\n",
      "|              3.0| 3429.686348743145|\n",
      "|              3.0| 4264.119047619048|\n",
      "|              3.0| 2302.702326972494|\n",
      "|              3.0|1152.7677022946896|\n",
      "|              3.0|3220.5158380003472|\n",
      "|              3.0| 4635.322580645161|\n",
      "|              3.0|4051.1696375234687|\n",
      "|              3.0| 3951.289127545328|\n",
      "|              3.0|2232.3917919164574|\n",
      "|              3.0|1488.5842768024681|\n",
      "|              3.0|2496.7931872444583|\n",
      "|              3.0| 4161.397177419354|\n",
      "|              3.0|3938.2840573286057|\n",
      "|              3.0|2910.4324809085892|\n",
      "|              3.0| 3628.907721053042|\n",
      "|              3.0| 3792.937412587413|\n",
      "|              3.0| 3006.343860087921|\n",
      "|              3.0|            4467.5|\n",
      "|              3.0| 3512.982330112319|\n",
      "|              3.0| 4153.347056878307|\n",
      "|              3.0|3977.6666666666665|\n",
      "|              3.0|2910.4324809085892|\n",
      "|             3.33| 3711.984032634033|\n",
      "|             3.33| 1930.564465135716|\n",
      "|             3.35|4013.0294276989757|\n",
      "|             3.75|3573.3316240616223|\n",
      "|             3.86|            4123.5|\n",
      "|              4.0| 4294.989247311828|\n",
      "|              4.0|            4257.5|\n",
      "|              4.0| 4010.405913978495|\n",
      "|              5.0|1163.8996900952302|\n",
      "|              5.0|3393.0834434212543|\n",
      "|              5.0|3208.9104590554402|\n",
      "|              5.0| 4000.364247311828|\n",
      "|              5.0|181.22254363217547|\n",
      "|              5.0|2784.9252195944014|\n",
      "|              5.0| 3132.799013096501|\n",
      "|              5.0| 4439.072580645161|\n",
      "|              5.0|            4957.5|\n",
      "|              5.0| 3386.194383854775|\n",
      "|              5.0|3955.8496198800217|\n",
      "|              5.0| 3710.190850815851|\n",
      "|              5.0| 4000.364247311828|\n",
      "|              5.0| 3018.010526754587|\n",
      "|              5.0|2907.6762496247557|\n",
      "|              5.0| 2791.694670677387|\n",
      "|              5.0|3658.1711309523807|\n",
      "|              5.0| 3753.447251773049|\n",
      "|              5.0| 3985.489247311828|\n",
      "|              5.0|2904.7498208678144|\n",
      "|              5.0| 4500.322580645161|\n",
      "+-----------------+------------------+\n",
      "only showing top 100 rows\n",
      "\n"
     ]
    }
   ],
   "source": [
    "\n",
    "# Select example rows to display.\n",
    "#predictions.select(\"prediction\", \"indexedLabel\", \"features\").show(5)\n",
    "\n",
    "predictions.select('CONTB_RECEIPT_AMT', 'prediction').show(100)\n"
   ]
  },
  {
   "cell_type": "code",
   "execution_count": 14,
   "metadata": {},
   "outputs": [
    {
     "name": "stdout",
     "output_type": "stream",
     "text": [
      "Root Mean Squared Error (RMSE) on test data = 3230.13\n",
      "RandomForestRegressionModel (uid=RandomForestRegressor_b12320c4496b) with 20 trees\n"
     ]
    }
   ],
   "source": [
    "\n",
    "# Select (prediction, true label) and compute test error\n",
    "evaluator = RegressionEvaluator(\n",
    "    labelCol=\"CONTB_RECEIPT_AMT\", predictionCol=\"prediction\", metricName=\"rmse\")\n",
    "rmse = evaluator.evaluate(predictions)\n",
    "print(\"Root Mean Squared Error (RMSE) on test data = %g\" % rmse)\n",
    "\n",
    "rfModel = model.stages[1]\n",
    "print(rfModel)  # summary only\n"
   ]
  },
  {
   "cell_type": "code",
   "execution_count": 15,
   "metadata": {},
   "outputs": [
    {
     "data": {
      "text/plain": [
       "SparseVector(8, {0: 0.002, 1: 0.0018, 2: 0.016, 3: 0.206, 4: 0.375, 5: 0.0182, 6: 0.321, 7: 0.0601})"
      ]
     },
     "execution_count": 15,
     "metadata": {},
     "output_type": "execute_result"
    }
   ],
   "source": [
    "rfModel.featureImportances"
   ]
  },
  {
   "cell_type": "code",
   "execution_count": 16,
   "metadata": {},
   "outputs": [
    {
     "name": "stdout",
     "output_type": "stream",
     "text": [
      "['LAT', 'LNG', 'CAND_NM', 'LASTNAME', 'FIRSTNAME', 'CONTBR_ST', 'CONTBR_EMPLOYER', 'CONTBR_OCCUPATION']\n"
     ]
    }
   ],
   "source": [
    "print(numeric_columns + categorical_columns)"
   ]
  },
  {
   "cell_type": "markdown",
   "metadata": {},
   "source": [
    "We see the following Variables in Order of Importnace\n",
    "1. CONTBR_ST\n",
    "2. LASTNAME\n",
    "3. FIRSTNAME\n",
    "4. CONTBR_EMPLOYER\n",
    "5. CONTBR_OCCUPATION\n",
    "\n",
    "LAT, LONG, and CAND_NM had virtually no impact."
   ]
  },
  {
   "cell_type": "code",
   "execution_count": 17,
   "metadata": {
    "collapsed": true
   },
   "outputs": [
    {
     "name": "stdout",
     "output_type": "stream",
     "text": [
      "Root Mean Squared Error (RMSE) on test data = -66.5649\n"
     ]
    }
   ],
   "source": [
    "\n",
    "# Select (prediction, true label) and compute test error\n",
    "evaluator = RegressionEvaluator(\n",
    "    labelCol=\"CONTB_RECEIPT_AMT\", predictionCol=\"prediction\", metricName=\"r2\")\n",
    "r2 = evaluator.evaluate(predictions)\n",
    "print(\"Root Mean Squared Error (RMSE) on test data = %g\" % r2)\n",
    "\n"
   ]
  },
  {
   "cell_type": "markdown",
   "metadata": {},
   "source": [
    "Negative R squared means our data fit worse than the null hypothesis."
   ]
  }
 ],
 "metadata": {
  "anaconda-cloud": {},
  "kernelspec": {
   "display_name": "Python 3",
   "language": "python",
   "name": "python3"
  },
  "language_info": {
   "codemirror_mode": {
    "name": "ipython",
    "version": 3
   },
   "file_extension": ".py",
   "mimetype": "text/x-python",
   "name": "python",
   "nbconvert_exporter": "python",
   "pygments_lexer": "ipython3",
   "version": "3.6.8"
  }
 },
 "nbformat": 4,
 "nbformat_minor": 2
}
