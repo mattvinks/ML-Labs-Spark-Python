{
 "cells": [
  {
   "cell_type": "markdown",
   "metadata": {},
   "source": [
    "# K-Means Clustering : Cars Data\n",
    "\n",
    "Let's look at a clustering example in Spark MLLib.\n",
    "\n",
    "Here, we are going to load the mtcars dataset. This has some stats on different models of cars.  Here, we will load the CSV file as a spark dataframe, and view it.\n",
    "\n",
    "And here is a [spreadsheet](WSSSE-versus-k.xlsx) for you record K and WSSSE."
   ]
  },
  {
   "cell_type": "markdown",
   "metadata": {},
   "source": [
    "## Step 1: Load the Data"
   ]
  },
  {
   "cell_type": "code",
   "execution_count": 1,
   "metadata": {
    "collapsed": true
   },
   "outputs": [
    {
     "name": "stdout",
     "output_type": "stream",
     "text": [
      "Initializing Spark...\n",
      "Spark found in :  /home/ubuntu/spark\n",
      "Spark config:\n",
      "\t spark.app.name=TestApp\n",
      "\tspark.master=local[*]\n",
      "\texecutor.memory=2g\n",
      "\tspark.sql.warehouse.dir=/tmp/tmpp8stnmgb\n",
      "\tsome_property=some_value\n",
      "Spark UI running on port 4040\n"
     ]
    },
    {
     "data": {
      "text/html": [
       "\n",
       "            <div>\n",
       "                <p><b>SparkSession - in-memory</b></p>\n",
       "                \n",
       "        <div>\n",
       "            <p><b>SparkContext</b></p>\n",
       "\n",
       "            <p><a href=\"http://ip-172-16-0-107.ec2.internal:4040\">Spark UI</a></p>\n",
       "\n",
       "            <dl>\n",
       "              <dt>Version</dt>\n",
       "                <dd><code>v2.4.0</code></dd>\n",
       "              <dt>Master</dt>\n",
       "                <dd><code>local[*]</code></dd>\n",
       "              <dt>AppName</dt>\n",
       "                <dd><code>TestApp</code></dd>\n",
       "            </dl>\n",
       "        </div>\n",
       "        \n",
       "            </div>\n",
       "        "
      ],
      "text/plain": [
       "<pyspark.sql.session.SparkSession at 0x7f51f85632b0>"
      ]
     },
     "execution_count": 1,
     "metadata": {},
     "output_type": "execute_result"
    }
   ],
   "source": [
    "# initialize Spark Session\n",
    "import os\n",
    "import sys\n",
    "top_dir = os.path.abspath(os.path.join(os.getcwd(), \"../\"))\n",
    "if top_dir not in sys.path:\n",
    "    sys.path.append(top_dir)\n",
    "\n",
    "from init_spark import init_spark\n",
    "spark = init_spark()\n",
    "spark"
   ]
  },
  {
   "cell_type": "code",
   "execution_count": 2,
   "metadata": {
    "collapsed": true
   },
   "outputs": [],
   "source": [
    "dataset = spark.read.csv(\"/data/cars/mtcars_header.csv\", header=True, inferSchema=True)"
   ]
  },
  {
   "cell_type": "code",
   "execution_count": 3,
   "metadata": {
    "collapsed": true,
    "scrolled": true
   },
   "outputs": [
    {
     "name": "stdout",
     "output_type": "stream",
     "text": [
      "+-------------------+----+---+-----+---+----+-----+-----+---+---+----+----+\n",
      "|              model| mpg|cyl| disp| hp|drat|   wt| qsec| vs| am|gear|carb|\n",
      "+-------------------+----+---+-----+---+----+-----+-----+---+---+----+----+\n",
      "|          Mazda RX4|21.0|  6|160.0|110| 3.9| 2.62|16.46|  0|  1|   4|   4|\n",
      "|      Mazda RX4 Wag|21.0|  6|160.0|110| 3.9|2.875|17.02|  0|  1|   4|   4|\n",
      "|         Datsun 710|22.8|  4|108.0| 93|3.85| 2.32|18.61|  1|  1|   4|   1|\n",
      "|     Hornet 4 Drive|21.4|  6|258.0|110|3.08|3.215|19.44|  1|  0|   3|   1|\n",
      "|  Hornet Sportabout|18.7|  8|360.0|175|3.15| 3.44|17.02|  0|  0|   3|   2|\n",
      "|            Valiant|18.1|  6|225.0|105|2.76| 3.46|20.22|  1|  0|   3|   1|\n",
      "|         Duster 360|14.3|  8|360.0|245|3.21| 3.57|15.84|  0|  0|   3|   4|\n",
      "|          Merc 240D|24.4|  4|146.7| 62|3.69| 3.19| 20.0|  1|  0|   4|   2|\n",
      "|           Merc 230|22.8|  4|140.8| 95|3.92| 3.15| 22.9|  1|  0|   4|   2|\n",
      "|           Merc 280|19.2|  6|167.6|123|3.92| 3.44| 18.3|  1|  0|   4|   4|\n",
      "|          Merc 280C|17.8|  6|167.6|123|3.92| 3.44| 18.9|  1|  0|   4|   4|\n",
      "|         Merc 450SE|16.4|  8|275.8|180|3.07| 4.07| 17.4|  0|  0|   3|   3|\n",
      "|         Merc 450SL|17.3|  8|275.8|180|3.07| 3.73| 17.6|  0|  0|   3|   3|\n",
      "|        Merc 450SLC|15.2|  8|275.8|180|3.07| 3.78| 18.0|  0|  0|   3|   3|\n",
      "| Cadillac Fleetwood|10.4|  8|472.0|205|2.93| 5.25|17.98|  0|  0|   3|   4|\n",
      "|Lincoln Continental|10.4|  8|460.0|215| 3.0|5.424|17.82|  0|  0|   3|   4|\n",
      "|  Chrysler Imperial|14.7|  8|440.0|230|3.23|5.345|17.42|  0|  0|   3|   4|\n",
      "|           Fiat 128|32.4|  4| 78.7| 66|4.08|  2.2|19.47|  1|  1|   4|   1|\n",
      "|        Honda Civic|30.4|  4| 75.7| 52|4.93|1.615|18.52|  1|  1|   4|   2|\n",
      "|     Toyota Corolla|33.9|  4| 71.1| 65|4.22|1.835| 19.9|  1|  1|   4|   1|\n",
      "+-------------------+----+---+-----+---+----+-----+-----+---+---+----+----+\n",
      "only showing top 20 rows\n",
      "\n"
     ]
    }
   ],
   "source": [
    "dataset.show()"
   ]
  },
  {
   "cell_type": "markdown",
   "metadata": {},
   "source": [
    "## Step 2: Creating Vectors\n",
    "\n",
    "Now that we have ourselves a dataframe, let's work on turning it into vectors.  We're going to vectorize 2 columns:\n",
    "\n",
    "1. MPG\n",
    "2. Number of cylinders.\n",
    "\n",
    "What we'll do, is we'll use the VectorAssembler class to create a new column by the name of features. This will be a Vector.\n"
   ]
  },
  {
   "cell_type": "code",
   "execution_count": 4,
   "metadata": {
    "collapsed": true
   },
   "outputs": [
    {
     "name": "stdout",
     "output_type": "stream",
     "text": [
      "+-------------------+----+---+\n",
      "|              model| mpg|cyl|\n",
      "+-------------------+----+---+\n",
      "|          Mazda RX4|21.0|  6|\n",
      "|      Mazda RX4 Wag|21.0|  6|\n",
      "|         Datsun 710|22.8|  4|\n",
      "|     Hornet 4 Drive|21.4|  6|\n",
      "|  Hornet Sportabout|18.7|  8|\n",
      "|            Valiant|18.1|  6|\n",
      "|         Duster 360|14.3|  8|\n",
      "|          Merc 240D|24.4|  4|\n",
      "|           Merc 230|22.8|  4|\n",
      "|           Merc 280|19.2|  6|\n",
      "|          Merc 280C|17.8|  6|\n",
      "|         Merc 450SE|16.4|  8|\n",
      "|         Merc 450SL|17.3|  8|\n",
      "|        Merc 450SLC|15.2|  8|\n",
      "| Cadillac Fleetwood|10.4|  8|\n",
      "|Lincoln Continental|10.4|  8|\n",
      "|  Chrysler Imperial|14.7|  8|\n",
      "|           Fiat 128|32.4|  4|\n",
      "|        Honda Civic|30.4|  4|\n",
      "|     Toyota Corolla|33.9|  4|\n",
      "|      Toyota Corona|21.5|  4|\n",
      "|   Dodge Challenger|15.5|  8|\n",
      "|        AMC Javelin|15.2|  8|\n",
      "|         Camaro Z28|13.3|  8|\n",
      "|   Pontiac Firebird|19.2|  8|\n",
      "|          Fiat X1-9|27.3|  4|\n",
      "|      Porsche 914-2|26.0|  4|\n",
      "|       Lotus Europa|30.4|  4|\n",
      "|     Ford Pantera L|15.8|  8|\n",
      "|       Ferrari Dino|19.7|  6|\n",
      "|      Maserati Bora|15.0|  8|\n",
      "|         Volvo 142E|21.4|  4|\n",
      "+-------------------+----+---+\n",
      "\n"
     ]
    }
   ],
   "source": [
    "## TODO: create an mpg_cyl dataframe with just 'model', 'mpg', and 'cyl'\n",
    "\n",
    "mpg_cyl = dataset.select(\"model\", \"mpg\", \"cyl\")\n",
    "mpg_cyl.show(40)"
   ]
  },
  {
   "cell_type": "code",
   "execution_count": 5,
   "metadata": {
    "collapsed": true
   },
   "outputs": [],
   "source": [
    "from pyspark.ml.feature import VectorAssembler\n",
    "\n",
    "## TODO: create vectorassembler by extracting \"mpg\" and \"cyl\" to output column \"features\"**  \n",
    "# input : mpg, cyl\n",
    "# output : features\n",
    "assembler = VectorAssembler(inputCols=[\"mpg\", \"cyl\"], outputCol=\"features\")\n",
    "\n",
    "\n",
    "## TODO: transform dataframe in order to create new column with feature vector\n",
    "## Hint : assembler.transform(mpg_cyl)\n",
    "featureVector = assembler.transform(mpg_cyl)\n"
   ]
  },
  {
   "cell_type": "code",
   "execution_count": 6,
   "metadata": {
    "collapsed": true
   },
   "outputs": [
    {
     "name": "stdout",
     "output_type": "stream",
     "text": [
      "+-------------------+----+---+----------+\n",
      "|              model| mpg|cyl|  features|\n",
      "+-------------------+----+---+----------+\n",
      "|          Mazda RX4|21.0|  6|[21.0,6.0]|\n",
      "|      Mazda RX4 Wag|21.0|  6|[21.0,6.0]|\n",
      "|         Datsun 710|22.8|  4|[22.8,4.0]|\n",
      "|     Hornet 4 Drive|21.4|  6|[21.4,6.0]|\n",
      "|  Hornet Sportabout|18.7|  8|[18.7,8.0]|\n",
      "|            Valiant|18.1|  6|[18.1,6.0]|\n",
      "|         Duster 360|14.3|  8|[14.3,8.0]|\n",
      "|          Merc 240D|24.4|  4|[24.4,4.0]|\n",
      "|           Merc 230|22.8|  4|[22.8,4.0]|\n",
      "|           Merc 280|19.2|  6|[19.2,6.0]|\n",
      "|          Merc 280C|17.8|  6|[17.8,6.0]|\n",
      "|         Merc 450SE|16.4|  8|[16.4,8.0]|\n",
      "|         Merc 450SL|17.3|  8|[17.3,8.0]|\n",
      "|        Merc 450SLC|15.2|  8|[15.2,8.0]|\n",
      "| Cadillac Fleetwood|10.4|  8|[10.4,8.0]|\n",
      "|Lincoln Continental|10.4|  8|[10.4,8.0]|\n",
      "|  Chrysler Imperial|14.7|  8|[14.7,8.0]|\n",
      "|           Fiat 128|32.4|  4|[32.4,4.0]|\n",
      "|        Honda Civic|30.4|  4|[30.4,4.0]|\n",
      "|     Toyota Corolla|33.9|  4|[33.9,4.0]|\n",
      "|      Toyota Corona|21.5|  4|[21.5,4.0]|\n",
      "|   Dodge Challenger|15.5|  8|[15.5,8.0]|\n",
      "|        AMC Javelin|15.2|  8|[15.2,8.0]|\n",
      "|         Camaro Z28|13.3|  8|[13.3,8.0]|\n",
      "|   Pontiac Firebird|19.2|  8|[19.2,8.0]|\n",
      "|          Fiat X1-9|27.3|  4|[27.3,4.0]|\n",
      "|      Porsche 914-2|26.0|  4|[26.0,4.0]|\n",
      "|       Lotus Europa|30.4|  4|[30.4,4.0]|\n",
      "|     Ford Pantera L|15.8|  8|[15.8,8.0]|\n",
      "|       Ferrari Dino|19.7|  6|[19.7,6.0]|\n",
      "|      Maserati Bora|15.0|  8|[15.0,8.0]|\n",
      "|         Volvo 142E|21.4|  4|[21.4,4.0]|\n",
      "+-------------------+----+---+----------+\n",
      "\n"
     ]
    }
   ],
   "source": [
    "featureVector.show(40)"
   ]
  },
  {
   "cell_type": "markdown",
   "metadata": {},
   "source": [
    "## Step 3: Running Kmeans\n",
    "\n",
    "Now it's time to run kmeans on the resultant dataframe.  We don't know what value of k to use, so let's just start with k=2.  This means we will cluster into two groups.\n",
    "\n",
    "We will fit a model to the data, and then train it.\n",
    "\n"
   ]
  },
  {
   "cell_type": "code",
   "execution_count": 7,
   "metadata": {
    "collapsed": true
   },
   "outputs": [
    {
     "name": "stdout",
     "output_type": "stream",
     "text": [
      "425.39658730158885\n"
     ]
    }
   ],
   "source": [
    "from pyspark.ml.clustering import KMeans\n",
    "\n",
    "## TODO: Instantiate K-means model with value k\n",
    "k = 2\n",
    "kmeans = KMeans().setK(k).setSeed(1)\n",
    "\n",
    "## TODO: fit featureVector with kmeans model\n",
    "## Hint : featureVector\n",
    "model = kmeans.fit(featureVector)\n",
    "\n",
    "## TODO: calculate WSSSE by calling computeCost on dataframe\n",
    "## Hint : model.computeCost(featureVector)\n",
    "wssse = model.computeCost(featureVector)\n",
    "\n",
    "print(wssse)"
   ]
  },
  {
   "cell_type": "markdown",
   "metadata": {},
   "source": [
    "The WSSSE for this is not particularly good.  We will probably need to change k.\n",
    "\n",
    "Let's take a look at the transformed dataset.  Notice the new column \"prediction.\"\n"
   ]
  },
  {
   "cell_type": "code",
   "execution_count": 8,
   "metadata": {
    "collapsed": true,
    "scrolled": true
   },
   "outputs": [
    {
     "name": "stdout",
     "output_type": "stream",
     "text": [
      "+-------------------+----+---+----------+----------+\n",
      "|              model| mpg|cyl|  features|prediction|\n",
      "+-------------------+----+---+----------+----------+\n",
      "| Cadillac Fleetwood|10.4|  8|[10.4,8.0]|         0|\n",
      "|Lincoln Continental|10.4|  8|[10.4,8.0]|         0|\n",
      "|         Camaro Z28|13.3|  8|[13.3,8.0]|         0|\n",
      "|         Duster 360|14.3|  8|[14.3,8.0]|         0|\n",
      "|  Chrysler Imperial|14.7|  8|[14.7,8.0]|         0|\n",
      "|      Maserati Bora|15.0|  8|[15.0,8.0]|         0|\n",
      "|        AMC Javelin|15.2|  8|[15.2,8.0]|         0|\n",
      "|        Merc 450SLC|15.2|  8|[15.2,8.0]|         0|\n",
      "|   Dodge Challenger|15.5|  8|[15.5,8.0]|         0|\n",
      "|     Ford Pantera L|15.8|  8|[15.8,8.0]|         0|\n",
      "|         Merc 450SE|16.4|  8|[16.4,8.0]|         0|\n",
      "|         Merc 450SL|17.3|  8|[17.3,8.0]|         0|\n",
      "|          Merc 280C|17.8|  6|[17.8,6.0]|         0|\n",
      "|            Valiant|18.1|  6|[18.1,6.0]|         0|\n",
      "|  Hornet Sportabout|18.7|  8|[18.7,8.0]|         0|\n",
      "|           Merc 280|19.2|  6|[19.2,6.0]|         0|\n",
      "|   Pontiac Firebird|19.2|  8|[19.2,8.0]|         0|\n",
      "|       Ferrari Dino|19.7|  6|[19.7,6.0]|         0|\n",
      "|          Mazda RX4|21.0|  6|[21.0,6.0]|         1|\n",
      "|      Mazda RX4 Wag|21.0|  6|[21.0,6.0]|         1|\n",
      "|     Hornet 4 Drive|21.4|  6|[21.4,6.0]|         1|\n",
      "|         Volvo 142E|21.4|  4|[21.4,4.0]|         1|\n",
      "|      Toyota Corona|21.5|  4|[21.5,4.0]|         1|\n",
      "|         Datsun 710|22.8|  4|[22.8,4.0]|         1|\n",
      "|           Merc 230|22.8|  4|[22.8,4.0]|         1|\n",
      "|          Merc 240D|24.4|  4|[24.4,4.0]|         1|\n",
      "|      Porsche 914-2|26.0|  4|[26.0,4.0]|         1|\n",
      "|          Fiat X1-9|27.3|  4|[27.3,4.0]|         1|\n",
      "|        Honda Civic|30.4|  4|[30.4,4.0]|         1|\n",
      "|       Lotus Europa|30.4|  4|[30.4,4.0]|         1|\n",
      "|           Fiat 128|32.4|  4|[32.4,4.0]|         1|\n",
      "|     Toyota Corolla|33.9|  4|[33.9,4.0]|         1|\n",
      "+-------------------+----+---+----------+----------+\n",
      "\n"
     ]
    }
   ],
   "source": [
    "## transform the dataset from the model\n",
    "model.transform(featureVector).orderBy(['prediction', 'mpg']).show(32)"
   ]
  },
  {
   "cell_type": "markdown",
   "metadata": {},
   "source": [
    "Notice what we have here.  We have two clusters. One is smaller, fuel efficient cars like the Fiat and the Corolla (remember, we cluster on two variables only: MPG and cylinders).  The other is for basically oll other cars.  Probably, we can get better results here with a differnet value of k."
   ]
  },
  {
   "cell_type": "code",
   "execution_count": 9,
   "metadata": {
    "collapsed": true
   },
   "outputs": [
    {
     "name": "stdout",
     "output_type": "stream",
     "text": [
      "WSSSE: 169.40535714285784\n"
     ]
    }
   ],
   "source": [
    "k = 3\n",
    "kmeans = KMeans().setK(k).setSeed(1)\n",
    "model = kmeans.fit(featureVector)\n",
    "wssse = model.computeCost(featureVector)\n",
    "\n",
    "print('WSSSE: ' + str(wssse))"
   ]
  },
  {
   "cell_type": "markdown",
   "metadata": {},
   "source": [
    "This is a much better result for WSSSE (lower is better)."
   ]
  },
  {
   "cell_type": "code",
   "execution_count": 10,
   "metadata": {
    "collapsed": true
   },
   "outputs": [
    {
     "name": "stdout",
     "output_type": "stream",
     "text": [
      "+-------------------+----+---+----------+----------+\n",
      "|              model| mpg|cyl|  features|prediction|\n",
      "+-------------------+----+---+----------+----------+\n",
      "|          Merc 280C|17.8|  6|[17.8,6.0]|         0|\n",
      "|            Valiant|18.1|  6|[18.1,6.0]|         0|\n",
      "|  Hornet Sportabout|18.7|  8|[18.7,8.0]|         0|\n",
      "|   Pontiac Firebird|19.2|  8|[19.2,8.0]|         0|\n",
      "|           Merc 280|19.2|  6|[19.2,6.0]|         0|\n",
      "|       Ferrari Dino|19.7|  6|[19.7,6.0]|         0|\n",
      "|      Mazda RX4 Wag|21.0|  6|[21.0,6.0]|         0|\n",
      "|          Mazda RX4|21.0|  6|[21.0,6.0]|         0|\n",
      "|     Hornet 4 Drive|21.4|  6|[21.4,6.0]|         0|\n",
      "|         Volvo 142E|21.4|  4|[21.4,4.0]|         0|\n",
      "|      Toyota Corona|21.5|  4|[21.5,4.0]|         0|\n",
      "|         Datsun 710|22.8|  4|[22.8,4.0]|         0|\n",
      "|           Merc 230|22.8|  4|[22.8,4.0]|         0|\n",
      "|          Merc 240D|24.4|  4|[24.4,4.0]|         0|\n",
      "| Cadillac Fleetwood|10.4|  8|[10.4,8.0]|         1|\n",
      "|Lincoln Continental|10.4|  8|[10.4,8.0]|         1|\n",
      "|         Camaro Z28|13.3|  8|[13.3,8.0]|         1|\n",
      "|         Duster 360|14.3|  8|[14.3,8.0]|         1|\n",
      "|  Chrysler Imperial|14.7|  8|[14.7,8.0]|         1|\n",
      "|      Maserati Bora|15.0|  8|[15.0,8.0]|         1|\n",
      "|        Merc 450SLC|15.2|  8|[15.2,8.0]|         1|\n",
      "|        AMC Javelin|15.2|  8|[15.2,8.0]|         1|\n",
      "|   Dodge Challenger|15.5|  8|[15.5,8.0]|         1|\n",
      "|     Ford Pantera L|15.8|  8|[15.8,8.0]|         1|\n",
      "|         Merc 450SE|16.4|  8|[16.4,8.0]|         1|\n",
      "|         Merc 450SL|17.3|  8|[17.3,8.0]|         1|\n",
      "|      Porsche 914-2|26.0|  4|[26.0,4.0]|         2|\n",
      "|          Fiat X1-9|27.3|  4|[27.3,4.0]|         2|\n",
      "|        Honda Civic|30.4|  4|[30.4,4.0]|         2|\n",
      "|       Lotus Europa|30.4|  4|[30.4,4.0]|         2|\n",
      "|           Fiat 128|32.4|  4|[32.4,4.0]|         2|\n",
      "|     Toyota Corolla|33.9|  4|[33.9,4.0]|         2|\n",
      "+-------------------+----+---+----------+----------+\n",
      "\n"
     ]
    }
   ],
   "source": [
    "# look at transformed data again for k=3\n",
    "model.transform(featureVector).orderBy(['prediction', 'mpg']).show(32)"
   ]
  },
  {
   "cell_type": "markdown",
   "metadata": {},
   "source": [
    "## Step 4: Hyperparameter tuning\n",
    "\n",
    "Let's try iterating and plotting over values of k, so we can practice using the elbow method.\n",
    "\n",
    "**Q ==> Why is WSSSE almost zero when k=32?**"
   ]
  },
  {
   "cell_type": "code",
   "execution_count": 11,
   "metadata": {
    "collapsed": true
   },
   "outputs": [
    {
     "name": "stdout",
     "output_type": "stream",
     "text": [
      "k=2,  wssse=425.39658730158885\n",
      "k=3,  wssse=169.40535714285784\n",
      "k=4,  wssse=140.88452380952572\n",
      "k=5,  wssse=76.43607142857087\n",
      "k=6,  wssse=72.80753846153823\n",
      "k=7,  wssse=44.27347222222352\n",
      "k=8,  wssse=33.05688888888983\n",
      "k=9,  wssse=29.336809523810757\n",
      "k=10,  wssse=21.421249999999077\n",
      "k=11,  wssse=15.517976190476361\n",
      "k=12,  wssse=12.679166666666788\n",
      "k=13,  wssse=7.379166666666379\n",
      "k=14,  wssse=5.503666666666845\n",
      "k=15,  wssse=3.2536666666663905\n",
      "k=16,  wssse=4.688666666666563\n",
      "k=17,  wssse=2.021999999999821\n",
      "k=18,  wssse=2.369166666666615\n",
      "k=19,  wssse=1.2441666666666151\n",
      "k=20,  wssse=0.7441666666667288\n",
      "k=21,  wssse=0.5291666666664696\n",
      "k=22,  wssse=0.4041666666665833\n",
      "k=23,  wssse=0.2791666666663559\n",
      "k=24,  wssse=0.15666666666675155\n",
      "k=25,  wssse=0.1116666666666788\n",
      "k=26,  wssse=0.005000000000109139\n",
      "k=27,  wssse=0.0\n",
      "k=28,  wssse=0.0\n",
      "k=29,  wssse=0.0\n",
      "k=30,  wssse=0.0\n",
      "k=31,  wssse=0.0\n"
     ]
    }
   ],
   "source": [
    "kvals = []\n",
    "wssses = []\n",
    "\n",
    "# TODO : Run k from 2 to 32\n",
    "for k in range(2,32):\n",
    "    kmeans = KMeans().setK(k).setSeed(1)\n",
    "    model = kmeans.fit(featureVector)\n",
    "    wssse = model.computeCost(featureVector)\n",
    "    print (\"k={},  wssse={}\".format(k,wssse))\n",
    "    kvals.append(k)\n",
    "    wssses.append(wssse)"
   ]
  },
  {
   "cell_type": "code",
   "execution_count": 12,
   "metadata": {
    "collapsed": true
   },
   "outputs": [
    {
     "data": {
      "text/html": [
       "<div>\n",
       "<style scoped>\n",
       "    .dataframe tbody tr th:only-of-type {\n",
       "        vertical-align: middle;\n",
       "    }\n",
       "\n",
       "    .dataframe tbody tr th {\n",
       "        vertical-align: top;\n",
       "    }\n",
       "\n",
       "    .dataframe thead th {\n",
       "        text-align: right;\n",
       "    }\n",
       "</style>\n",
       "<table border=\"1\" class=\"dataframe\">\n",
       "  <thead>\n",
       "    <tr style=\"text-align: right;\">\n",
       "      <th></th>\n",
       "      <th>k</th>\n",
       "      <th>wssse</th>\n",
       "    </tr>\n",
       "  </thead>\n",
       "  <tbody>\n",
       "    <tr>\n",
       "      <th>0</th>\n",
       "      <td>2</td>\n",
       "      <td>425.396587</td>\n",
       "    </tr>\n",
       "    <tr>\n",
       "      <th>1</th>\n",
       "      <td>3</td>\n",
       "      <td>169.405357</td>\n",
       "    </tr>\n",
       "    <tr>\n",
       "      <th>2</th>\n",
       "      <td>4</td>\n",
       "      <td>140.884524</td>\n",
       "    </tr>\n",
       "    <tr>\n",
       "      <th>3</th>\n",
       "      <td>5</td>\n",
       "      <td>76.436071</td>\n",
       "    </tr>\n",
       "    <tr>\n",
       "      <th>4</th>\n",
       "      <td>6</td>\n",
       "      <td>72.807538</td>\n",
       "    </tr>\n",
       "    <tr>\n",
       "      <th>5</th>\n",
       "      <td>7</td>\n",
       "      <td>44.273472</td>\n",
       "    </tr>\n",
       "    <tr>\n",
       "      <th>6</th>\n",
       "      <td>8</td>\n",
       "      <td>33.056889</td>\n",
       "    </tr>\n",
       "    <tr>\n",
       "      <th>7</th>\n",
       "      <td>9</td>\n",
       "      <td>29.336810</td>\n",
       "    </tr>\n",
       "    <tr>\n",
       "      <th>8</th>\n",
       "      <td>10</td>\n",
       "      <td>21.421250</td>\n",
       "    </tr>\n",
       "    <tr>\n",
       "      <th>9</th>\n",
       "      <td>11</td>\n",
       "      <td>15.517976</td>\n",
       "    </tr>\n",
       "    <tr>\n",
       "      <th>10</th>\n",
       "      <td>12</td>\n",
       "      <td>12.679167</td>\n",
       "    </tr>\n",
       "    <tr>\n",
       "      <th>11</th>\n",
       "      <td>13</td>\n",
       "      <td>7.379167</td>\n",
       "    </tr>\n",
       "    <tr>\n",
       "      <th>12</th>\n",
       "      <td>14</td>\n",
       "      <td>5.503667</td>\n",
       "    </tr>\n",
       "    <tr>\n",
       "      <th>13</th>\n",
       "      <td>15</td>\n",
       "      <td>3.253667</td>\n",
       "    </tr>\n",
       "    <tr>\n",
       "      <th>14</th>\n",
       "      <td>16</td>\n",
       "      <td>4.688667</td>\n",
       "    </tr>\n",
       "    <tr>\n",
       "      <th>15</th>\n",
       "      <td>17</td>\n",
       "      <td>2.022000</td>\n",
       "    </tr>\n",
       "    <tr>\n",
       "      <th>16</th>\n",
       "      <td>18</td>\n",
       "      <td>2.369167</td>\n",
       "    </tr>\n",
       "    <tr>\n",
       "      <th>17</th>\n",
       "      <td>19</td>\n",
       "      <td>1.244167</td>\n",
       "    </tr>\n",
       "    <tr>\n",
       "      <th>18</th>\n",
       "      <td>20</td>\n",
       "      <td>0.744167</td>\n",
       "    </tr>\n",
       "    <tr>\n",
       "      <th>19</th>\n",
       "      <td>21</td>\n",
       "      <td>0.529167</td>\n",
       "    </tr>\n",
       "    <tr>\n",
       "      <th>20</th>\n",
       "      <td>22</td>\n",
       "      <td>0.404167</td>\n",
       "    </tr>\n",
       "    <tr>\n",
       "      <th>21</th>\n",
       "      <td>23</td>\n",
       "      <td>0.279167</td>\n",
       "    </tr>\n",
       "    <tr>\n",
       "      <th>22</th>\n",
       "      <td>24</td>\n",
       "      <td>0.156667</td>\n",
       "    </tr>\n",
       "    <tr>\n",
       "      <th>23</th>\n",
       "      <td>25</td>\n",
       "      <td>0.111667</td>\n",
       "    </tr>\n",
       "    <tr>\n",
       "      <th>24</th>\n",
       "      <td>26</td>\n",
       "      <td>0.005000</td>\n",
       "    </tr>\n",
       "    <tr>\n",
       "      <th>25</th>\n",
       "      <td>27</td>\n",
       "      <td>0.000000</td>\n",
       "    </tr>\n",
       "    <tr>\n",
       "      <th>26</th>\n",
       "      <td>28</td>\n",
       "      <td>0.000000</td>\n",
       "    </tr>\n",
       "    <tr>\n",
       "      <th>27</th>\n",
       "      <td>29</td>\n",
       "      <td>0.000000</td>\n",
       "    </tr>\n",
       "    <tr>\n",
       "      <th>28</th>\n",
       "      <td>30</td>\n",
       "      <td>0.000000</td>\n",
       "    </tr>\n",
       "    <tr>\n",
       "      <th>29</th>\n",
       "      <td>31</td>\n",
       "      <td>0.000000</td>\n",
       "    </tr>\n",
       "  </tbody>\n",
       "</table>\n",
       "</div>"
      ],
      "text/plain": [
       "     k       wssse\n",
       "0    2  425.396587\n",
       "1    3  169.405357\n",
       "2    4  140.884524\n",
       "3    5   76.436071\n",
       "4    6   72.807538\n",
       "5    7   44.273472\n",
       "6    8   33.056889\n",
       "7    9   29.336810\n",
       "8   10   21.421250\n",
       "9   11   15.517976\n",
       "10  12   12.679167\n",
       "11  13    7.379167\n",
       "12  14    5.503667\n",
       "13  15    3.253667\n",
       "14  16    4.688667\n",
       "15  17    2.022000\n",
       "16  18    2.369167\n",
       "17  19    1.244167\n",
       "18  20    0.744167\n",
       "19  21    0.529167\n",
       "20  22    0.404167\n",
       "21  23    0.279167\n",
       "22  24    0.156667\n",
       "23  25    0.111667\n",
       "24  26    0.005000\n",
       "25  27    0.000000\n",
       "26  28    0.000000\n",
       "27  29    0.000000\n",
       "28  30    0.000000\n",
       "29  31    0.000000"
      ]
     },
     "execution_count": 12,
     "metadata": {},
     "output_type": "execute_result"
    }
   ],
   "source": [
    "import pandas as pd\n",
    "df = pd.DataFrame({'k': kvals, 'wssse':wssses})\n",
    "df"
   ]
  },
  {
   "cell_type": "code",
   "execution_count": 13,
   "metadata": {
    "collapsed": true
   },
   "outputs": [
    {
     "data": {
      "text/plain": [
       "[<matplotlib.lines.Line2D at 0x7f51ef2b9748>]"
      ]
     },
     "execution_count": 13,
     "metadata": {},
     "output_type": "execute_result"
    },
    {
     "data": {
      "image/png": "[encoded data removed]",
      "text/plain": [
       "<Figure size 432x288 with 1 Axes>"
      ]
     },
     "metadata": {
      "needs_background": "light"
     },
     "output_type": "display_data"
    }
   ],
   "source": [
    "%matplotlib inline\n",
    "import matplotlib.pyplot as plt\n",
    "\n",
    "## TODO: plot the values of k as the X axis versus the costs (WSSSE) as the y axis\n",
    "## Hint  : x=kvals,  y=wssses\n",
    "plt.plot(kvals, wssses)"
   ]
  },
  {
   "cell_type": "markdown",
   "metadata": {},
   "source": [
    "Using the Elbow method, what would be a good value of k?\n"
   ]
  }
 ],
 "metadata": {
  "anaconda-cloud": {},
  "kernelspec": {
   "display_name": "Python 3",
   "language": "python",
   "name": "python3"
  },
  "language_info": {
   "codemirror_mode": {
    "name": "ipython",
    "version": 3
   },
   "file_extension": ".py",
   "mimetype": "text/x-python",
   "name": "python",
   "nbconvert_exporter": "python",
   "pygments_lexer": "ipython3",
   "version": "3.6.8"
  }
 },
 "nbformat": 4,
 "nbformat_minor": 2
}
