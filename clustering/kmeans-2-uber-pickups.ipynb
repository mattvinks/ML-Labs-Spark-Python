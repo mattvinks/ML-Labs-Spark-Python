{
 "cells": [
  {
   "cell_type": "markdown",
   "metadata": {},
   "source": [
    "# Clustering : K-Means : Uber Pickups\n",
    "\n",
    "This is data of Uber pickups in New York City.  \n",
    "The data is from this [kaggle competition](https://www.kaggle.com/fivethirtyeight/uber-pickups-in-new-york-city).\n",
    "\n",
    "Sample data looks like this\n",
    "```\n",
    "\"Date_Time\",\"Lat\",\"Lon\",\"Base\"\n",
    "\"4/1/2014 0:11:00\",40.769,-73.9549,\"B02512\"\n",
    "\"4/1/2014 0:17:00\",40.7267,-74.0345,\"B02512\"\n",
    "\"4/1/2014 0:21:00\",40.7316,-73.9873,\"B02512\"\n",
    "\"4/1/2014 0:28:00\",40.7588,-73.9776,\"B02512\"\n",
    "```"
   ]
  },
  {
   "cell_type": "code",
   "execution_count": 1,
   "metadata": {
    "collapsed": true
   },
   "outputs": [
    {
     "name": "stdout",
     "output_type": "stream",
     "text": [
      "Initializing Spark...\n",
      "Spark found in :  /home/ubuntu/spark\n",
      "Spark config:\n",
      "\t spark.app.name=TestApp\n",
      "\tspark.master=local[*]\n",
      "\texecutor.memory=2g\n",
      "\tspark.sql.warehouse.dir=/tmp/tmphmqmsxw9\n",
      "\tsome_property=some_value\n",
      "Spark UI running on port 4041\n"
     ]
    },
    {
     "data": {
      "text/html": [
       "\n",
       "            <div>\n",
       "                <p><b>SparkSession - in-memory</b></p>\n",
       "                \n",
       "        <div>\n",
       "            <p><b>SparkContext</b></p>\n",
       "\n",
       "            <p><a href=\"http://ip-172-16-0-107.ec2.internal:4041\">Spark UI</a></p>\n",
       "\n",
       "            <dl>\n",
       "              <dt>Version</dt>\n",
       "                <dd><code>v2.4.0</code></dd>\n",
       "              <dt>Master</dt>\n",
       "                <dd><code>local[*]</code></dd>\n",
       "              <dt>AppName</dt>\n",
       "                <dd><code>TestApp</code></dd>\n",
       "            </dl>\n",
       "        </div>\n",
       "        \n",
       "            </div>\n",
       "        "
      ],
      "text/plain": [
       "<pyspark.sql.session.SparkSession at 0x7f68c76de2b0>"
      ]
     },
     "execution_count": 1,
     "metadata": {},
     "output_type": "execute_result"
    }
   ],
   "source": [
    "# initialize Spark Session\n",
    "import os\n",
    "import sys\n",
    "top_dir = os.path.abspath(os.path.join(os.getcwd(), \"../\"))\n",
    "if top_dir not in sys.path:\n",
    "    sys.path.append(top_dir)\n",
    "\n",
    "from init_spark import init_spark\n",
    "spark = init_spark()\n",
    "spark"
   ]
  },
  {
   "cell_type": "markdown",
   "metadata": {},
   "source": [
    "## Step 1: Load the Data\n",
    "We will also specify schema to reduce loading time"
   ]
  },
  {
   "cell_type": "code",
   "execution_count": 2,
   "metadata": {
    "collapsed": true
   },
   "outputs": [],
   "source": [
    "# file to read\n",
    "\n",
    "## sample file with 10,000 records\n",
    "data_file=\"/data/uber-nyc/uber-sample-10k.csv\"\n",
    "\n",
    "## larger file with about 500k records\n",
    "# data_file = \"/data/uber-nyc/uber-raw-data-apr14.csv.gz\"\n",
    "\n",
    "## all data\n",
    "# data_file = \"/data/uber-nyc/*csv.gz\"\n"
   ]
  },
  {
   "cell_type": "markdown",
   "metadata": {},
   "source": [
    "### Specify Schema"
   ]
  },
  {
   "cell_type": "code",
   "execution_count": 3,
   "metadata": {
    "collapsed": true
   },
   "outputs": [],
   "source": [
    "from pyspark.sql.types import StringType, FloatType, StructField, StructType\n",
    "\n",
    "\n",
    "pickup_time_field = StructField(\"pickup_time\", StringType(), True)\n",
    "lat_field = StructField(\"Lat\", FloatType(), True)\n",
    "lon_field = StructField(\"Lon\", FloatType(), True)\n",
    "base_field = StructField(\"Base\", StringType(), True)\n",
    "\n",
    "schema = StructType([pickup_time_field, lat_field, lon_field, base_field])\n"
   ]
  },
  {
   "cell_type": "markdown",
   "metadata": {},
   "source": [
    "### Read Data"
   ]
  },
  {
   "cell_type": "code",
   "execution_count": 4,
   "metadata": {
    "collapsed": true
   },
   "outputs": [
    {
     "name": "stdout",
     "output_type": "stream",
     "text": [
      "read 9,999 records\n",
      "root\n",
      " |-- pickup_time: string (nullable = true)\n",
      " |-- Lat: float (nullable = true)\n",
      " |-- Lon: float (nullable = true)\n",
      " |-- Base: string (nullable = true)\n",
      "\n",
      "+------------------+-------+--------+------+\n",
      "|       pickup_time|    Lat|     Lon|  Base|\n",
      "+------------------+-------+--------+------+\n",
      "|9/25/2014 15:28:00|40.7633|-73.9402|B02598|\n",
      "|  9/5/2014 3:50:00|40.7441|-74.0067|B02617|\n",
      "|9/24/2014 13:39:00|40.7408|-73.9916|B02617|\n",
      "| 9/18/2014 0:31:00|40.7396|-74.0023|B02617|\n",
      "|9/20/2014 11:22:00|40.7441|-73.9919|B02617|\n",
      "|9/26/2014 17:03:00|40.6943|-73.9239|B02764|\n",
      "|9/24/2014 18:59:00|40.8526|-73.8435|B02617|\n",
      "|9/23/2014 16:33:00|40.7146|-74.0087|B02617|\n",
      "|9/17/2014 22:16:00|40.7751|-73.9092|B02682|\n",
      "| 9/6/2014 11:13:00|40.7191|-73.9754|B02682|\n",
      "+------------------+-------+--------+------+\n",
      "only showing top 10 rows\n",
      "\n"
     ]
    }
   ],
   "source": [
    "uber_pickups = spark.read.option(\"header\", \"true\").schema(schema).csv(data_file)\n",
    "\n",
    "records_count_total = uber_pickups.count()\n",
    "print(\"read {:,} records\".format(records_count_total))\n",
    "uber_pickups.printSchema()\n",
    "uber_pickups.show(10)"
   ]
  },
  {
   "cell_type": "markdown",
   "metadata": {},
   "source": [
    "## Step 2: Cleanup data\n",
    "make sure our data is clean"
   ]
  },
  {
   "cell_type": "code",
   "execution_count": 5,
   "metadata": {
    "collapsed": true
   },
   "outputs": [
    {
     "name": "stdout",
     "output_type": "stream",
     "text": [
      "cleaned records 9,999,  dropped 0\n"
     ]
    }
   ],
   "source": [
    "uber_pickups_clean = uber_pickups.na.drop(subset=['Lat', 'Lon'])\n",
    "records_count_clean = uber_pickups_clean.count()\n",
    "\n",
    "print (\"cleaned records {:,},  dropped {:,}\".format(records_count_clean,  (records_count_total - records_count_clean)))"
   ]
  },
  {
   "cell_type": "markdown",
   "metadata": {},
   "source": [
    "## Step 3 : Create Feature Vectors"
   ]
  },
  {
   "cell_type": "code",
   "execution_count": 6,
   "metadata": {
    "collapsed": true
   },
   "outputs": [
    {
     "name": "stdout",
     "output_type": "stream",
     "text": [
      "+------------------+-------+--------+------+--------------------+\n",
      "|       pickup_time|    Lat|     Lon|  Base|            features|\n",
      "+------------------+-------+--------+------+--------------------+\n",
      "|9/25/2014 15:28:00|40.7633|-73.9402|B02598|[40.7633018493652...|\n",
      "|  9/5/2014 3:50:00|40.7441|-74.0067|B02617|[40.7440986633300...|\n",
      "|9/24/2014 13:39:00|40.7408|-73.9916|B02617|[40.7407989501953...|\n",
      "| 9/18/2014 0:31:00|40.7396|-74.0023|B02617|[40.7396011352539...|\n",
      "|9/20/2014 11:22:00|40.7441|-73.9919|B02617|[40.7440986633300...|\n",
      "|9/26/2014 17:03:00|40.6943|-73.9239|B02764|[40.6943016052246...|\n",
      "|9/24/2014 18:59:00|40.8526|-73.8435|B02617|[40.8526000976562...|\n",
      "|9/23/2014 16:33:00|40.7146|-74.0087|B02617|[40.714599609375,...|\n",
      "|9/17/2014 22:16:00|40.7751|-73.9092|B02682|[40.7751007080078...|\n",
      "| 9/6/2014 11:13:00|40.7191|-73.9754|B02682|[40.7191009521484...|\n",
      "| 9/6/2014 11:43:00|40.7242|-73.9829|B02617|[40.7242012023925...|\n",
      "|  9/7/2014 1:36:00| 40.751|-73.9829|B02764|[40.7509994506835...|\n",
      "|9/13/2014 22:59:00|40.7081|-73.9429|B02764|[40.7080993652343...|\n",
      "|9/11/2014 18:48:00|40.7412|-74.0404|B02682|[40.7411994934082...|\n",
      "|9/11/2014 19:10:00|40.7592|-73.9763|B02617|[40.7592010498046...|\n",
      "|9/28/2014 23:13:00|40.7309| -73.954|B02598|[40.7308998107910...|\n",
      "|9/10/2014 19:38:00|40.7578|-73.8448|B02682|[40.7578010559082...|\n",
      "| 9/2/2014 11:50:00|40.7241|-74.0033|B02682|[40.7240982055664...|\n",
      "| 9/6/2014 12:33:00|40.7452|-73.9484|B02764|[40.7452011108398...|\n",
      "|9/29/2014 10:32:00|40.7527|-73.9831|B02764|[40.7527008056640...|\n",
      "+------------------+-------+--------+------+--------------------+\n",
      "only showing top 20 rows\n",
      "\n"
     ]
    }
   ],
   "source": [
    "from pyspark.ml.feature import VectorAssembler\n",
    "\n",
    "## TODO : create a feature vectors using 'Lat'  and 'Lon'  attributes\n",
    "assembler = VectorAssembler(inputCols=[\"Lat\", \"Lon\"], outputCol=\"features\")\n",
    "featureVector = assembler.transform(uber_pickups_clean)\n",
    "featureVector.show()"
   ]
  },
  {
   "cell_type": "markdown",
   "metadata": {},
   "source": [
    "## Step 4: Running Kmeans\n",
    "\n",
    "Now it's time to run kmeans on the resultant dataframe.  We don't know what value of k to use, so let's just start with k=4.  This means we will cluster into four groups.\n",
    "\n",
    "We will fit a model to the data, and then train it."
   ]
  },
  {
   "cell_type": "code",
   "execution_count": 7,
   "metadata": {
    "collapsed": true
   },
   "outputs": [],
   "source": [
    "from pyspark.ml.clustering import KMeans\n",
    "\n",
    "## TODO : start with 4 clusters\n",
    "num_clusters = 4\n",
    "kmeans = KMeans().setK(num_clusters).setSeed(1)\n",
    "\n",
    "## setting a seed helps reproduceable runs\n",
    "#kmeans = KMeans().setK(num_clusters).setSeed(1)"
   ]
  },
  {
   "cell_type": "code",
   "execution_count": 8,
   "metadata": {},
   "outputs": [
    {
     "name": "stdout",
     "output_type": "stream",
     "text": [
      "CPU times: user 8 ms, sys: 0 ns, total: 8 ms\n",
      "Wall time: 3.95 s\n"
     ]
    }
   ],
   "source": [
    "%%time\n",
    "\n",
    "## TODO : fit (featureVector)\n",
    "model = kmeans.fit(featureVector)"
   ]
  },
  {
   "cell_type": "code",
   "execution_count": 9,
   "metadata": {},
   "outputs": [
    {
     "name": "stdout",
     "output_type": "stream",
     "text": [
      "num_clusters = 4,  WSSSE = 18.956462176856782\n"
     ]
    }
   ],
   "source": [
    "## WSSSE\n",
    "wssse = model.computeCost(featureVector)\n",
    "print (\"num_clusters = {},  WSSSE = {:,}\".format(num_clusters, wssse))"
   ]
  },
  {
   "cell_type": "markdown",
   "metadata": {},
   "source": [
    "## Step 5: Let's find the best K - Hyperparameter tuning\n",
    "\n",
    "Let's try iterating and plotting over values of k, so we can practice using the elbow method.\n"
   ]
  },
  {
   "cell_type": "code",
   "execution_count": 10,
   "metadata": {
    "collapsed": true
   },
   "outputs": [
    {
     "name": "stdout",
     "output_type": "stream",
     "text": [
      "k=2,  wssse=43.81037100445453,  time took 1,623.73 ms\n",
      "k=3,  wssse=23.405478495577455,  time took 1,746.87 ms\n",
      "k=4,  wssse=18.956462176856782,  time took 1,693.78 ms\n",
      "k=5,  wssse=15.777779078551966,  time took 1,367.21 ms\n",
      "k=6,  wssse=12.130705111792851,  time took 1,214.88 ms\n",
      "k=7,  wssse=9.694708813401633,  time took 1,405.70 ms\n",
      "k=8,  wssse=11.17531014847885,  time took 1,083.21 ms\n",
      "k=9,  wssse=8.496342099692702,  time took 1,480.52 ms\n"
     ]
    }
   ],
   "source": [
    "import time\n",
    "\n",
    "kvals = []\n",
    "wssses = []\n",
    "\n",
    "## TODO : loop over k values from 2 to 10\n",
    "for k in range(2, 10):\n",
    "    kmeans = KMeans().setK(k).setSeed(1)\n",
    "    t1 = time.perf_counter()\n",
    "    model = kmeans.fit(featureVector)\n",
    "    t2 = time.perf_counter()\n",
    "    wssse = model.computeCost(featureVector)\n",
    "    print (\"k={},  wssse={},  time took {:,.2f} ms\".format(k,wssse, ((t2-t1)*1000)))\n",
    "    kvals.append(k)\n",
    "    wssses.append(wssse)"
   ]
  },
  {
   "cell_type": "code",
   "execution_count": 11,
   "metadata": {
    "collapsed": true
   },
   "outputs": [
    {
     "data": {
      "text/html": [
       "<div>\n",
       "<style scoped>\n",
       "    .dataframe tbody tr th:only-of-type {\n",
       "        vertical-align: middle;\n",
       "    }\n",
       "\n",
       "    .dataframe tbody tr th {\n",
       "        vertical-align: top;\n",
       "    }\n",
       "\n",
       "    .dataframe thead th {\n",
       "        text-align: right;\n",
       "    }\n",
       "</style>\n",
       "<table border=\"1\" class=\"dataframe\">\n",
       "  <thead>\n",
       "    <tr style=\"text-align: right;\">\n",
       "      <th></th>\n",
       "      <th>k</th>\n",
       "      <th>wssse</th>\n",
       "    </tr>\n",
       "  </thead>\n",
       "  <tbody>\n",
       "    <tr>\n",
       "      <th>0</th>\n",
       "      <td>2</td>\n",
       "      <td>43.810371</td>\n",
       "    </tr>\n",
       "    <tr>\n",
       "      <th>1</th>\n",
       "      <td>3</td>\n",
       "      <td>23.405478</td>\n",
       "    </tr>\n",
       "    <tr>\n",
       "      <th>2</th>\n",
       "      <td>4</td>\n",
       "      <td>18.956462</td>\n",
       "    </tr>\n",
       "    <tr>\n",
       "      <th>3</th>\n",
       "      <td>5</td>\n",
       "      <td>15.777779</td>\n",
       "    </tr>\n",
       "    <tr>\n",
       "      <th>4</th>\n",
       "      <td>6</td>\n",
       "      <td>12.130705</td>\n",
       "    </tr>\n",
       "    <tr>\n",
       "      <th>5</th>\n",
       "      <td>7</td>\n",
       "      <td>9.694709</td>\n",
       "    </tr>\n",
       "    <tr>\n",
       "      <th>6</th>\n",
       "      <td>8</td>\n",
       "      <td>11.175310</td>\n",
       "    </tr>\n",
       "    <tr>\n",
       "      <th>7</th>\n",
       "      <td>9</td>\n",
       "      <td>8.496342</td>\n",
       "    </tr>\n",
       "  </tbody>\n",
       "</table>\n",
       "</div>"
      ],
      "text/plain": [
       "   k      wssse\n",
       "0  2  43.810371\n",
       "1  3  23.405478\n",
       "2  4  18.956462\n",
       "3  5  15.777779\n",
       "4  6  12.130705\n",
       "5  7   9.694709\n",
       "6  8  11.175310\n",
       "7  9   8.496342"
      ]
     },
     "execution_count": 11,
     "metadata": {},
     "output_type": "execute_result"
    }
   ],
   "source": [
    "import pandas as pd\n",
    "df = pd.DataFrame({'k': kvals, 'wssse':wssses})\n",
    "df"
   ]
  },
  {
   "cell_type": "code",
   "execution_count": 12,
   "metadata": {
    "collapsed": true
   },
   "outputs": [
    {
     "data": {
      "text/plain": [
       "[<matplotlib.lines.Line2D at 0x7f68bebfb908>]"
      ]
     },
     "execution_count": 12,
     "metadata": {},
     "output_type": "execute_result"
    },
    {
     "data": {
      "image/png": "[encoded data removed]",
      "text/plain": [
       "<Figure size 432x288 with 1 Axes>"
      ]
     },
     "metadata": {
      "needs_background": "light"
     },
     "output_type": "display_data"
    }
   ],
   "source": [
    "%matplotlib inline\n",
    "import matplotlib.pyplot as plt\n",
    "\n",
    "plt.plot(kvals, wssses)"
   ]
  },
  {
   "cell_type": "markdown",
   "metadata": {},
   "source": [
    "## Step 6 : Let's run K-Means with the best K we have choosen\n",
    "From the graph above, choose a good K value.  We wwill use that below"
   ]
  },
  {
   "cell_type": "code",
   "execution_count": 13,
   "metadata": {
    "collapsed": true
   },
   "outputs": [
    {
     "name": "stdout",
     "output_type": "stream",
     "text": [
      "Kmeans : 7 clusters computed in 1,263.22 ms\n",
      "num_clusters = 7,  WSSSE = 9.694708813401633\n"
     ]
    }
   ],
   "source": [
    "## TODO : pick a K value\n",
    "num_clusters = 7\n",
    "kmeans = KMeans().setK(num_clusters).setSeed(1)\n",
    "\n",
    "t1 = time.perf_counter()\n",
    "model = kmeans.fit(featureVector)\n",
    "t2 = time.perf_counter()\n",
    "\n",
    "wssse = model.computeCost(featureVector)\n",
    "\n",
    "\n",
    "print(\"Kmeans : {} clusters computed in {:,.2f} ms\".format( num_clusters,  ((t2-t1)*1000)))\n",
    "print (\"num_clusters = {},  WSSSE = {:,}\".format(num_clusters, wssse))"
   ]
  },
  {
   "cell_type": "markdown",
   "metadata": {},
   "source": [
    "### Predict"
   ]
  },
  {
   "cell_type": "code",
   "execution_count": 14,
   "metadata": {
    "collapsed": true
   },
   "outputs": [
    {
     "name": "stdout",
     "output_type": "stream",
     "text": [
      "9,999 records clustered in 50.92 ms\n",
      "+------------------+-------+--------+------+--------------------+----------+\n",
      "|       pickup_time|    Lat|     Lon|  Base|            features|prediction|\n",
      "+------------------+-------+--------+------+--------------------+----------+\n",
      "|9/25/2014 15:28:00|40.7633|-73.9402|B02598|[40.7633018493652...|         3|\n",
      "|  9/5/2014 3:50:00|40.7441|-74.0067|B02617|[40.7440986633300...|         0|\n",
      "|9/24/2014 13:39:00|40.7408|-73.9916|B02617|[40.7407989501953...|         0|\n",
      "| 9/18/2014 0:31:00|40.7396|-74.0023|B02617|[40.7396011352539...|         0|\n",
      "|9/20/2014 11:22:00|40.7441|-73.9919|B02617|[40.7440986633300...|         0|\n",
      "|9/26/2014 17:03:00|40.6943|-73.9239|B02764|[40.6943016052246...|         4|\n",
      "|9/24/2014 18:59:00|40.8526|-73.8435|B02617|[40.8526000976562...|         5|\n",
      "|9/23/2014 16:33:00|40.7146|-74.0087|B02617|[40.714599609375,...|         0|\n",
      "|9/17/2014 22:16:00|40.7751|-73.9092|B02682|[40.7751007080078...|         5|\n",
      "| 9/6/2014 11:13:00|40.7191|-73.9754|B02682|[40.7191009521484...|         0|\n",
      "| 9/6/2014 11:43:00|40.7242|-73.9829|B02617|[40.7242012023925...|         0|\n",
      "|  9/7/2014 1:36:00| 40.751|-73.9829|B02764|[40.7509994506835...|         3|\n",
      "|9/13/2014 22:59:00|40.7081|-73.9429|B02764|[40.7080993652343...|         4|\n",
      "|9/11/2014 18:48:00|40.7412|-74.0404|B02682|[40.7411994934082...|         0|\n",
      "|9/11/2014 19:10:00|40.7592|-73.9763|B02617|[40.7592010498046...|         3|\n",
      "|9/28/2014 23:13:00|40.7309| -73.954|B02598|[40.7308998107910...|         3|\n",
      "|9/10/2014 19:38:00|40.7578|-73.8448|B02682|[40.7578010559082...|         5|\n",
      "| 9/2/2014 11:50:00|40.7241|-74.0033|B02682|[40.7240982055664...|         0|\n",
      "| 9/6/2014 12:33:00|40.7452|-73.9484|B02764|[40.7452011108398...|         3|\n",
      "|9/29/2014 10:32:00|40.7527|-73.9831|B02764|[40.7527008056640...|         3|\n",
      "+------------------+-------+--------+------+--------------------+----------+\n",
      "only showing top 20 rows\n",
      "\n"
     ]
    }
   ],
   "source": [
    "t1 = time.perf_counter()\n",
    "predicted = model.transform(featureVector)\n",
    "t2 = time.perf_counter()\n",
    "\n",
    "print (\"{:,} records clustered in {:,.2f} ms\".format(predicted.count(), ((t2-t1)*1000) ))\n",
    "\n",
    "predicted.show()"
   ]
  },
  {
   "cell_type": "markdown",
   "metadata": {},
   "source": [
    "## Step 7 : Print Cluster Center and Size"
   ]
  },
  {
   "cell_type": "code",
   "execution_count": 15,
   "metadata": {
    "collapsed": true
   },
   "outputs": [
    {
     "name": "stdout",
     "output_type": "stream",
     "text": [
      "+----------+-----+\n",
      "|prediction|count|\n",
      "+----------+-----+\n",
      "|         0| 4367|\n",
      "|         1|   41|\n",
      "|         2|  300|\n",
      "|         3| 3350|\n",
      "|         4| 1348|\n",
      "|         5|  503|\n",
      "|         6|   90|\n",
      "+----------+-----+\n",
      "\n",
      "0 [ 40.73255677 -73.99750637]\n",
      "1 [ 40.9051657 -73.6033582]\n",
      "2 [ 40.66320029 -73.78344383]\n",
      "3 [ 40.76869318 -73.97069317]\n",
      "4 [ 40.68774752 -73.96465371]\n",
      "5 [ 40.78916702 -73.8803729 ]\n",
      "6 [ 40.7050081  -74.19973195]\n"
     ]
    }
   ],
   "source": [
    "cluster_count = predicted.groupby(\"prediction\").count().orderBy(\"prediction\")\n",
    "cluster_count.show()\n",
    "index = 0\n",
    "for c in model.clusterCenters():\n",
    "    print(index, c)\n",
    "    index = index+1\n"
   ]
  },
  {
   "cell_type": "markdown",
   "metadata": {},
   "source": [
    "## Step 8 : Ploting time!\n",
    "We are going to plot the results now.  \n",
    "Since we are dealing with GEO co-ordinates, let's use Google Maps!  \n",
    "\n",
    "Go to the following URL :  \n",
    "[https://jsfiddle.net/sujee/omypetfu/](https://jsfiddle.net/sujee/omypetfu/)\n",
    "\n",
    "- Run the code cell below\n",
    "- copy paste the output into Javascript section of the JSFiddle Editor (lower left)\n",
    "- and click 'Run'  (top nav bar)\n",
    "- Click on 'tidy' (top nav bar)  to cleanup code\n",
    "\n",
    "See the following image \n",
    "\n",
    "<img src=\"../assets/images/kmeans_uber_trips_map.png\" style=\"border: 5px solid grey ; max-width:100%;\" />\n",
    "\n",
    "You will be rewarded with a beautiful map of clusters on Google Maps\n",
    "\n",
    "<img src=\"../assets/images/Kmeans_uber_trips.png\" style=\"border: 5px solid grey ; max-width:100%;\" />\n",
    "\n",
    "Optional\n",
    "- You can 'fork' the snippet and keep tweaking"
   ]
  },
  {
   "cell_type": "code",
   "execution_count": null,
   "metadata": {
    "collapsed": true
   },
   "outputs": [],
   "source": [
    "### generate Javascript\n",
    "s1 = \"var clusters = {\"\n",
    "\n",
    "s2 = \"\"\n",
    "\n",
    "prediction_count = predicted.groupby(\"prediction\").count().orderBy(\"prediction\").select(\"count\").collect()\n",
    "total_count = 0\n",
    "cluster_centers = model.clusterCenters()\n",
    "for i in range(0, num_clusters):\n",
    "    count = prediction_count[i][\"count\"]\n",
    "    lat = cluster_centers[i][0]\n",
    "    lng = cluster_centers[i][1]\n",
    "    total_count = total_count + count\n",
    "    if (i > 0):\n",
    "        s2 = s2 + \",\"\n",
    "    s2 = s2 + \" {}: {{ center: {{ lat: {}, lng: {} }}, count: {} }}\".\\\n",
    "        format(i, lat, lng, count)\n",
    "    #s2 = s2 + \"{}: {{  center: {{ }}, }}\".format(i)\n",
    "\n",
    "s3 = s1 + s2 + \"};\"\n",
    "\n",
    "s4 = \"\"\"\n",
    "function initMap() {\n",
    "  // Create the map.\n",
    "  var map = new google.maps.Map(document.getElementById('map'), {\n",
    "    zoom: 10,\n",
    "    center: {\n",
    "      lat: 40.77274573,\n",
    "      lng: -73.94\n",
    "    },\n",
    "    mapTypeId: 'roadmap'\n",
    "  });\n",
    "\n",
    "  // Construct the circle for each value in citymap.\n",
    "  // Note: We scale the area of the circle based on the population.\n",
    "  for (var cluster in clusters) {\n",
    "    // Add the circle for this city to the map.\n",
    "    var cityCircle = new google.maps.Circle({\n",
    "      strokeColor: '#FF0000',\n",
    "      strokeOpacity: 0.8,\n",
    "      strokeWeight: 2,\n",
    "      fillColor: '#FF0000',\n",
    "      fillOpacity: 0.35,\n",
    "      map: map,\n",
    "      center: clusters[cluster].center,\n",
    "\"\"\"\n",
    "\n",
    "s5 = \"radius: clusters[cluster].count / {} * 100 * 300 }});  }}}}\".format(total_count)\n",
    "\n",
    "# final\n",
    "s = s3 + s4 + s5\n",
    "\n",
    "print(s)"
   ]
  },
  {
   "cell_type": "markdown",
   "metadata": {},
   "source": [
    "## Step 9: Let's analyze some more data\n",
    "\n",
    "- In Step-1 select the data_file to \n",
    "```\n",
    "data_file = \"/data/uber-nyc/uber-raw-data-apr14.csv.gz\"\n",
    "```\n",
    "- And select 'Cell --> Run All'  to execute all code blocks\n"
   ]
  },
  {
   "cell_type": "markdown",
   "metadata": {},
   "source": [
    "## Step 10 : Running the script\n",
    "\n",
    "**Use the dowload script**\n",
    "\n",
    "```bash\n",
    "cd   ~/data/uber-nyc\n",
    "./download-data.sh\n",
    "```\n",
    "\n",
    "This will download more data.\n",
    "\n",
    "As we run on larger dataset, the execution will take longer and Jupyter notebook might time out.  So let's run this in command line / script mode\n",
    "\n",
    "```bash\n",
    "\n",
    "$    cd   ~/ml-labs-spark-python/clustering\n",
    "\n",
    "$    time  ~/spark/bin/spark-submit    --master local[*]  kmeans-uber.py 2> logs\n",
    "\n",
    "```\n",
    "\n",
    "Watch the output\n"
   ]
  },
  {
   "cell_type": "code",
   "execution_count": null,
   "metadata": {},
   "outputs": [],
   "source": []
  }
 ],
 "metadata": {
  "anaconda-cloud": {},
  "kernelspec": {
   "display_name": "Python 3",
   "language": "python",
   "name": "python3"
  },
  "language_info": {
   "codemirror_mode": {
    "name": "ipython",
    "version": 3
   },
   "file_extension": ".py",
   "mimetype": "text/x-python",
   "name": "python",
   "nbconvert_exporter": "python",
   "pygments_lexer": "ipython3",
   "version": "3.6.8"
  }
 },
 "nbformat": 4,
 "nbformat_minor": 2
}
