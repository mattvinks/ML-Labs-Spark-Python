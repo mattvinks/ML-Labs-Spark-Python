{
 "cells": [
  {
   "cell_type": "markdown",
   "metadata": {},
   "source": [
    "# Multiple Logistic Regression in Spark  - College Admission\n",
    "\n",
    "### Overview\n",
    "Predict college admission using Multiple Logistic Regression\n",
    " \n",
    "### Builds on\n",
    "None\n",
    "\n",
    "### Run time\n",
    "approx. 10-20 minutes\n",
    "\n",
    "### Notes\n",
    "\n"
   ]
  },
  {
   "cell_type": "code",
   "execution_count": 286,
   "metadata": {},
   "outputs": [
    {
     "name": "stdout",
     "output_type": "stream",
     "text": [
      "Initializing Spark...\n",
      "Spark found in :  /home/ubuntu/spark\n",
      "Spark config:\n",
      "\t executor.memory=2g\n",
      "\tsome_property=some_value\n",
      "\tspark.app.name=TestApp\n",
      "\tspark.master=local[*]\n",
      "\tspark.sql.warehouse.dir=/tmp/tmp89zdj0qd\n",
      "\tspark.submit.deployMode=client\n",
      "\tspark.ui.showConsoleProgress=true\n",
      "Spark UI running on port 4043\n"
     ]
    },
    {
     "data": {
      "text/html": [
       "\n",
       "            <div>\n",
       "                <p><b>SparkSession - in-memory</b></p>\n",
       "                \n",
       "        <div>\n",
       "            <p><b>SparkContext</b></p>\n",
       "\n",
       "            <p><a href=\"http://ip-172-16-0-107.ec2.internal:4043\">Spark UI</a></p>\n",
       "\n",
       "            <dl>\n",
       "              <dt>Version</dt>\n",
       "                <dd><code>v2.4.0</code></dd>\n",
       "              <dt>Master</dt>\n",
       "                <dd><code>local[*]</code></dd>\n",
       "              <dt>AppName</dt>\n",
       "                <dd><code>TestApp</code></dd>\n",
       "            </dl>\n",
       "        </div>\n",
       "        \n",
       "            </div>\n",
       "        "
      ],
      "text/plain": [
       "<pyspark.sql.session.SparkSession at 0x7f96788222e8>"
      ]
     },
     "execution_count": 286,
     "metadata": {},
     "output_type": "execute_result"
    }
   ],
   "source": [
    "# initialize Spark Session\n",
    "import os\n",
    "import sys\n",
    "top_dir = os.path.abspath(os.path.join(os.getcwd(), \"../\"))\n",
    "if top_dir not in sys.path:\n",
    "    sys.path.append(top_dir)\n",
    "\n",
    "from init_spark import init_spark\n",
    "spark = init_spark()\n",
    "spark"
   ]
  },
  {
   "cell_type": "markdown",
   "metadata": {},
   "source": [
    "\n",
    "## Step 1: College Admission Data"
   ]
  },
  {
   "cell_type": "markdown",
   "metadata": {},
   "source": [
    "Let's look at the college admission data.  Here, we have some student test scores, GPA, and Rank, followed by whether the student was admitted or not.\n",
    "\n",
    "```\n",
    "|gre  |gpa  |rank |  admitted |\n",
    "|-----------------------------|\n",
    "|380  |3.61 | 3   |    no     |\n",
    "|660  |3.67 | 1   |    yes    |\n",
    "|800  |4.0  | 1   |    yes    |\n",
    "|640  |3.19 | 4   |    yes    |\n",
    "|520  |2.93 | 4   |    no     |\n",
    "|760  |3.0  | 2   |    yes    |\n",
    "```"
   ]
  },
  {
   "cell_type": "code",
   "execution_count": 290,
   "metadata": {
    "attributes": {
     "classes": [
      "R"
     ],
     "id": ""
    }
   },
   "outputs": [
    {
     "name": "stdout",
     "output_type": "stream",
     "text": [
      "root\n",
      " |-- Gm#: integer (nullable = true)\n",
      " |-- Date: string (nullable = true)\n",
      " |-- _c2: string (nullable = true)\n",
      " |-- Tm: string (nullable = true)\n",
      " |-- _c4: string (nullable = true)\n",
      " |-- Opp: string (nullable = true)\n",
      " |-- W/L: string (nullable = true)\n",
      " |-- R: integer (nullable = true)\n",
      " |-- RA: integer (nullable = true)\n",
      " |-- Inn: integer (nullable = true)\n",
      " |-- W-L: string (nullable = true)\n",
      " |-- Rank: integer (nullable = true)\n",
      " |-- GB: string (nullable = true)\n",
      " |-- Win: string (nullable = true)\n",
      " |-- Loss: string (nullable = true)\n",
      " |-- Save: string (nullable = true)\n",
      " |-- Time: string (nullable = true)\n",
      " |-- D/N: string (nullable = true)\n",
      " |-- Attendance: integer (nullable = true)\n",
      " |-- Streak: string (nullable = true)\n",
      " |-- Orig. Scheduled: string (nullable = true)\n",
      "\n",
      "+---+----------------+--------+---+----+---+----+---+---+----+----+----+------+---------+---------+--------+----+---+----------+----------+---------------+\n",
      "|Gm#|            Date|     _c2| Tm| _c4|Opp| W/L|  R| RA| Inn| W-L|Rank|    GB|      Win|     Loss|    Save|Time|D/N|Attendance|    Streak|Orig. Scheduled|\n",
      "+---+----------------+--------+---+----+---+----+---+---+----+----+----+------+---------+---------+--------+----+---+----------+----------+---------------+\n",
      "|  1| Thursday Mar 28|boxscore|HOU|   @|TBR|   W|  5|  1|null| 1-0|   2|   1.0|Verlander|    Snell|    null|2:38|  D|     25025|         +|           null|\n",
      "|  2|   Friday Mar 29|boxscore|HOU|   @|TBR|   L|  2|  4|null| 1-1|   2|   1.0|   Morton|     Cole|Alvarado|2:38|  N|     13059|         -|           null|\n",
      "|  3| Saturday Mar 30|boxscore|HOU|   @|TBR|   L|  1|  3|null| 1-2|   3|   2.0|  Glasnow|   McHugh|Alvarado|2:40|  N|     16010|        --|           null|\n",
      "|  4|   Sunday Mar 31|boxscore|HOU|   @|TBR|   L|  1|  3|null| 1-3|   4|   3.0| Chirinos|    Miley|Castillo|2:12|  D|     18473|       ---|           null|\n",
      "|  5|    Monday Apr 1|boxscore|HOU|   @|TEX|   W|  2|  1|null| 2-3|   4|   3.0|  Peacock|  Sampson|   Osuna|2:39|  N|     18056|         +|           null|\n",
      "|  6|   Tuesday Apr 2|boxscore|HOU|   @|TEX|   L|  4|  6|null| 2-4|   4|   4.0|   Kelley|   Valdez| Leclerc|3:23|  N|     17907|         -|           null|\n",
      "|  7| Wednesday Apr 3|boxscore|HOU|   @|TEX|   L|  0|  4|null| 2-5|   4|   4.5|    Minor|     Cole|    null|2:39|  N|     22265|        --|           null|\n",
      "|  8|    Friday Apr 5|boxscore|HOU|null|OAK|   W|  3|  2|null| 3-5|   4|   3.5|   McHugh|   Montas|   Osuna|3:03|  N|     43165|         +|           null|\n",
      "|  9|  Saturday Apr 6|boxscore|HOU|null|OAK|   W|  6|  0|null| 4-5|   4|   3.5|    Miley|   Brooks|    null|2:47|  N|     34487|        ++|           null|\n",
      "| 10|    Sunday Apr 7|boxscore|HOU|null|OAK|W-wo|  9|  8|null| 5-5|   2|   3.5|    Osuna|  Treinen|    null|3:39|  D|     34902|       +++|           null|\n",
      "| 11|    Monday Apr 8|boxscore|HOU|null|NYY|   W|  4|  3|null| 6-5|   2|   3.5|  Pressly| Ottavino|   Osuna|2:59|  N|     27631|      ++++|           null|\n",
      "| 12|   Tuesday Apr 9|boxscore|HOU|null|NYY|   W|  6|  3|null| 7-5|   2|   3.5|   Rondon|    Green|   Osuna|3:15|  N|     31009|     +++++|           null|\n",
      "| 13|Wednesday Apr 10|boxscore|HOU|null|NYY|   W|  8|  6|null| 8-5|   2|   3.5|   McHugh|   Paxton| Pressly|3:30|  N|     27685|    ++++++|           null|\n",
      "| 14|   Friday Apr 12|boxscore|HOU|   @|SEA|   W| 10|  6|null| 9-5|   2|   3.0|  Peacock|Armstrong|   Osuna|3:22|  N|     30972|   +++++++|           null|\n",
      "| 15| Saturday Apr 13|boxscore|HOU|   @|SEA|   W|  3|  1|null|10-5|   2|   2.0|Verlander|Hernandez|   Osuna|2:46|  N|     30538|  ++++++++|           null|\n",
      "| 16|   Sunday Apr 14|boxscore|HOU|   @|SEA|   W|  3|  2|null|11-5|   2|   1.0|     Cole|  Brennan|   Osuna|2:40|  D|     29242| +++++++++|           null|\n",
      "| 17|  Tuesday Apr 16|boxscore|HOU|   @|OAK|   W|  9|  1|null|12-5|   1|up 0.5|   McHugh|  Estrada|    null|3:03|  N|     12270|++++++++++|           null|\n",
      "| 18|Wednesday Apr 17|boxscore|HOU|   @|OAK|   L|  1|  2|null|12-6|   1|up 0.5|   Montas|    Miley| Treinen|2:29|  N|     11323|         -|           null|\n",
      "| 19|   Friday Apr 19|boxscore|HOU|   @|TEX|   W|  7|  2|null|13-6|   1|  Tied|Verlander|    Smyly|    null|3:16|  N|     35649|         +|           null|\n",
      "| 20| Saturday Apr 20|boxscore|HOU|   @|TEX|   L|  4|  9|null|13-7|   2|   1.0|   Kelley|     Cole|    null|2:51|  N|     39636|         -|           null|\n",
      "+---+----------------+--------+---+----+---+----+---+---+----+----+----+------+---------+---------+--------+----+---+----------+----------+---------------+\n",
      "only showing top 20 rows\n",
      "\n"
     ]
    },
    {
     "data": {
      "text/plain": [
       "162"
      ]
     },
     "execution_count": 290,
     "metadata": {},
     "output_type": "execute_result"
    }
   ],
   "source": [
    "# admissions = spark.read.csv(\"/data/college-admissions/admission-data.csv\",\\\n",
    "#                             header=True, inferSchema=True)\n",
    "# admissions.printSchema()\n",
    "# admissions.show()\n",
    "# admissions.count()\n",
    "\n",
    "astros = spark.read.csv(\"/home/ubuntu/my-work/Astros.csv\",\\\n",
    "                            header=True, inferSchema=True)\n",
    "astros.printSchema()\n",
    "astros.show()\n",
    "astros.count()"
   ]
  },
  {
   "cell_type": "markdown",
   "metadata": {},
   "source": [
    "## Basic Exploration"
   ]
  },
  {
   "cell_type": "code",
   "execution_count": 269,
   "metadata": {},
   "outputs": [
    {
     "name": "stdout",
     "output_type": "stream",
     "text": [
      "+-----+-----+\n",
      "|admit|count|\n",
      "+-----+-----+\n",
      "|    1|   43|\n",
      "|    0|   57|\n",
      "+-----+-----+\n",
      "\n"
     ]
    }
   ],
   "source": [
    "# see the data spread\n",
    "admissions.groupBy(\"admit\").count().show()"
   ]
  },
  {
   "cell_type": "code",
   "execution_count": 270,
   "metadata": {},
   "outputs": [
    {
     "data": {
      "text/html": [
       "<div>\n",
       "<style scoped>\n",
       "    .dataframe tbody tr th:only-of-type {\n",
       "        vertical-align: middle;\n",
       "    }\n",
       "\n",
       "    .dataframe tbody tr th {\n",
       "        vertical-align: top;\n",
       "    }\n",
       "\n",
       "    .dataframe thead th {\n",
       "        text-align: right;\n",
       "    }\n",
       "</style>\n",
       "<table border=\"1\" class=\"dataframe\">\n",
       "  <thead>\n",
       "    <tr style=\"text-align: right;\">\n",
       "      <th></th>\n",
       "      <th>summary</th>\n",
       "      <th>admit</th>\n",
       "      <th>gre</th>\n",
       "      <th>gpa</th>\n",
       "      <th>rank</th>\n",
       "    </tr>\n",
       "  </thead>\n",
       "  <tbody>\n",
       "    <tr>\n",
       "      <th>0</th>\n",
       "      <td>count</td>\n",
       "      <td>100</td>\n",
       "      <td>100</td>\n",
       "      <td>100</td>\n",
       "      <td>100</td>\n",
       "    </tr>\n",
       "    <tr>\n",
       "      <th>1</th>\n",
       "      <td>mean</td>\n",
       "      <td>0.43</td>\n",
       "      <td>600.0</td>\n",
       "      <td>3.390699999999998</td>\n",
       "      <td>2.52</td>\n",
       "    </tr>\n",
       "    <tr>\n",
       "      <th>2</th>\n",
       "      <td>stddev</td>\n",
       "      <td>0.49756985195624304</td>\n",
       "      <td>124.46248065545332</td>\n",
       "      <td>0.3971877275408833</td>\n",
       "      <td>1.019803902718557</td>\n",
       "    </tr>\n",
       "    <tr>\n",
       "      <th>3</th>\n",
       "      <td>min</td>\n",
       "      <td>0</td>\n",
       "      <td>300</td>\n",
       "      <td>2.42</td>\n",
       "      <td>1</td>\n",
       "    </tr>\n",
       "    <tr>\n",
       "      <th>4</th>\n",
       "      <td>max</td>\n",
       "      <td>1</td>\n",
       "      <td>800</td>\n",
       "      <td>4.0</td>\n",
       "      <td>4</td>\n",
       "    </tr>\n",
       "  </tbody>\n",
       "</table>\n",
       "</div>"
      ],
      "text/plain": [
       "  summary                admit                 gre                 gpa  \\\n",
       "0   count                  100                 100                 100   \n",
       "1    mean                 0.43               600.0   3.390699999999998   \n",
       "2  stddev  0.49756985195624304  124.46248065545332  0.3971877275408833   \n",
       "3     min                    0                 300                2.42   \n",
       "4     max                    1                 800                 4.0   \n",
       "\n",
       "                rank  \n",
       "0                100  \n",
       "1               2.52  \n",
       "2  1.019803902718557  \n",
       "3                  1  \n",
       "4                  4  "
      ]
     },
     "execution_count": 270,
     "metadata": {},
     "output_type": "execute_result"
    }
   ],
   "source": [
    "## see each column \n",
    "admissions.describe().toPandas()"
   ]
  },
  {
   "cell_type": "markdown",
   "metadata": {},
   "source": [
    "## Step 2: Prepare feature vector\n",
    "\n",
    "We need to firstconvert the dataframe to spark, and then prepare the feature vector.\n"
   ]
  },
  {
   "cell_type": "code",
   "execution_count": 271,
   "metadata": {},
   "outputs": [],
   "source": [
    "from pyspark.ml.feature import VectorAssembler\n",
    "\n",
    "## TODO: Select all columns except for \"admit\" to be in features **\n",
    "## Hint : select columns 'gpa', 'gre', 'rank'\n",
    "assembler = VectorAssembler(inputCols=[\"gre\", \"gpa\",\"rank\"], outputCol=\"features\")\n",
    "featureVector = assembler.transform(admissions)"
   ]
  },
  {
   "cell_type": "code",
   "execution_count": 272,
   "metadata": {},
   "outputs": [
    {
     "name": "stdout",
     "output_type": "stream",
     "text": [
      "+-----+---+----+----+----------------+-----+\n",
      "|admit|gre| gpa|rank|        features|label|\n",
      "+-----+---+----+----+----------------+-----+\n",
      "|    0|380|3.61|   3|[380.0,3.61,3.0]|    0|\n",
      "|    1|660|3.67|   3|[660.0,3.67,3.0]|    1|\n",
      "|    1|800| 4.0|   1| [800.0,4.0,1.0]|    1|\n",
      "|    0|640|3.19|   4|[640.0,3.19,4.0]|    0|\n",
      "|    0|520|2.93|   4|[520.0,2.93,4.0]|    0|\n",
      "|    1|760| 3.0|   2| [760.0,3.0,2.0]|    1|\n",
      "|    0|560|2.98|   1|[560.0,2.98,1.0]|    0|\n",
      "|    0|400|3.08|   2|[400.0,3.08,2.0]|    0|\n",
      "|    0|540|3.39|   3|[540.0,3.39,3.0]|    0|\n",
      "|    1|700|3.92|   2|[700.0,3.92,2.0]|    1|\n",
      "|    1|800| 4.0|   4| [800.0,4.0,4.0]|    1|\n",
      "|    0|440|3.22|   1|[440.0,3.22,1.0]|    0|\n",
      "|    1|760| 4.0|   1| [760.0,4.0,1.0]|    1|\n",
      "|    1|700|3.08|   2|[700.0,3.08,2.0]|    1|\n",
      "|    1|700| 4.0|   1| [700.0,4.0,1.0]|    1|\n",
      "|    0|480|3.44|   3|[480.0,3.44,3.0]|    0|\n",
      "|    1|780|3.87|   4|[780.0,3.87,4.0]|    1|\n",
      "|    0|360|2.56|   3|[360.0,2.56,3.0]|    0|\n",
      "|    1|800|3.75|   2|[800.0,3.75,2.0]|    1|\n",
      "|    0|540|3.81|   1|[540.0,3.81,1.0]|    0|\n",
      "+-----+---+----+----+----------------+-----+\n",
      "only showing top 20 rows\n",
      "\n"
     ]
    }
   ],
   "source": [
    "## TODO: Make a new column called \"label\" with same value as \"admit\"\n",
    "## Hint : featureVector is 'admit'\n",
    "featureVector = featureVector.withColumn(\"label\",featureVector[\"admit\"])\n",
    "featureVector.show()"
   ]
  },
  {
   "cell_type": "markdown",
   "metadata": {},
   "source": [
    "## Step 3: Split Data into training and Test\n",
    "\n",
    "We will split our data into training and test so we can see how it performs."
   ]
  },
  {
   "cell_type": "code",
   "execution_count": 273,
   "metadata": {},
   "outputs": [
    {
     "name": "stdout",
     "output_type": "stream",
     "text": [
      "train dataset count :  77\n",
      "test dataset count :  23\n",
      "training data set\n",
      "+-----+---+----+----+----------------+-----+\n",
      "|admit|gre| gpa|rank|        features|label|\n",
      "+-----+---+----+----+----------------+-----+\n",
      "|    0|300|2.92|   4|[300.0,2.92,4.0]|    0|\n",
      "|    0|360|2.56|   3|[360.0,2.56,3.0]|    0|\n",
      "|    0|360|3.14|   1|[360.0,3.14,1.0]|    0|\n",
      "|    0|380|2.91|   4|[380.0,2.91,4.0]|    0|\n",
      "|    0|380|3.61|   3|[380.0,3.61,3.0]|    0|\n",
      "|    0|400|3.05|   2|[400.0,3.05,2.0]|    0|\n",
      "|    0|400|3.08|   2|[400.0,3.08,2.0]|    0|\n",
      "|    0|400|3.31|   3|[400.0,3.31,3.0]|    0|\n",
      "|    0|400|3.35|   3|[400.0,3.35,3.0]|    0|\n",
      "|    0|440|2.48|   4|[440.0,2.48,4.0]|    0|\n",
      "+-----+---+----+----+----------------+-----+\n",
      "only showing top 10 rows\n",
      "\n",
      "test data set\n",
      "+-----+---+----+----+----------------+-----+\n",
      "|admit|gre| gpa|rank|        features|label|\n",
      "+-----+---+----+----+----------------+-----+\n",
      "|    0|380|2.94|   3|[380.0,2.94,3.0]|    0|\n",
      "|    0|400|3.65|   2|[400.0,3.65,2.0]|    0|\n",
      "|    0|480|3.57|   2|[480.0,3.57,2.0]|    0|\n",
      "|    0|500|2.97|   4|[500.0,2.97,4.0]|    0|\n",
      "|    0|500|3.31|   3|[500.0,3.31,3.0]|    0|\n",
      "|    0|520|3.29|   1|[520.0,3.29,1.0]|    0|\n",
      "|    0|540|3.81|   1|[540.0,3.81,1.0]|    0|\n",
      "|    0|560|3.32|   4|[560.0,3.32,4.0]|    0|\n",
      "|    0|580|3.69|   1|[580.0,3.69,1.0]|    0|\n",
      "|    0|580| 4.0|   3| [580.0,4.0,3.0]|    0|\n",
      "+-----+---+----+----+----------------+-----+\n",
      "only showing top 10 rows\n",
      "\n"
     ]
    }
   ],
   "source": [
    "## TODO : Split the data into train and test 70%  and 30%\n",
    "## Hint : \n",
    "##     - training split is 70%  --> 0.7\n",
    "##     - testing split  is 30%  --> 0.3\n",
    "(train, test) = featureVector.randomSplit([0.7,  0.3], seed=1)\n",
    "#(train, test) = featureVector.randomSplit([???,  ???], seed=1)\n",
    "\n",
    "## print out record count\n",
    "print (\"train dataset count : \" , train.count())\n",
    "print (\"test dataset count : \" , test.count())\n",
    "\n",
    "print(\"training data set\")\n",
    "train.show(10)\n",
    "\n",
    "print(\"test data set\")\n",
    "test.show(10)"
   ]
  },
  {
   "cell_type": "markdown",
   "metadata": {},
   "source": [
    "\n",
    "## Step 4: Run logistic regression"
   ]
  },
  {
   "cell_type": "code",
   "execution_count": 274,
   "metadata": {},
   "outputs": [
    {
     "name": "stdout",
     "output_type": "stream",
     "text": [
      "Coefficients: [0.012775375783527821,3.5356627239979175,-0.4122002367452471]\n",
      "Intercept: -18.712141689542694\n"
     ]
    }
   ],
   "source": [
    "from pyspark.ml.classification import LogisticRegression\n",
    "\n",
    "## TODO : set maxIter to 10\n",
    "#lr = LogisticRegression(maxIter=???)\n",
    "lr = LogisticRegression(maxIter=100, regParam=0.0, elasticNetParam=0.8)\n",
    "lr.setThreshold(0.3)\n",
    "\n",
    "## TODO : Fit the model on 'training' set\n",
    "lrModel = lr.fit(train)\n",
    "\n",
    "# Print the coefficients and intercept for logistic regression\n",
    "print(\"Coefficients: \" + str(lrModel.coefficients))\n",
    "print(\"Intercept: \" + str(lrModel.intercept))"
   ]
  },
  {
   "cell_type": "markdown",
   "metadata": {},
   "source": [
    "**==> Q : Do any of your coefficients zero?  What is the implication?**  \n",
    "If you see ZERO coefficients, try the following:\n",
    "- increase the number of iterations and run again\n",
    "- turn off regularization by setting `regparam=0`"
   ]
  },
  {
   "cell_type": "markdown",
   "metadata": {},
   "source": [
    "## Step 5: Predict on Test data"
   ]
  },
  {
   "cell_type": "code",
   "execution_count": 275,
   "metadata": {},
   "outputs": [
    {
     "name": "stdout",
     "output_type": "stream",
     "text": [
      "+-----+---+----+----+----------------+-----+--------------------+--------------------+----------+\n",
      "|admit|gre| gpa|rank|        features|label|       rawPrediction|         probability|prediction|\n",
      "+-----+---+----+----+----------------+-----+--------------------+--------------------+----------+\n",
      "|    0|380|2.94|   3|[380.0,2.94,3.0]|    0|[4.69925119348398...|[0.99098001050349...|       0.0|\n",
      "|    0|400|3.65|   2|[400.0,3.65,2.0]|    0|[1.52122290702966...|[0.82071848928434...|       0.0|\n",
      "|    0|480|3.57|   2|[480.0,3.57,2.0]|    0|[0.78204586226727...|[0.68612087650862...|       1.0|\n",
      "|    0|500|2.97|   4|[500.0,2.97,4.0]|    0|[3.47233645448595...|[0.96989032514807...|       0.0|\n",
      "|    0|500|3.31|   3|[500.0,3.31,3.0]|    0|[1.85801089158141...|[0.86506493276160...|       0.0|\n",
      "|    0|520|3.29|   1|[520.0,3.29,1.0]|    0|[0.84881615690032...|[0.70031874541651...|       0.0|\n",
      "|    0|540|3.81|   1|[540.0,3.81,1.0]|    0|[-1.2452359752491...|[0.22352590364091...|       1.0|\n",
      "|    0|560|3.32|   4|[560.0,3.32,4.0]|    0|[1.46833195407501...|[0.81280371886505...|       0.0|\n",
      "|    0|580|3.69|   1|[580.0,3.69,1.0]|    0|[-1.3319714797105...|[0.20883344633605...|       1.0|\n",
      "|    0|580| 4.0|   3| [580.0,4.0,3.0]|    0|[-1.6036264506593...|[0.16747537845854...|       1.0|\n",
      "|    0|600|2.82|   4|[600.0,2.82,4.0]|    0|[2.72514828473286...|[0.93849437825415...|       0.0|\n",
      "|    0|600|2.82|   4|[600.0,2.82,4.0]|    0|[2.72514828473286...|[0.93849437825415...|       0.0|\n",
      "|    0|600|3.48|   2|[600.0,3.48,2.0]|    0|[-0.4327895865962...|[0.39346040115740...|       1.0|\n",
      "|    0|600|3.59|   2|[600.0,3.59,2.0]|    0|[-0.8217124862360...|[0.30540026755844...|       1.0|\n",
      "|    0|640|3.86|   3|[640.0,3.86,3.0]|    0|[-1.8751562163113...|[0.13294623187185...|       1.0|\n",
      "|    0|680|3.19|   4|[680.0,3.19,4.0]|    0|[0.39492301417140...|[0.59746725086378...|       1.0|\n",
      "|    0|740|3.37|   4|[740.0,3.37,4.0]|    0|[-1.0080188231598...|[0.26736774920658...|       1.0|\n",
      "|    1|520|2.68|   3|[520.0,2.68,3.0]|    1|[3.82997089202954...|[0.97875107192699...|       0.0|\n",
      "|    1|700| 4.0|   1| [700.0,4.0,1.0]|    1|[-3.9610720181732...|[0.01868684152073...|       1.0|\n",
      "|    1|760| 4.0|   1| [760.0,4.0,1.0]|    1|[-4.7275945651848...|[0.00877013235003...|       1.0|\n",
      "+-----+---+----+----+----------------+-----+--------------------+--------------------+----------+\n",
      "only showing top 20 rows\n",
      "\n",
      "+-----+---+----+----+----------------+-----+--------------------+--------------------+----------+\n",
      "|admit|gre| gpa|rank|        features|label|       rawPrediction|         probability|prediction|\n",
      "+-----+---+----+----+----------------+-----+--------------------+--------------------+----------+\n",
      "|    0|400|3.65|   2|[400.0,3.65,2.0]|    0|[1.52122290702966...|[0.82071848928434...|       0.0|\n",
      "|    0|580|3.69|   1|[580.0,3.69,1.0]|    0|[-1.3319714797105...|[0.20883344633605...|       1.0|\n",
      "|    0|580| 4.0|   3| [580.0,4.0,3.0]|    0|[-1.6036264506593...|[0.16747537845854...|       1.0|\n",
      "|    0|600|2.82|   4|[600.0,2.82,4.0]|    0|[2.72514828473286...|[0.93849437825415...|       0.0|\n",
      "|    0|600|3.59|   2|[600.0,3.59,2.0]|    0|[-0.8217124862360...|[0.30540026755844...|       1.0|\n",
      "|    0|680|3.19|   4|[680.0,3.19,4.0]|    0|[0.39492301417140...|[0.59746725086378...|       1.0|\n",
      "|    0|740|3.37|   4|[740.0,3.37,4.0]|    0|[-1.0080188231598...|[0.26736774920658...|       1.0|\n",
      "|    1|520|2.68|   3|[520.0,2.68,3.0]|    1|[3.82997089202954...|[0.97875107192699...|       0.0|\n",
      "|    1|760| 4.0|   1| [760.0,4.0,1.0]|    1|[-4.7275945651848...|[0.00877013235003...|       1.0|\n",
      "|    1|800|3.75|   2|[800.0,3.75,2.0]|    1|[-3.9424936787812...|[0.01903058838191...|       1.0|\n",
      "|    1|800| 3.9|   2| [800.0,3.9,2.0]|    1|[-4.4728430873809...|[0.01128598886239...|       1.0|\n",
      "+-----+---+----+----+----------------+-----+--------------------+--------------------+----------+\n",
      "\n"
     ]
    }
   ],
   "source": [
    "## TODO : predict on 'test' data\n",
    "predictions_test = lrModel.transform(test)\n",
    "predictions_test.show()\n",
    "# sample a few 0 and 1\n",
    "predictions_test.sampleBy(\"prediction\", fractions={0: 0.5, 1: 0.5}, seed=0).show()"
   ]
  },
  {
   "cell_type": "markdown",
   "metadata": {},
   "source": [
    "## Step 6: Evaluate Model"
   ]
  },
  {
   "cell_type": "code",
   "execution_count": 276,
   "metadata": {},
   "outputs": [],
   "source": [
    "trainingSummary = lrModel.summary\n",
    "\n",
    "predictions_test = lrModel.transform(test)  # Hint : 'test'\n",
    "predictions_train = lrModel.transform(train) #  Hint : 'train'\n",
    "\n",
    "# we can also get this from trainingSummary\n",
    "predictions_train = lrModel.summary.predictions"
   ]
  },
  {
   "cell_type": "markdown",
   "metadata": {},
   "source": [
    "### 6.1 - Iterations and Objective History\n",
    "**==> Q : how many iterations did we do?**  \n",
    "- What does that tell you?\n",
    "- Increase the total number of iterations from 50 to 100, Does it change the results?"
   ]
  },
  {
   "cell_type": "code",
   "execution_count": 277,
   "metadata": {},
   "outputs": [
    {
     "name": "stdout",
     "output_type": "stream",
     "text": [
      "total iterations  21\n",
      "objectiveHistory: [0.6923880071472722, 0.6880886259241904, 0.672196221072143, 0.5948594012025606, 0.5876301322033568, 0.5750323586828426, 0.5566562426137645, 0.5108641660692963, 0.45081744911970073, 0.40343650404608616, 0.3869756573078817, 0.3849060833587043, 0.3848658435809512, 0.3846922090824694, 0.38462559261568147, 0.3846152697661423, 0.38461370175747533, 0.38461366902057487, 0.38461365306790524, 0.3846136529973662, 0.3846136529969225]\n"
     ]
    }
   ],
   "source": [
    "## trainingSummary has an attribute called 'totalIterations'  \n",
    "## Hint : use the TAB completion\n",
    "print (\"total iterations \", trainingSummary.totalIterations)\n",
    "\n",
    "## you can uncomment this and see how the error is diminishing in each iteration\n",
    "print(\"objectiveHistory:\" , trainingSummary.objectiveHistory)\n",
    "# for objective in trainingSummary.objectiveHistory:\n",
    "#     print(objective)"
   ]
  },
  {
   "cell_type": "markdown",
   "metadata": {},
   "source": [
    "### 6.2 - accuracy"
   ]
  },
  {
   "cell_type": "code",
   "execution_count": 278,
   "metadata": {},
   "outputs": [
    {
     "name": "stdout",
     "output_type": "stream",
     "text": [
      "Training set accuracy =  0.8181818181818182\n",
      "Test set accuracy =  0.5652173913043478\n"
     ]
    }
   ],
   "source": [
    "from pyspark.ml.evaluation import MulticlassClassificationEvaluator\n",
    "\n",
    "evaluator = MulticlassClassificationEvaluator(labelCol=\"label\", predictionCol=\"prediction\",\n",
    "                                              metricName=\"accuracy\")\n",
    "\n",
    "print(\"Training set accuracy = \" , evaluator.evaluate(predictions_train))\n",
    "print(\"Test set accuracy = \" , evaluator.evaluate(predictions_test))"
   ]
  },
  {
   "cell_type": "markdown",
   "metadata": {},
   "source": [
    "### 6.3 Confusion Matrix"
   ]
  },
  {
   "cell_type": "code",
   "execution_count": 279,
   "metadata": {},
   "outputs": [
    {
     "name": "stdout",
     "output_type": "stream",
     "text": [
      "+-----+---+---+\n",
      "|admit|0.0|1.0|\n",
      "+-----+---+---+\n",
      "|    0|  8|  9|\n",
      "|    1|  1|  5|\n",
      "+-----+---+---+\n",
      "\n"
     ]
    }
   ],
   "source": [
    "cm = predictions_test.groupBy('admit').pivot('prediction').count().na.fill(0).orderBy('admit')\n",
    "cm.show()"
   ]
  },
  {
   "cell_type": "code",
   "execution_count": 280,
   "metadata": {},
   "outputs": [
    {
     "data": {
      "text/plain": [
       "[]"
      ]
     },
     "execution_count": 280,
     "metadata": {},
     "output_type": "execute_result"
    },
    {
     "data": {
      "image/png": "[encoded data removed]",
      "text/plain": [
       "<Figure size 432x288 with 2 Axes>"
      ]
     },
     "metadata": {
      "needs_background": "light"
     },
     "output_type": "display_data"
    }
   ],
   "source": [
    "import seaborn as sns\n",
    "\n",
    "cm_pd = cm.toPandas()\n",
    "cm_pd.set_index(\"admit\", inplace=True)\n",
    "# print(cm_pd)\n",
    "\n",
    "# colormaps : cmap=\"YlGnBu\" , cmap=\"Greens\", cmap=\"Blues\",  cmap=\"Reds\"\n",
    "sns.heatmap(cm_pd, annot=True, cmap=\"Blues\").plot()"
   ]
  },
  {
   "cell_type": "markdown",
   "metadata": {},
   "source": [
    "### 6.4 :  ROC Curve & AUC"
   ]
  },
  {
   "cell_type": "code",
   "execution_count": 281,
   "metadata": {},
   "outputs": [
    {
     "name": "stdout",
     "output_type": "stream",
     "text": [
      "AUC for training:  0.9040540540540541\n",
      "AUC for training:  0.9040540540540541\n",
      "AUC for test :  0.8431372549019608\n"
     ]
    }
   ],
   "source": [
    "from pyspark.ml.evaluation import BinaryClassificationEvaluator\n",
    "\n",
    "# default metrics for BinaryClassificationEvaluator is 'areaUnderCurve'\n",
    "evaluator = BinaryClassificationEvaluator(rawPredictionCol=\"rawPrediction\")\n",
    "# print (\"default metrics : \" ,evaluator.getMetricName())\n",
    "\n",
    "# Area Under Curve is part of training summary\n",
    "# use TAB completion :  trainingSummary.TAB\n",
    "# we can get this from trainingSummary\n",
    "print(\"AUC for training: \" , trainingSummary.areaUnderROC)\n",
    "# or\n",
    "print(\"AUC for training: \" , evaluator.evaluate(predictions_train))\n",
    "print (\"AUC for test : \" , evaluator.evaluate(predictions_test))\n"
   ]
  },
  {
   "cell_type": "code",
   "execution_count": 282,
   "metadata": {},
   "outputs": [
    {
     "data": {
      "text/plain": [
       "[<matplotlib.lines.Line2D at 0x7f966d07be48>]"
      ]
     },
     "execution_count": 282,
     "metadata": {},
     "output_type": "execute_result"
    },
    {
     "data": {
      "image/png": "[encoded data removed]",
      "text/plain": [
       "<Figure size 432x288 with 1 Axes>"
      ]
     },
     "metadata": {
      "needs_background": "light"
     },
     "output_type": "display_data"
    }
   ],
   "source": [
    "# ROC\n",
    "\n",
    "%matplotlib inline\n",
    "import matplotlib.pyplot as plt\n",
    "\n",
    "roc_df = trainingSummary.roc.toPandas()\n",
    "\n",
    "plt.plot(roc_df['FPR'], roc_df['TPR'])\n",
    "plt.xlabel(\"FPR\")\n",
    "plt.ylabel(\"TPR\")\n",
    "plt.title(\"ROC Curve\")\n",
    "plt.plot([0.0, 1.0], [0.0, 1.0], 'r')"
   ]
  },
  {
   "cell_type": "markdown",
   "metadata": {},
   "source": [
    "## Step 7: Run some predictions on new data\n",
    "\n",
    "Let's take some new data, and run predictions on that.\n"
   ]
  },
  {
   "cell_type": "code",
   "execution_count": 283,
   "metadata": {},
   "outputs": [
    {
     "name": "stdout",
     "output_type": "stream",
     "text": [
      "   gre  gpa  rank\n",
      "0  600  4.0     1\n",
      "1  700  3.5     2\n",
      "2  800  3.2     3\n",
      "+---+---+----+---------------+--------------------+--------------------+----------+\n",
      "|gre|gpa|rank|       features|       rawPrediction|         probability|prediction|\n",
      "+---+---+----+---------------+--------------------+--------------------+----------+\n",
      "|600|4.0|   1|[600.0,4.0,1.0]|[-2.6835344398204...|[0.06395197099228...|       1.0|\n",
      "|700|3.5|   2|[700.0,3.5,2.0]|[-1.7810404194289...|[0.14417471090802...|       1.0|\n",
      "|800|3.2|   3|[800.0,3.2,3.0]|[-1.5856789438371...|[0.16999270806270...|       1.0|\n",
      "+---+---+----+---------------+--------------------+--------------------+----------+\n",
      "\n"
     ]
    }
   ],
   "source": [
    "import pandas as pd\n",
    "\n",
    "newdata = pd.DataFrame({'gre' : [600, 700, 800], \n",
    "                        'gpa' : [4.0, 3.5, 3.2],\n",
    "                        'rank': [1,   2,   3]}\n",
    "             )\n",
    "print(newdata)\n",
    "\n",
    "\n",
    "## TODO: create spark dataframe from pandas dataframe\n",
    "## Hint : input is 'newdata'\n",
    "spark_newdata = spark.createDataFrame(newdata)\n",
    "\n",
    "## TODO: transform the new data in order to get feature vectors\n",
    "## Hint : spark_newdata\n",
    "newfeatures = assembler.transform(spark_newdata)\n",
    "\n",
    "lrModel.transform(newfeatures).show()"
   ]
  },
  {
   "cell_type": "markdown",
   "metadata": {},
   "source": [
    "## Step 8: Experiment\n",
    "Click on 'Cell --> RunAll' and watch the accuracy number below.  \n",
    "See how it changes?  \n",
    "Can you explain why?"
   ]
  },
  {
   "cell_type": "code",
   "execution_count": 284,
   "metadata": {},
   "outputs": [
    {
     "name": "stdout",
     "output_type": "stream",
     "text": [
      "Training set accuracy =  0.8181818181818182\n",
      "Test set accuracy =  0.5652173913043478\n"
     ]
    }
   ],
   "source": [
    "from pyspark.ml.evaluation import MulticlassClassificationEvaluator\n",
    "\n",
    "evaluator = MulticlassClassificationEvaluator(labelCol=\"label\", predictionCol=\"prediction\",\n",
    "                                              metricName=\"accuracy\")\n",
    "\n",
    "print(\"Training set accuracy = \" , evaluator.evaluate(predictions_train))\n",
    "print(\"Test set accuracy = \" , evaluator.evaluate(predictions_test))"
   ]
  },
  {
   "cell_type": "markdown",
   "metadata": {},
   "source": [
    "### 8.1 - Why do you think the accuracy varies for each run?  \n",
    "\n",
    "Try this, at Step-3, supply a seed parameter (can be any number) and do the run again.  \n",
    "Do you see the accuracy varying now?  \n",
    "Can you explain the behavior?"
   ]
  },
  {
   "cell_type": "markdown",
   "metadata": {},
   "source": [
    "### 8.2 - Adjust regularization (lambda) parameter\n",
    "Vary 'regparam' in **step 4** from 0.1 to 0.9.  \n",
    "Do you see accuracy changing?"
   ]
  },
  {
   "cell_type": "markdown",
   "metadata": {},
   "source": [
    "### 8.3 - Set threshold\n",
    "We can setup 'threshold' in Step-4, as follows\n",
    "\n",
    "```python\n",
    "lr = LogisticRegression(maxIter=???, regParam=0.3, elasticNetParam=0.8)\n",
    "lr.threshold = 0.7  # values between 0 and 1.0\n",
    "```\n",
    "\n",
    "Change the threshold and try a few runs.  See how the accuracy changes."
   ]
  },
  {
   "cell_type": "markdown",
   "metadata": {},
   "source": [
    "### 8.4 - Class discussion\n",
    "How do you find the right 'lambda' ..etc values?  \n",
    "Hint : lots of experimental runs :-) "
   ]
  },
  {
   "cell_type": "markdown",
   "metadata": {},
   "source": [
    "## Step 9 : Save Output\n",
    "**TODO : Inspect the saved data**  \n",
    "(Hint : you can open them in excel)"
   ]
  },
  {
   "cell_type": "code",
   "execution_count": 285,
   "metadata": {},
   "outputs": [
    {
     "name": "stdout",
     "output_type": "stream",
     "text": [
      "save 1 (spark)  to :  college-admissions-predictions.out1\n",
      "save 2 (pandas) to :  college-admissions-predictions.out2.csv\n"
     ]
    }
   ],
   "source": [
    "# save data to a csv file for inspection\n",
    "predictions2 = predictions_test.select(['admit', 'gre', 'gpa', 'rank', 'prediction'])\n",
    "\n",
    "## option1 : use Spark write function\n",
    "## this works for big data (writes are distributed across cluster)\n",
    "output_path1=\"college-admissions-predictions.out1\"\n",
    "predictions2.write.\\\n",
    "    option('header', 'true').\\\n",
    "    mode('overwrite').\\\n",
    "    csv(output_path1)\n",
    "print(\"save 1 (spark)  to : \", output_path1)\n",
    "\n",
    "\n",
    "## Option 2 : convert to Pandas dataframe and save\n",
    "## This is good for small amount of data\n",
    "output_path2= 'college-admissions-predictions.out2.csv'\n",
    "predictions2.toPandas().to_csv(output_path2 )\n",
    "print(\"save 2 (pandas) to : \", output_path2)"
   ]
  },
  {
   "cell_type": "code",
   "execution_count": null,
   "metadata": {},
   "outputs": [],
   "source": []
  }
 ],
 "metadata": {
  "kernelspec": {
   "display_name": "Python 3",
   "language": "python",
   "name": "python3"
  },
  "language_info": {
   "codemirror_mode": {
    "name": "ipython",
    "version": 3
   },
   "file_extension": ".py",
   "mimetype": "text/x-python",
   "name": "python",
   "nbconvert_exporter": "python",
   "pygments_lexer": "ipython3",
   "version": "3.6.8"
  }
 },
 "nbformat": 4,
 "nbformat_minor": 2
}
