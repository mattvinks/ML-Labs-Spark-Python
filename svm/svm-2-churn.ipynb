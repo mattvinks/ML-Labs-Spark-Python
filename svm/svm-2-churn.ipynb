{
 "cells": [
  {
   "cell_type": "markdown",
   "metadata": {},
   "source": [
    "# Support Vector Machines: Churn Analysis\n",
    "\n",
    "Let's look at a classification example in Spark MLLib.  We are going to look at some telecom data to see whether or not a customer \"churned\" or not.\n"
   ]
  },
  {
   "cell_type": "code",
   "execution_count": 63,
   "metadata": {},
   "outputs": [
    {
     "name": "stdout",
     "output_type": "stream",
     "text": [
      "Initializing Spark...\n",
      "Spark found in :  /home/ubuntu/spark\n",
      "Spark config:\n",
      "\t executor.memory=2g\n",
      "\tsome_property=some_value\n",
      "\tspark.app.name=TestApp\n",
      "\tspark.master=local[*]\n",
      "\tspark.sql.warehouse.dir=/tmp/tmp4qqwku4b\n",
      "\tspark.submit.deployMode=client\n",
      "\tspark.ui.showConsoleProgress=true\n",
      "Spark UI running on port 4041\n"
     ]
    },
    {
     "data": {
      "text/html": [
       "\n",
       "            <div>\n",
       "                <p><b>SparkSession - in-memory</b></p>\n",
       "                \n",
       "        <div>\n",
       "            <p><b>SparkContext</b></p>\n",
       "\n",
       "            <p><a href=\"http://ip-172-16-0-107.ec2.internal:4041\">Spark UI</a></p>\n",
       "\n",
       "            <dl>\n",
       "              <dt>Version</dt>\n",
       "                <dd><code>v2.4.0</code></dd>\n",
       "              <dt>Master</dt>\n",
       "                <dd><code>local[*]</code></dd>\n",
       "              <dt>AppName</dt>\n",
       "                <dd><code>TestApp</code></dd>\n",
       "            </dl>\n",
       "        </div>\n",
       "        \n",
       "            </div>\n",
       "        "
      ],
      "text/plain": [
       "<pyspark.sql.session.SparkSession at 0x7f055da832e8>"
      ]
     },
     "execution_count": 63,
     "metadata": {},
     "output_type": "execute_result"
    }
   ],
   "source": [
    "# initialize Spark Session\n",
    "import os\n",
    "import sys\n",
    "top_dir = os.path.abspath(os.path.join(os.getcwd(), \"../\"))\n",
    "if top_dir not in sys.path:\n",
    "    sys.path.append(top_dir)\n",
    "\n",
    "from init_spark import init_spark\n",
    "spark = init_spark()\n",
    "spark"
   ]
  },
  {
   "cell_type": "markdown",
   "metadata": {},
   "source": [
    "## Step 1: Load the data"
   ]
  },
  {
   "cell_type": "code",
   "execution_count": 64,
   "metadata": {},
   "outputs": [
    {
     "name": "stdout",
     "output_type": "stream",
     "text": [
      "CPU times: user 4 ms, sys: 0 ns, total: 4 ms\n",
      "Wall time: 301 ms\n"
     ]
    }
   ],
   "source": [
    "%%time\n",
    "dataset = spark.read.csv(\"/data/churn/telco.csv.gz\", header=True, inferSchema=True)"
   ]
  },
  {
   "cell_type": "code",
   "execution_count": 65,
   "metadata": {},
   "outputs": [
    {
     "name": "stdout",
     "output_type": "stream",
     "text": [
      "read 7,043 records\n",
      "root\n",
      " |-- customerID: string (nullable = true)\n",
      " |-- gender: string (nullable = true)\n",
      " |-- SeniorCitizen: integer (nullable = true)\n",
      " |-- Partner: integer (nullable = true)\n",
      " |-- Dependents: integer (nullable = true)\n",
      " |-- tenure: integer (nullable = true)\n",
      " |-- PhoneService: integer (nullable = true)\n",
      " |-- MultipleLines: integer (nullable = true)\n",
      " |-- InternetService: string (nullable = true)\n",
      " |-- OnlineSecurity: integer (nullable = true)\n",
      " |-- OnlineBackup: integer (nullable = true)\n",
      " |-- DeviceProtection: integer (nullable = true)\n",
      " |-- TechSupport: integer (nullable = true)\n",
      " |-- StreamingTV: integer (nullable = true)\n",
      " |-- StreamingMovies: integer (nullable = true)\n",
      " |-- Contract: string (nullable = true)\n",
      " |-- PaperlessBilling: integer (nullable = true)\n",
      " |-- PaymentMethod: string (nullable = true)\n",
      " |-- MonthlyCharges: double (nullable = true)\n",
      " |-- TotalCharges: double (nullable = true)\n",
      " |-- Churn: string (nullable = true)\n",
      "\n"
     ]
    }
   ],
   "source": [
    "print(\"read {:,} records\".format(dataset.count()))\n",
    "\n",
    "dataset.printSchema()"
   ]
  },
  {
   "cell_type": "code",
   "execution_count": 66,
   "metadata": {},
   "outputs": [
    {
     "data": {
      "text/html": [
       "<div>\n",
       "<style scoped>\n",
       "    .dataframe tbody tr th:only-of-type {\n",
       "        vertical-align: middle;\n",
       "    }\n",
       "\n",
       "    .dataframe tbody tr th {\n",
       "        vertical-align: top;\n",
       "    }\n",
       "\n",
       "    .dataframe thead th {\n",
       "        text-align: right;\n",
       "    }\n",
       "</style>\n",
       "<table border=\"1\" class=\"dataframe\">\n",
       "  <thead>\n",
       "    <tr style=\"text-align: right;\">\n",
       "      <th></th>\n",
       "      <th>0</th>\n",
       "      <th>1</th>\n",
       "      <th>2</th>\n",
       "      <th>3</th>\n",
       "      <th>4</th>\n",
       "    </tr>\n",
       "  </thead>\n",
       "  <tbody>\n",
       "    <tr>\n",
       "      <th>customerID</th>\n",
       "      <td>7590-VHVEG</td>\n",
       "      <td>5575-GNVDE</td>\n",
       "      <td>3668-QPYBK</td>\n",
       "      <td>7795-CFOCW</td>\n",
       "      <td>9237-HQITU</td>\n",
       "    </tr>\n",
       "    <tr>\n",
       "      <th>gender</th>\n",
       "      <td>Female</td>\n",
       "      <td>Male</td>\n",
       "      <td>Male</td>\n",
       "      <td>Male</td>\n",
       "      <td>Female</td>\n",
       "    </tr>\n",
       "    <tr>\n",
       "      <th>SeniorCitizen</th>\n",
       "      <td>0</td>\n",
       "      <td>0</td>\n",
       "      <td>0</td>\n",
       "      <td>0</td>\n",
       "      <td>0</td>\n",
       "    </tr>\n",
       "    <tr>\n",
       "      <th>Partner</th>\n",
       "      <td>1</td>\n",
       "      <td>0</td>\n",
       "      <td>0</td>\n",
       "      <td>0</td>\n",
       "      <td>0</td>\n",
       "    </tr>\n",
       "    <tr>\n",
       "      <th>Dependents</th>\n",
       "      <td>0</td>\n",
       "      <td>0</td>\n",
       "      <td>0</td>\n",
       "      <td>0</td>\n",
       "      <td>0</td>\n",
       "    </tr>\n",
       "    <tr>\n",
       "      <th>tenure</th>\n",
       "      <td>1</td>\n",
       "      <td>34</td>\n",
       "      <td>2</td>\n",
       "      <td>45</td>\n",
       "      <td>2</td>\n",
       "    </tr>\n",
       "    <tr>\n",
       "      <th>PhoneService</th>\n",
       "      <td>0</td>\n",
       "      <td>1</td>\n",
       "      <td>1</td>\n",
       "      <td>0</td>\n",
       "      <td>1</td>\n",
       "    </tr>\n",
       "    <tr>\n",
       "      <th>MultipleLines</th>\n",
       "      <td>0</td>\n",
       "      <td>0</td>\n",
       "      <td>0</td>\n",
       "      <td>0</td>\n",
       "      <td>0</td>\n",
       "    </tr>\n",
       "    <tr>\n",
       "      <th>InternetService</th>\n",
       "      <td>DSL</td>\n",
       "      <td>DSL</td>\n",
       "      <td>DSL</td>\n",
       "      <td>DSL</td>\n",
       "      <td>Fiber optic</td>\n",
       "    </tr>\n",
       "    <tr>\n",
       "      <th>OnlineSecurity</th>\n",
       "      <td>0</td>\n",
       "      <td>1</td>\n",
       "      <td>1</td>\n",
       "      <td>1</td>\n",
       "      <td>0</td>\n",
       "    </tr>\n",
       "    <tr>\n",
       "      <th>OnlineBackup</th>\n",
       "      <td>1</td>\n",
       "      <td>0</td>\n",
       "      <td>1</td>\n",
       "      <td>0</td>\n",
       "      <td>0</td>\n",
       "    </tr>\n",
       "    <tr>\n",
       "      <th>DeviceProtection</th>\n",
       "      <td>0</td>\n",
       "      <td>1</td>\n",
       "      <td>0</td>\n",
       "      <td>1</td>\n",
       "      <td>0</td>\n",
       "    </tr>\n",
       "    <tr>\n",
       "      <th>TechSupport</th>\n",
       "      <td>0</td>\n",
       "      <td>0</td>\n",
       "      <td>0</td>\n",
       "      <td>1</td>\n",
       "      <td>0</td>\n",
       "    </tr>\n",
       "    <tr>\n",
       "      <th>StreamingTV</th>\n",
       "      <td>0</td>\n",
       "      <td>0</td>\n",
       "      <td>0</td>\n",
       "      <td>0</td>\n",
       "      <td>0</td>\n",
       "    </tr>\n",
       "    <tr>\n",
       "      <th>StreamingMovies</th>\n",
       "      <td>0</td>\n",
       "      <td>0</td>\n",
       "      <td>0</td>\n",
       "      <td>0</td>\n",
       "      <td>0</td>\n",
       "    </tr>\n",
       "    <tr>\n",
       "      <th>Contract</th>\n",
       "      <td>Month-to-month</td>\n",
       "      <td>One year</td>\n",
       "      <td>Month-to-month</td>\n",
       "      <td>One year</td>\n",
       "      <td>Month-to-month</td>\n",
       "    </tr>\n",
       "    <tr>\n",
       "      <th>PaperlessBilling</th>\n",
       "      <td>1</td>\n",
       "      <td>0</td>\n",
       "      <td>1</td>\n",
       "      <td>0</td>\n",
       "      <td>1</td>\n",
       "    </tr>\n",
       "    <tr>\n",
       "      <th>PaymentMethod</th>\n",
       "      <td>Electronic check</td>\n",
       "      <td>Mailed check</td>\n",
       "      <td>Mailed check</td>\n",
       "      <td>Bank transfer (automatic)</td>\n",
       "      <td>Electronic check</td>\n",
       "    </tr>\n",
       "    <tr>\n",
       "      <th>MonthlyCharges</th>\n",
       "      <td>29.85</td>\n",
       "      <td>56.95</td>\n",
       "      <td>53.85</td>\n",
       "      <td>42.3</td>\n",
       "      <td>70.7</td>\n",
       "    </tr>\n",
       "    <tr>\n",
       "      <th>TotalCharges</th>\n",
       "      <td>29.85</td>\n",
       "      <td>1889.5</td>\n",
       "      <td>108.15</td>\n",
       "      <td>1840.75</td>\n",
       "      <td>151.65</td>\n",
       "    </tr>\n",
       "    <tr>\n",
       "      <th>Churn</th>\n",
       "      <td>No</td>\n",
       "      <td>No</td>\n",
       "      <td>Yes</td>\n",
       "      <td>No</td>\n",
       "      <td>Yes</td>\n",
       "    </tr>\n",
       "  </tbody>\n",
       "</table>\n",
       "</div>"
      ],
      "text/plain": [
       "                                 0             1               2  \\\n",
       "customerID              7590-VHVEG    5575-GNVDE      3668-QPYBK   \n",
       "gender                      Female          Male            Male   \n",
       "SeniorCitizen                    0             0               0   \n",
       "Partner                          1             0               0   \n",
       "Dependents                       0             0               0   \n",
       "tenure                           1            34               2   \n",
       "PhoneService                     0             1               1   \n",
       "MultipleLines                    0             0               0   \n",
       "InternetService                DSL           DSL             DSL   \n",
       "OnlineSecurity                   0             1               1   \n",
       "OnlineBackup                     1             0               1   \n",
       "DeviceProtection                 0             1               0   \n",
       "TechSupport                      0             0               0   \n",
       "StreamingTV                      0             0               0   \n",
       "StreamingMovies                  0             0               0   \n",
       "Contract            Month-to-month      One year  Month-to-month   \n",
       "PaperlessBilling                 1             0               1   \n",
       "PaymentMethod     Electronic check  Mailed check    Mailed check   \n",
       "MonthlyCharges               29.85         56.95           53.85   \n",
       "TotalCharges                 29.85        1889.5          108.15   \n",
       "Churn                           No            No             Yes   \n",
       "\n",
       "                                          3                 4  \n",
       "customerID                       7795-CFOCW        9237-HQITU  \n",
       "gender                                 Male            Female  \n",
       "SeniorCitizen                             0                 0  \n",
       "Partner                                   0                 0  \n",
       "Dependents                                0                 0  \n",
       "tenure                                   45                 2  \n",
       "PhoneService                              0                 1  \n",
       "MultipleLines                             0                 0  \n",
       "InternetService                         DSL       Fiber optic  \n",
       "OnlineSecurity                            1                 0  \n",
       "OnlineBackup                              0                 0  \n",
       "DeviceProtection                          1                 0  \n",
       "TechSupport                               1                 0  \n",
       "StreamingTV                               0                 0  \n",
       "StreamingMovies                           0                 0  \n",
       "Contract                           One year    Month-to-month  \n",
       "PaperlessBilling                          0                 1  \n",
       "PaymentMethod     Bank transfer (automatic)  Electronic check  \n",
       "MonthlyCharges                         42.3              70.7  \n",
       "TotalCharges                        1840.75            151.65  \n",
       "Churn                                    No               Yes  "
      ]
     },
     "execution_count": 66,
     "metadata": {},
     "output_type": "execute_result"
    }
   ],
   "source": [
    "## Dataframe show output is not easy to read\n",
    "# dataset.show()\n",
    "\n",
    "## pretty print with pandas\n",
    "## horizontally\n",
    "# dataset.limit(5).toPandas()\n",
    "\n",
    "## vertically\n",
    "dataset.limit(5).toPandas().T"
   ]
  },
  {
   "cell_type": "markdown",
   "metadata": {},
   "source": [
    "## Step 2 : Basic Analytics of Data"
   ]
  },
  {
   "cell_type": "code",
   "execution_count": 67,
   "metadata": {},
   "outputs": [
    {
     "data": {
      "text/html": [
       "<div>\n",
       "<style scoped>\n",
       "    .dataframe tbody tr th:only-of-type {\n",
       "        vertical-align: middle;\n",
       "    }\n",
       "\n",
       "    .dataframe tbody tr th {\n",
       "        vertical-align: top;\n",
       "    }\n",
       "\n",
       "    .dataframe thead th {\n",
       "        text-align: right;\n",
       "    }\n",
       "</style>\n",
       "<table border=\"1\" class=\"dataframe\">\n",
       "  <thead>\n",
       "    <tr style=\"text-align: right;\">\n",
       "      <th></th>\n",
       "      <th>0</th>\n",
       "      <th>1</th>\n",
       "      <th>2</th>\n",
       "      <th>3</th>\n",
       "      <th>4</th>\n",
       "    </tr>\n",
       "  </thead>\n",
       "  <tbody>\n",
       "    <tr>\n",
       "      <th>summary</th>\n",
       "      <td>count</td>\n",
       "      <td>mean</td>\n",
       "      <td>stddev</td>\n",
       "      <td>min</td>\n",
       "      <td>max</td>\n",
       "    </tr>\n",
       "    <tr>\n",
       "      <th>customerID</th>\n",
       "      <td>7043</td>\n",
       "      <td>None</td>\n",
       "      <td>None</td>\n",
       "      <td>0002-ORFBO</td>\n",
       "      <td>9995-HOTOH</td>\n",
       "    </tr>\n",
       "    <tr>\n",
       "      <th>gender</th>\n",
       "      <td>7043</td>\n",
       "      <td>None</td>\n",
       "      <td>None</td>\n",
       "      <td>Female</td>\n",
       "      <td>Male</td>\n",
       "    </tr>\n",
       "    <tr>\n",
       "      <th>SeniorCitizen</th>\n",
       "      <td>7043</td>\n",
       "      <td>0.1621468124378816</td>\n",
       "      <td>0.3686116056100135</td>\n",
       "      <td>0</td>\n",
       "      <td>1</td>\n",
       "    </tr>\n",
       "    <tr>\n",
       "      <th>Partner</th>\n",
       "      <td>7043</td>\n",
       "      <td>0.4830327985233565</td>\n",
       "      <td>0.49974751071998735</td>\n",
       "      <td>0</td>\n",
       "      <td>1</td>\n",
       "    </tr>\n",
       "    <tr>\n",
       "      <th>Dependents</th>\n",
       "      <td>7043</td>\n",
       "      <td>0.2995882436461735</td>\n",
       "      <td>0.4581101675100144</td>\n",
       "      <td>0</td>\n",
       "      <td>1</td>\n",
       "    </tr>\n",
       "    <tr>\n",
       "      <th>tenure</th>\n",
       "      <td>7043</td>\n",
       "      <td>32.37114865824223</td>\n",
       "      <td>24.559481023094442</td>\n",
       "      <td>0</td>\n",
       "      <td>72</td>\n",
       "    </tr>\n",
       "    <tr>\n",
       "      <th>PhoneService</th>\n",
       "      <td>7043</td>\n",
       "      <td>0.9031662643759761</td>\n",
       "      <td>0.29575223178363513</td>\n",
       "      <td>0</td>\n",
       "      <td>1</td>\n",
       "    </tr>\n",
       "    <tr>\n",
       "      <th>MultipleLines</th>\n",
       "      <td>7043</td>\n",
       "      <td>0.42183728524776376</td>\n",
       "      <td>0.49388786554556857</td>\n",
       "      <td>0</td>\n",
       "      <td>1</td>\n",
       "    </tr>\n",
       "    <tr>\n",
       "      <th>InternetService</th>\n",
       "      <td>7043</td>\n",
       "      <td>0.0</td>\n",
       "      <td>0.0</td>\n",
       "      <td>0</td>\n",
       "      <td>Fiber optic</td>\n",
       "    </tr>\n",
       "    <tr>\n",
       "      <th>OnlineSecurity</th>\n",
       "      <td>7043</td>\n",
       "      <td>0.2866676132329973</td>\n",
       "      <td>0.4522370299757109</td>\n",
       "      <td>0</td>\n",
       "      <td>1</td>\n",
       "    </tr>\n",
       "    <tr>\n",
       "      <th>OnlineBackup</th>\n",
       "      <td>7043</td>\n",
       "      <td>0.3448814425670879</td>\n",
       "      <td>0.4753633531563784</td>\n",
       "      <td>0</td>\n",
       "      <td>1</td>\n",
       "    </tr>\n",
       "    <tr>\n",
       "      <th>DeviceProtection</th>\n",
       "      <td>7043</td>\n",
       "      <td>0.3438875479199205</td>\n",
       "      <td>0.47503783298083624</td>\n",
       "      <td>0</td>\n",
       "      <td>1</td>\n",
       "    </tr>\n",
       "    <tr>\n",
       "      <th>TechSupport</th>\n",
       "      <td>7043</td>\n",
       "      <td>0.2902172369728809</td>\n",
       "      <td>0.4538947500677702</td>\n",
       "      <td>0</td>\n",
       "      <td>1</td>\n",
       "    </tr>\n",
       "    <tr>\n",
       "      <th>StreamingTV</th>\n",
       "      <td>7043</td>\n",
       "      <td>0.38435325855459324</td>\n",
       "      <td>0.4864765495589309</td>\n",
       "      <td>0</td>\n",
       "      <td>1</td>\n",
       "    </tr>\n",
       "    <tr>\n",
       "      <th>StreamingMovies</th>\n",
       "      <td>7043</td>\n",
       "      <td>0.3879028822944768</td>\n",
       "      <td>0.4873068366824568</td>\n",
       "      <td>0</td>\n",
       "      <td>1</td>\n",
       "    </tr>\n",
       "    <tr>\n",
       "      <th>Contract</th>\n",
       "      <td>7043</td>\n",
       "      <td>None</td>\n",
       "      <td>None</td>\n",
       "      <td>Month-to-month</td>\n",
       "      <td>Two year</td>\n",
       "    </tr>\n",
       "    <tr>\n",
       "      <th>PaperlessBilling</th>\n",
       "      <td>7043</td>\n",
       "      <td>0.5922192247621753</td>\n",
       "      <td>0.4914569240494065</td>\n",
       "      <td>0</td>\n",
       "      <td>1</td>\n",
       "    </tr>\n",
       "    <tr>\n",
       "      <th>PaymentMethod</th>\n",
       "      <td>7043</td>\n",
       "      <td>None</td>\n",
       "      <td>None</td>\n",
       "      <td>Bank transfer (automatic)</td>\n",
       "      <td>Mailed check</td>\n",
       "    </tr>\n",
       "    <tr>\n",
       "      <th>MonthlyCharges</th>\n",
       "      <td>7043</td>\n",
       "      <td>64.76169246059922</td>\n",
       "      <td>30.090047097678482</td>\n",
       "      <td>18.25</td>\n",
       "      <td>118.75</td>\n",
       "    </tr>\n",
       "    <tr>\n",
       "      <th>TotalCharges</th>\n",
       "      <td>7043</td>\n",
       "      <td>2279.734303563826</td>\n",
       "      <td>2266.7944696890245</td>\n",
       "      <td>0.0</td>\n",
       "      <td>8684.8</td>\n",
       "    </tr>\n",
       "    <tr>\n",
       "      <th>Churn</th>\n",
       "      <td>7043</td>\n",
       "      <td>None</td>\n",
       "      <td>None</td>\n",
       "      <td>No</td>\n",
       "      <td>Yes</td>\n",
       "    </tr>\n",
       "  </tbody>\n",
       "</table>\n",
       "</div>"
      ],
      "text/plain": [
       "                      0                    1                    2  \\\n",
       "summary           count                 mean               stddev   \n",
       "customerID         7043                 None                 None   \n",
       "gender             7043                 None                 None   \n",
       "SeniorCitizen      7043   0.1621468124378816   0.3686116056100135   \n",
       "Partner            7043   0.4830327985233565  0.49974751071998735   \n",
       "Dependents         7043   0.2995882436461735   0.4581101675100144   \n",
       "tenure             7043    32.37114865824223   24.559481023094442   \n",
       "PhoneService       7043   0.9031662643759761  0.29575223178363513   \n",
       "MultipleLines      7043  0.42183728524776376  0.49388786554556857   \n",
       "InternetService    7043                  0.0                  0.0   \n",
       "OnlineSecurity     7043   0.2866676132329973   0.4522370299757109   \n",
       "OnlineBackup       7043   0.3448814425670879   0.4753633531563784   \n",
       "DeviceProtection   7043   0.3438875479199205  0.47503783298083624   \n",
       "TechSupport        7043   0.2902172369728809   0.4538947500677702   \n",
       "StreamingTV        7043  0.38435325855459324   0.4864765495589309   \n",
       "StreamingMovies    7043   0.3879028822944768   0.4873068366824568   \n",
       "Contract           7043                 None                 None   \n",
       "PaperlessBilling   7043   0.5922192247621753   0.4914569240494065   \n",
       "PaymentMethod      7043                 None                 None   \n",
       "MonthlyCharges     7043    64.76169246059922   30.090047097678482   \n",
       "TotalCharges       7043    2279.734303563826   2266.7944696890245   \n",
       "Churn              7043                 None                 None   \n",
       "\n",
       "                                          3             4  \n",
       "summary                                 min           max  \n",
       "customerID                       0002-ORFBO    9995-HOTOH  \n",
       "gender                               Female          Male  \n",
       "SeniorCitizen                             0             1  \n",
       "Partner                                   0             1  \n",
       "Dependents                                0             1  \n",
       "tenure                                    0            72  \n",
       "PhoneService                              0             1  \n",
       "MultipleLines                             0             1  \n",
       "InternetService                           0   Fiber optic  \n",
       "OnlineSecurity                            0             1  \n",
       "OnlineBackup                              0             1  \n",
       "DeviceProtection                          0             1  \n",
       "TechSupport                               0             1  \n",
       "StreamingTV                               0             1  \n",
       "StreamingMovies                           0             1  \n",
       "Contract                     Month-to-month      Two year  \n",
       "PaperlessBilling                          0             1  \n",
       "PaymentMethod     Bank transfer (automatic)  Mailed check  \n",
       "MonthlyCharges                        18.25        118.75  \n",
       "TotalCharges                            0.0        8684.8  \n",
       "Churn                                    No           Yes  "
      ]
     },
     "execution_count": 67,
     "metadata": {},
     "output_type": "execute_result"
    }
   ],
   "source": [
    "## describe\n",
    "\n",
    "## following output is hard to read\n",
    "# dataset.describe().show() \n",
    "\n",
    "## use pandas for pretty print\n",
    "## TODO : convert to pandas ('toPandas')\n",
    "dataset.describe().toPandas().T"
   ]
  },
  {
   "cell_type": "code",
   "execution_count": 68,
   "metadata": {},
   "outputs": [
    {
     "name": "stdout",
     "output_type": "stream",
     "text": [
      "+-----+-----+\n",
      "|Churn|count|\n",
      "+-----+-----+\n",
      "|   No| 5174|\n",
      "|  Yes| 1869|\n",
      "+-----+-----+\n",
      "\n"
     ]
    }
   ],
   "source": [
    "## TODO : Distribution by 'Churn'\n",
    "dataset.groupBy('Churn').count().show()"
   ]
  },
  {
   "cell_type": "code",
   "execution_count": 69,
   "metadata": {},
   "outputs": [
    {
     "name": "stdout",
     "output_type": "stream",
     "text": [
      "+--------------+-----+\n",
      "|      ContraCT|count|\n",
      "+--------------+-----+\n",
      "|Month-to-month| 3875|\n",
      "|      One year| 1473|\n",
      "|      Two year| 1695|\n",
      "+--------------+-----+\n",
      "\n"
     ]
    }
   ],
   "source": [
    "## TODO : Distribution by 'ContraCT'\n",
    "dataset.groupBy('ContraCT').count().show()"
   ]
  },
  {
   "cell_type": "code",
   "execution_count": 70,
   "metadata": {},
   "outputs": [
    {
     "name": "stdout",
     "output_type": "stream",
     "text": [
      "+------+-----+\n",
      "|Gender|count|\n",
      "+------+-----+\n",
      "|Female| 3488|\n",
      "|  Male| 3555|\n",
      "+------+-----+\n",
      "\n"
     ]
    }
   ],
   "source": [
    "## TODO : Distribution by 'Gender'\n",
    "dataset.groupBy('Gender').count().show()"
   ]
  },
  {
   "cell_type": "markdown",
   "metadata": {},
   "source": [
    "## Step 3 : Categorical Data"
   ]
  },
  {
   "cell_type": "code",
   "execution_count": 71,
   "metadata": {},
   "outputs": [],
   "source": [
    "## Define columns\n",
    "prediction_column = ['Churn']\n",
    "categorical_columns = ['gender',  'InternetService','Contract','PaymentMethod']\n",
    "categorical_index = ['gender_index',  'InternetService_index','Contract_index','PaymentMethod_index']\n",
    "\n",
    "\n",
    "columns = ['SeniorCitizen','PhoneService','Partner','Dependents','tenure','MultipleLines',\n",
    "           'OnlineSecurity','OnlineBackup','DeviceProtection','TechSupport',\n",
    "           'StreamingTV','StreamingMovies','PaperlessBilling',\n",
    "           'MonthlyCharges','TotalCharges']"
   ]
  },
  {
   "cell_type": "code",
   "execution_count": 72,
   "metadata": {},
   "outputs": [
    {
     "name": "stdout",
     "output_type": "stream",
     "text": [
      "+------+---------------+--------------+--------------------+\n",
      "|gender|InternetService|      Contract|       PaymentMethod|\n",
      "+------+---------------+--------------+--------------------+\n",
      "|Female|            DSL|Month-to-month|    Electronic check|\n",
      "|  Male|            DSL|      One year|        Mailed check|\n",
      "|  Male|            DSL|Month-to-month|        Mailed check|\n",
      "|  Male|            DSL|      One year|Bank transfer (au...|\n",
      "|Female|    Fiber optic|Month-to-month|    Electronic check|\n",
      "+------+---------------+--------------+--------------------+\n",
      "only showing top 5 rows\n",
      "\n",
      "+-----+\n",
      "|Churn|\n",
      "+-----+\n",
      "|   No|\n",
      "|   No|\n",
      "|  Yes|\n",
      "|   No|\n",
      "|  Yes|\n",
      "+-----+\n",
      "only showing top 5 rows\n",
      "\n"
     ]
    }
   ],
   "source": [
    "dataset.select(categorical_columns).show(5)\n",
    "dataset.select(prediction_column).show(5)\n"
   ]
  },
  {
   "cell_type": "markdown",
   "metadata": {},
   "source": [
    "## Step 4: Deal with Categorical Columns\n",
    "\n",
    "Let's deal with the categorical columns, including the output\n",
    "\n",
    "Workflow:\n",
    "- **Feature Indexers** :  ( category columns --> '*_index' columns)\n",
    "- **Label indexer** : 'Churn' --> 'indexedLabel'\n",
    "- **Vector Assembler** : '*_index' columns --> 'features' \n",
    "- **Scaler** :  'features' --> 'scaledFeatures'"
   ]
  },
  {
   "cell_type": "code",
   "execution_count": 73,
   "metadata": {},
   "outputs": [],
   "source": [
    "## handy function to pretty print indexers, scalers, assemblers\n",
    "\n",
    "from pyspark.ml.feature import StringIndexer, StandardScaler, VectorAssembler, MinMaxScaler\n",
    "\n",
    "def pretty_print_transformer(transformer):\n",
    "    if (type(transformer) is StringIndexer) \\\n",
    "        or (type(transformer) is StandardScaler) \\\n",
    "        or (type(transformer) is MinMaxScaler) : \\\n",
    "        return (transformer.__class__.__name__ + \" : \" + transformer.getInputCol() + ' -> ' +  transformer.getOutputCol())\n",
    "    \n",
    "    if type(transformer) is VectorAssembler:\n",
    "        return (transformer.__class__.__name__ + \" : \" + str(transformer.getInputCols()) + ' -> ' +  transformer.getOutputCol())\n",
    "    \n"
   ]
  },
  {
   "cell_type": "code",
   "execution_count": 74,
   "metadata": {},
   "outputs": [
    {
     "name": "stdout",
     "output_type": "stream",
     "text": [
      "indexing categorical columns :  ['gender', 'InternetService', 'Contract', 'PaymentMethod']\n",
      "StringIndexer : gender -> gender_index\n",
      "StringIndexer : InternetService -> InternetService_index\n",
      "StringIndexer : Contract -> Contract_index\n",
      "StringIndexer : PaymentMethod -> PaymentMethod_index\n"
     ]
    }
   ],
   "source": [
    "## 4.1 - Feature Indexers\n",
    "\n",
    "from pyspark.ml.feature import StringIndexer\n",
    "\n",
    "print(\"indexing categorical columns : \", categorical_columns)\n",
    "\n",
    "## TODO : create indexers in a loop\n",
    "## loop through 'categorical_columns'\n",
    "indexers = [StringIndexer(inputCol=column, outputCol=column + \"_index\", handleInvalid=\"keep\")\\\n",
    "            for column in categorical_columns ]\n",
    "\n",
    "for indexer in indexers:\n",
    "    print(pretty_print_transformer(indexer))\n"
   ]
  },
  {
   "cell_type": "code",
   "execution_count": 75,
   "metadata": {},
   "outputs": [
    {
     "name": "stdout",
     "output_type": "stream",
     "text": [
      "StringIndexer : Churn -> indexedLabel\n"
     ]
    }
   ],
   "source": [
    "## 4.2 - label indexer\n",
    "\n",
    "from pyspark.ml.feature import StringIndexer\n",
    "\n",
    "## TODO : we need to index 'Churn' column too\n",
    "## Create a String Indexer with inputColumn='Churn' and outputCol='indexedLabel'\n",
    "labelIndexer = StringIndexer(inputCol=\"Churn\", outputCol=\"indexedLabel\")\n",
    "\n",
    "print(pretty_print_transformer(labelIndexer))\n"
   ]
  },
  {
   "cell_type": "code",
   "execution_count": 76,
   "metadata": {},
   "outputs": [
    {
     "name": "stdout",
     "output_type": "stream",
     "text": [
      "VectorAssembler : ['SeniorCitizen', 'PhoneService', 'Partner', 'Dependents', 'tenure', 'MultipleLines', 'OnlineSecurity', 'OnlineBackup', 'DeviceProtection', 'TechSupport', 'StreamingTV', 'StreamingMovies', 'PaperlessBilling', 'MonthlyCharges', 'TotalCharges', 'gender_index', 'InternetService_index', 'Contract_index', 'PaymentMethod_index'] -> features\n"
     ]
    }
   ],
   "source": [
    "## 4.3 - Vector assembler \n",
    "from pyspark.ml.feature import VectorAssembler\n",
    "\n",
    "assembler = VectorAssembler(inputCols=columns + categorical_index, outputCol=\"features\")\n",
    "\n",
    "print (pretty_print_transformer(assembler))\n"
   ]
  },
  {
   "cell_type": "code",
   "execution_count": 77,
   "metadata": {},
   "outputs": [
    {
     "name": "stdout",
     "output_type": "stream",
     "text": [
      "StandardScaler : features -> scaledFeatures\n"
     ]
    }
   ],
   "source": [
    "## 4.5 - Scaler\n",
    "from pyspark.ml.feature import StandardScaler\n",
    "\n",
    "## TODO : scale 'features' column into 'scaledFeatures'\n",
    "scaler = StandardScaler(inputCol=\"features\", outputCol=\"scaledFeatures\")\n",
    "\n",
    "print (pretty_print_transformer(scaler))"
   ]
  },
  {
   "cell_type": "markdown",
   "metadata": {},
   "source": [
    "## Step 5: Build the Pipeline\n",
    "We are going to transform the data using Spark pipeline."
   ]
  },
  {
   "cell_type": "code",
   "execution_count": 78,
   "metadata": {},
   "outputs": [
    {
     "name": "stdout",
     "output_type": "stream",
     "text": [
      "stage  1  :  StringIndexer : gender -> gender_index\n",
      "stage  2  :  StringIndexer : InternetService -> InternetService_index\n",
      "stage  3  :  StringIndexer : Contract -> Contract_index\n",
      "stage  4  :  StringIndexer : PaymentMethod -> PaymentMethod_index\n",
      "stage  5  :  VectorAssembler : ['SeniorCitizen', 'PhoneService', 'Partner', 'Dependents', 'tenure', 'MultipleLines', 'OnlineSecurity', 'OnlineBackup', 'DeviceProtection', 'TechSupport', 'StreamingTV', 'StreamingMovies', 'PaperlessBilling', 'MonthlyCharges', 'TotalCharges', 'gender_index', 'InternetService_index', 'Contract_index', 'PaymentMethod_index'] -> features\n",
      "stage  6  :  StringIndexer : Churn -> indexedLabel\n",
      "\n",
      "pipeline :  stages: a list of pipeline stages (current: [StringIndexer_c2c3e79ee23d, StringIndexer_5f99b6963a1f, StringIndexer_6eefff465f37, StringIndexer_c6f1af4df7af, VectorAssembler_f8bce6c0e38b, StringIndexer_ae59f17bba70])\n"
     ]
    }
   ],
   "source": [
    "from pyspark.ml import Pipeline\n",
    "\n",
    "##  with scaler\n",
    "# stages = indexers + [labelIndexer, assembler,  scaler] \n",
    "\n",
    "## without scaler\n",
    "stages = indexers + [assembler, labelIndexer] \n",
    "\n",
    "i = 0\n",
    "for stage in stages:\n",
    "    i = i+1\n",
    "    print (\"stage \", i , \" : \", pretty_print_transformer(stage))\n",
    "print()\n",
    "\n",
    "## TODO : Create a 'Pipeline' passing 'stages' as input\n",
    "pipeline = Pipeline(stages=stages)\n",
    "\n",
    "print (\"pipeline : \", pipeline.explainParams())"
   ]
  },
  {
   "cell_type": "code",
   "execution_count": 79,
   "metadata": {},
   "outputs": [
    {
     "name": "stdout",
     "output_type": "stream",
     "text": [
      "processed data count  7043\n",
      "CPU times: user 68 ms, sys: 4 ms, total: 72 ms\n",
      "Wall time: 816 ms\n"
     ]
    }
   ],
   "source": [
    "%%time\n",
    "## TODO : Run data through the pipeline\n",
    "## Hint : first call 'fit' and then 'transform'\n",
    "processed_data = pipeline.fit(dataset).transform(dataset)\n",
    "\n",
    "print (\"processed data count \", processed_data.count())"
   ]
  },
  {
   "cell_type": "code",
   "execution_count": 80,
   "metadata": {},
   "outputs": [
    {
     "data": {
      "text/html": [
       "<div>\n",
       "<style scoped>\n",
       "    .dataframe tbody tr th:only-of-type {\n",
       "        vertical-align: middle;\n",
       "    }\n",
       "\n",
       "    .dataframe tbody tr th {\n",
       "        vertical-align: top;\n",
       "    }\n",
       "\n",
       "    .dataframe thead th {\n",
       "        text-align: right;\n",
       "    }\n",
       "</style>\n",
       "<table border=\"1\" class=\"dataframe\">\n",
       "  <thead>\n",
       "    <tr style=\"text-align: right;\">\n",
       "      <th></th>\n",
       "      <th>0</th>\n",
       "      <th>1</th>\n",
       "    </tr>\n",
       "  </thead>\n",
       "  <tbody>\n",
       "    <tr>\n",
       "      <th>customerID</th>\n",
       "      <td>7590-VHVEG</td>\n",
       "      <td>5575-GNVDE</td>\n",
       "    </tr>\n",
       "    <tr>\n",
       "      <th>gender</th>\n",
       "      <td>Female</td>\n",
       "      <td>Male</td>\n",
       "    </tr>\n",
       "    <tr>\n",
       "      <th>SeniorCitizen</th>\n",
       "      <td>0</td>\n",
       "      <td>0</td>\n",
       "    </tr>\n",
       "    <tr>\n",
       "      <th>Partner</th>\n",
       "      <td>1</td>\n",
       "      <td>0</td>\n",
       "    </tr>\n",
       "    <tr>\n",
       "      <th>Dependents</th>\n",
       "      <td>0</td>\n",
       "      <td>0</td>\n",
       "    </tr>\n",
       "    <tr>\n",
       "      <th>tenure</th>\n",
       "      <td>1</td>\n",
       "      <td>34</td>\n",
       "    </tr>\n",
       "    <tr>\n",
       "      <th>PhoneService</th>\n",
       "      <td>0</td>\n",
       "      <td>1</td>\n",
       "    </tr>\n",
       "    <tr>\n",
       "      <th>MultipleLines</th>\n",
       "      <td>0</td>\n",
       "      <td>0</td>\n",
       "    </tr>\n",
       "    <tr>\n",
       "      <th>InternetService</th>\n",
       "      <td>DSL</td>\n",
       "      <td>DSL</td>\n",
       "    </tr>\n",
       "    <tr>\n",
       "      <th>OnlineSecurity</th>\n",
       "      <td>0</td>\n",
       "      <td>1</td>\n",
       "    </tr>\n",
       "    <tr>\n",
       "      <th>OnlineBackup</th>\n",
       "      <td>1</td>\n",
       "      <td>0</td>\n",
       "    </tr>\n",
       "    <tr>\n",
       "      <th>DeviceProtection</th>\n",
       "      <td>0</td>\n",
       "      <td>1</td>\n",
       "    </tr>\n",
       "    <tr>\n",
       "      <th>TechSupport</th>\n",
       "      <td>0</td>\n",
       "      <td>0</td>\n",
       "    </tr>\n",
       "    <tr>\n",
       "      <th>StreamingTV</th>\n",
       "      <td>0</td>\n",
       "      <td>0</td>\n",
       "    </tr>\n",
       "    <tr>\n",
       "      <th>StreamingMovies</th>\n",
       "      <td>0</td>\n",
       "      <td>0</td>\n",
       "    </tr>\n",
       "    <tr>\n",
       "      <th>Contract</th>\n",
       "      <td>Month-to-month</td>\n",
       "      <td>One year</td>\n",
       "    </tr>\n",
       "    <tr>\n",
       "      <th>PaperlessBilling</th>\n",
       "      <td>1</td>\n",
       "      <td>0</td>\n",
       "    </tr>\n",
       "    <tr>\n",
       "      <th>PaymentMethod</th>\n",
       "      <td>Electronic check</td>\n",
       "      <td>Mailed check</td>\n",
       "    </tr>\n",
       "    <tr>\n",
       "      <th>MonthlyCharges</th>\n",
       "      <td>29.85</td>\n",
       "      <td>56.95</td>\n",
       "    </tr>\n",
       "    <tr>\n",
       "      <th>TotalCharges</th>\n",
       "      <td>29.85</td>\n",
       "      <td>1889.5</td>\n",
       "    </tr>\n",
       "    <tr>\n",
       "      <th>Churn</th>\n",
       "      <td>No</td>\n",
       "      <td>No</td>\n",
       "    </tr>\n",
       "    <tr>\n",
       "      <th>gender_index</th>\n",
       "      <td>1</td>\n",
       "      <td>0</td>\n",
       "    </tr>\n",
       "    <tr>\n",
       "      <th>InternetService_index</th>\n",
       "      <td>1</td>\n",
       "      <td>1</td>\n",
       "    </tr>\n",
       "    <tr>\n",
       "      <th>Contract_index</th>\n",
       "      <td>0</td>\n",
       "      <td>2</td>\n",
       "    </tr>\n",
       "    <tr>\n",
       "      <th>PaymentMethod_index</th>\n",
       "      <td>0</td>\n",
       "      <td>1</td>\n",
       "    </tr>\n",
       "    <tr>\n",
       "      <th>features</th>\n",
       "      <td>(0.0, 0.0, 1.0, 0.0, 1.0, 0.0, 0.0, 1.0, 0.0, ...</td>\n",
       "      <td>(0.0, 1.0, 0.0, 0.0, 34.0, 0.0, 1.0, 0.0, 1.0,...</td>\n",
       "    </tr>\n",
       "    <tr>\n",
       "      <th>indexedLabel</th>\n",
       "      <td>0</td>\n",
       "      <td>0</td>\n",
       "    </tr>\n",
       "  </tbody>\n",
       "</table>\n",
       "</div>"
      ],
      "text/plain": [
       "                                                                       0  \\\n",
       "customerID                                                    7590-VHVEG   \n",
       "gender                                                            Female   \n",
       "SeniorCitizen                                                          0   \n",
       "Partner                                                                1   \n",
       "Dependents                                                             0   \n",
       "tenure                                                                 1   \n",
       "PhoneService                                                           0   \n",
       "MultipleLines                                                          0   \n",
       "InternetService                                                      DSL   \n",
       "OnlineSecurity                                                         0   \n",
       "OnlineBackup                                                           1   \n",
       "DeviceProtection                                                       0   \n",
       "TechSupport                                                            0   \n",
       "StreamingTV                                                            0   \n",
       "StreamingMovies                                                        0   \n",
       "Contract                                                  Month-to-month   \n",
       "PaperlessBilling                                                       1   \n",
       "PaymentMethod                                           Electronic check   \n",
       "MonthlyCharges                                                     29.85   \n",
       "TotalCharges                                                       29.85   \n",
       "Churn                                                                 No   \n",
       "gender_index                                                           1   \n",
       "InternetService_index                                                  1   \n",
       "Contract_index                                                         0   \n",
       "PaymentMethod_index                                                    0   \n",
       "features               (0.0, 0.0, 1.0, 0.0, 1.0, 0.0, 0.0, 1.0, 0.0, ...   \n",
       "indexedLabel                                                           0   \n",
       "\n",
       "                                                                       1  \n",
       "customerID                                                    5575-GNVDE  \n",
       "gender                                                              Male  \n",
       "SeniorCitizen                                                          0  \n",
       "Partner                                                                0  \n",
       "Dependents                                                             0  \n",
       "tenure                                                                34  \n",
       "PhoneService                                                           1  \n",
       "MultipleLines                                                          0  \n",
       "InternetService                                                      DSL  \n",
       "OnlineSecurity                                                         1  \n",
       "OnlineBackup                                                           0  \n",
       "DeviceProtection                                                       1  \n",
       "TechSupport                                                            0  \n",
       "StreamingTV                                                            0  \n",
       "StreamingMovies                                                        0  \n",
       "Contract                                                        One year  \n",
       "PaperlessBilling                                                       0  \n",
       "PaymentMethod                                               Mailed check  \n",
       "MonthlyCharges                                                     56.95  \n",
       "TotalCharges                                                      1889.5  \n",
       "Churn                                                                 No  \n",
       "gender_index                                                           0  \n",
       "InternetService_index                                                  1  \n",
       "Contract_index                                                         2  \n",
       "PaymentMethod_index                                                    1  \n",
       "features               (0.0, 1.0, 0.0, 0.0, 34.0, 0.0, 1.0, 0.0, 1.0,...  \n",
       "indexedLabel                                                           0  "
      ]
     },
     "execution_count": 80,
     "metadata": {},
     "output_type": "execute_result"
    }
   ],
   "source": [
    "## pretty print transformed data using pandas\n",
    "x = processed_data.limit(2).toPandas()\n",
    "# print horizontally\n",
    "# x\n",
    "# print veriticall\n",
    "x.T"
   ]
  },
  {
   "cell_type": "markdown",
   "metadata": {},
   "source": [
    "## Step 6: Split into training and test."
   ]
  },
  {
   "cell_type": "code",
   "execution_count": 81,
   "metadata": {},
   "outputs": [
    {
     "name": "stdout",
     "output_type": "stream",
     "text": [
      "training set count :  5634\n",
      "testing set count :  1409\n"
     ]
    }
   ],
   "source": [
    "## TODO : training=80%,  test=20%\n",
    "(training, test) = processed_data.randomSplit([.8, .2])\n",
    "\n",
    "print(\"training set count : \", training.count())\n",
    "print(\"testing set count : \", test.count())"
   ]
  },
  {
   "cell_type": "markdown",
   "metadata": {},
   "source": [
    "## Step 7 - Create SVM Model"
   ]
  },
  {
   "cell_type": "code",
   "execution_count": 82,
   "metadata": {},
   "outputs": [],
   "source": [
    "from pyspark.ml.classification import LinearSVC\n",
    "\n",
    "## TODO : create 'LinearSVC' model\n",
    "##    with labelCol='indexedLabel'\n",
    "##    with featuresCol='scaledFeatures'\n",
    "##    with maxIter=100\n",
    "lsvc = LinearSVC(labelCol=\"indexedLabel\", featuresCol=\"features\", maxIter=100, regParam=0.1)"
   ]
  },
  {
   "cell_type": "markdown",
   "metadata": {},
   "source": [
    "## Step 8: Train  Linear SVM model"
   ]
  },
  {
   "cell_type": "code",
   "execution_count": 83,
   "metadata": {},
   "outputs": [
    {
     "name": "stdout",
     "output_type": "stream",
     "text": [
      "training starting on  5634  records\n"
     ]
    }
   ],
   "source": [
    "print (\"training starting on \", training.count() , \" records\")"
   ]
  },
  {
   "cell_type": "code",
   "execution_count": 84,
   "metadata": {},
   "outputs": [
    {
     "name": "stdout",
     "output_type": "stream",
     "text": [
      "training done\n",
      "CPU times: user 16 ms, sys: 0 ns, total: 16 ms\n",
      "Wall time: 14.9 s\n"
     ]
    }
   ],
   "source": [
    "%%time \n",
    "\n",
    "## TODO : train the model\n",
    "## Hint :    call 'fit' on 'training' data\n",
    "lsvcModel = lsvc.fit(training)\n",
    "print (\"training done\")"
   ]
  },
  {
   "cell_type": "code",
   "execution_count": 85,
   "metadata": {},
   "outputs": [
    {
     "name": "stdout",
     "output_type": "stream",
     "text": [
      "Intercept: -0.05739006235219897\n"
     ]
    },
    {
     "data": {
      "text/html": [
       "<div>\n",
       "<style scoped>\n",
       "    .dataframe tbody tr th:only-of-type {\n",
       "        vertical-align: middle;\n",
       "    }\n",
       "\n",
       "    .dataframe tbody tr th {\n",
       "        vertical-align: top;\n",
       "    }\n",
       "\n",
       "    .dataframe thead th {\n",
       "        text-align: right;\n",
       "    }\n",
       "</style>\n",
       "<table border=\"1\" class=\"dataframe\">\n",
       "  <thead>\n",
       "    <tr style=\"text-align: right;\">\n",
       "      <th></th>\n",
       "      <th>input</th>\n",
       "      <th>coefficient</th>\n",
       "    </tr>\n",
       "  </thead>\n",
       "  <tbody>\n",
       "    <tr>\n",
       "      <th>0</th>\n",
       "      <td>SeniorCitizen</td>\n",
       "      <td>0.265217</td>\n",
       "    </tr>\n",
       "    <tr>\n",
       "      <th>1</th>\n",
       "      <td>PhoneService</td>\n",
       "      <td>-0.120666</td>\n",
       "    </tr>\n",
       "    <tr>\n",
       "      <th>2</th>\n",
       "      <td>Partner</td>\n",
       "      <td>-0.051336</td>\n",
       "    </tr>\n",
       "    <tr>\n",
       "      <th>3</th>\n",
       "      <td>Dependents</td>\n",
       "      <td>-0.115680</td>\n",
       "    </tr>\n",
       "    <tr>\n",
       "      <th>4</th>\n",
       "      <td>tenure</td>\n",
       "      <td>-0.012879</td>\n",
       "    </tr>\n",
       "    <tr>\n",
       "      <th>5</th>\n",
       "      <td>MultipleLines</td>\n",
       "      <td>0.155860</td>\n",
       "    </tr>\n",
       "    <tr>\n",
       "      <th>6</th>\n",
       "      <td>OnlineSecurity</td>\n",
       "      <td>-0.285226</td>\n",
       "    </tr>\n",
       "    <tr>\n",
       "      <th>7</th>\n",
       "      <td>OnlineBackup</td>\n",
       "      <td>-0.173856</td>\n",
       "    </tr>\n",
       "    <tr>\n",
       "      <th>8</th>\n",
       "      <td>DeviceProtection</td>\n",
       "      <td>-0.101366</td>\n",
       "    </tr>\n",
       "    <tr>\n",
       "      <th>9</th>\n",
       "      <td>TechSupport</td>\n",
       "      <td>-0.339238</td>\n",
       "    </tr>\n",
       "    <tr>\n",
       "      <th>10</th>\n",
       "      <td>StreamingTV</td>\n",
       "      <td>0.119078</td>\n",
       "    </tr>\n",
       "    <tr>\n",
       "      <th>11</th>\n",
       "      <td>StreamingMovies</td>\n",
       "      <td>0.159631</td>\n",
       "    </tr>\n",
       "    <tr>\n",
       "      <th>12</th>\n",
       "      <td>PaperlessBilling</td>\n",
       "      <td>0.195899</td>\n",
       "    </tr>\n",
       "    <tr>\n",
       "      <th>13</th>\n",
       "      <td>MonthlyCharges</td>\n",
       "      <td>0.006787</td>\n",
       "    </tr>\n",
       "    <tr>\n",
       "      <th>14</th>\n",
       "      <td>TotalCharges</td>\n",
       "      <td>-0.000113</td>\n",
       "    </tr>\n",
       "    <tr>\n",
       "      <th>15</th>\n",
       "      <td>gender_index</td>\n",
       "      <td>0.028676</td>\n",
       "    </tr>\n",
       "    <tr>\n",
       "      <th>16</th>\n",
       "      <td>InternetService_index</td>\n",
       "      <td>-0.423447</td>\n",
       "    </tr>\n",
       "    <tr>\n",
       "      <th>17</th>\n",
       "      <td>Contract_index</td>\n",
       "      <td>-0.150276</td>\n",
       "    </tr>\n",
       "    <tr>\n",
       "      <th>18</th>\n",
       "      <td>PaymentMethod_index</td>\n",
       "      <td>-0.122002</td>\n",
       "    </tr>\n",
       "  </tbody>\n",
       "</table>\n",
       "</div>"
      ],
      "text/plain": [
       "                    input  coefficient\n",
       "0           SeniorCitizen     0.265217\n",
       "1            PhoneService    -0.120666\n",
       "2                 Partner    -0.051336\n",
       "3              Dependents    -0.115680\n",
       "4                  tenure    -0.012879\n",
       "5           MultipleLines     0.155860\n",
       "6          OnlineSecurity    -0.285226\n",
       "7            OnlineBackup    -0.173856\n",
       "8        DeviceProtection    -0.101366\n",
       "9             TechSupport    -0.339238\n",
       "10            StreamingTV     0.119078\n",
       "11        StreamingMovies     0.159631\n",
       "12       PaperlessBilling     0.195899\n",
       "13         MonthlyCharges     0.006787\n",
       "14           TotalCharges    -0.000113\n",
       "15           gender_index     0.028676\n",
       "16  InternetService_index    -0.423447\n",
       "17         Contract_index    -0.150276\n",
       "18    PaymentMethod_index    -0.122002"
      ]
     },
     "execution_count": 85,
     "metadata": {},
     "output_type": "execute_result"
    }
   ],
   "source": [
    "import pandas as pd\n",
    "\n",
    "# Print the coefficients and intercept for linearsSVC\n",
    "coef = lsvcModel.coefficients\n",
    "\n",
    "df = pd.DataFrame({'input' : columns + categorical_index, 'coefficient': lsvcModel.coefficients})\n",
    "print(\"Intercept: \" + str(lsvcModel.intercept))\n",
    "\n",
    "df\n",
    "#df.sort_values(by=['input'])"
   ]
  },
  {
   "cell_type": "markdown",
   "metadata": {},
   "source": [
    "## Step 9 : Predict on Test Data"
   ]
  },
  {
   "cell_type": "code",
   "execution_count": 86,
   "metadata": {},
   "outputs": [
    {
     "name": "stdout",
     "output_type": "stream",
     "text": [
      "predicting on  1409  records\n"
     ]
    }
   ],
   "source": [
    "print (\"predicting on \" , test.count() , \" records\")"
   ]
  },
  {
   "cell_type": "code",
   "execution_count": 87,
   "metadata": {
    "scrolled": true
   },
   "outputs": [
    {
     "name": "stdout",
     "output_type": "stream",
     "text": [
      "CPU times: user 8 ms, sys: 0 ns, total: 8 ms\n",
      "Wall time: 55.8 ms\n"
     ]
    }
   ],
   "source": [
    "%%time\n",
    "\n",
    "## TODO : predict on test data\n",
    "## Hint : 'transform' on 'test'\n",
    "predictions_test = lsvcModel.transform(test)"
   ]
  },
  {
   "cell_type": "code",
   "execution_count": 88,
   "metadata": {},
   "outputs": [
    {
     "name": "stdout",
     "output_type": "stream",
     "text": [
      "+----------+------+-------------+-------+----------+------+------------+-------------+---------------+--------------+------------+----------------+-----------+-----------+---------------+--------------+----------------+--------------------+--------------+------------+-----+------------+---------------------+--------------+-------------------+--------------------+------------+--------------------+----------+\n",
      "|customerID|gender|SeniorCitizen|Partner|Dependents|tenure|PhoneService|MultipleLines|InternetService|OnlineSecurity|OnlineBackup|DeviceProtection|TechSupport|StreamingTV|StreamingMovies|      Contract|PaperlessBilling|       PaymentMethod|MonthlyCharges|TotalCharges|Churn|gender_index|InternetService_index|Contract_index|PaymentMethod_index|            features|indexedLabel|       rawPrediction|prediction|\n",
      "+----------+------+-------------+-------+----------+------+------------+-------------+---------------+--------------+------------+----------------+-----------+-----------+---------------+--------------+----------------+--------------------+--------------+------------+-----+------------+---------------------+--------------+-------------------+--------------------+------------+--------------------+----------+\n",
      "|0013-SMEOE|Female|            1|      1|         0|    71|           1|            0|    Fiber optic|             1|           1|               1|          1|          1|              1|      Two year|               1|Bank transfer (au...|         109.7|     7904.25|   No|         1.0|                  0.0|           1.0|                2.0|[1.0,1.0,1.0,0.0,...|         0.0|[1.81905446195363...|       0.0|\n",
      "|0015-UOCOJ|Female|            1|      0|         0|     7|           1|            0|            DSL|             1|           0|               0|          0|          0|              0|Month-to-month|               1|    Electronic check|          48.2|      340.35|   No|         1.0|                  1.0|           0.0|                0.0|(19,[0,1,4,6,12,1...|         0.0|[0.19846700376755...|       0.0|\n",
      "|0020-INWCK|Female|            0|      1|         1|    71|           1|            1|    Fiber optic|             0|           1|               1|          0|          0|              1|      Two year|               1|Credit card (auto...|         95.75|      6849.4|   No|         1.0|                  0.0|           1.0|                3.0|[0.0,1.0,1.0,1.0,...|         0.0|[1.63603824877850...|       0.0|\n",
      "|0023-HGHWL|  Male|            1|      0|         0|     1|           0|            0|            DSL|             0|           0|               0|          0|          0|              0|Month-to-month|               1|    Electronic check|          25.1|        25.1|  Yes|         0.0|                  1.0|           0.0|                0.0|(19,[0,4,12,13,14...|         1.0|[-0.1349133726727...|       1.0|\n",
      "|0032-PGELS|Female|            0|      1|         1|     1|           0|            0|            DSL|             1|           0|               0|          0|          0|              0|Month-to-month|               0|Bank transfer (au...|          30.5|        30.5|  Yes|         1.0|                  1.0|           0.0|                2.0|(19,[2,3,4,6,13,1...|         1.0|[0.95773159600874...|       0.0|\n",
      "|0040-HALCW|  Male|            0|      1|         1|    54|           1|            0|              0|             0|           0|               0|          0|          0|              0|      Two year|               0|Credit card (auto...|          20.4|      1090.6|   No|         0.0|                  2.0|           1.0|                3.0|(19,[1,2,3,4,13,1...|         0.0|[2.38867070103316...|       0.0|\n",
      "|0064-SUDOG|Female|            0|      1|         1|    12|           1|            0|              0|             0|           0|               0|          0|          0|              0|      Two year|               0|Bank transfer (au...|          20.3|       224.5|   No|         1.0|                  2.0|           1.0|                2.0|(19,[1,2,3,4,13,1...|         0.0|[1.59974436262454...|       0.0|\n",
      "|0082-OQIQY|  Male|            0|      0|         0|    29|           1|            0|    Fiber optic|             0|           0|               0|          1|          1|              1|Month-to-month|               1|    Electronic check|          94.2|      2607.6|   No|         0.0|                  0.0|           0.0|                0.0|(19,[1,4,9,10,11,...|         0.0|[0.07187964688175...|       0.0|\n",
      "|0094-OIFMO|Female|            1|      0|         0|    11|           1|            0|    Fiber optic|             0|           1|               0|          0|          1|              1|Month-to-month|               1|    Electronic check|          95.0|      1120.3|  Yes|         1.0|                  0.0|           0.0|                0.0|(19,[0,1,4,7,10,1...|         1.0|[-0.7929297239727...|       1.0|\n",
      "|0106-GHRQR|  Male|            0|      0|         0|    16|           1|            1|            DSL|             0|           1|               1|          0|          0|              1|Month-to-month|               1|Bank transfer (au...|          71.4|      1212.1|   No|         0.0|                  1.0|           0.0|                2.0|(19,[1,4,5,7,8,11...|         0.0|[0.46795409798704...|       0.0|\n",
      "|0114-RSRRW|Female|            0|      1|         0|    10|           1|            0|              0|             0|           0|               0|          0|          0|              0|Month-to-month|               1|Bank transfer (au...|         19.95|      187.75|   No|         1.0|                  2.0|           0.0|                2.0|(19,[1,2,4,12,13,...|         0.0|[1.11034890887033...|       0.0|\n",
      "|0137-UDEUO|Female|            0|      0|         0|     3|           1|            0|              0|             0|           0|               0|          0|          0|              0|Month-to-month|               0|        Mailed check|         19.85|       63.75|  Yes|         1.0|                  2.0|           0.0|                1.0|(19,[1,4,13,14,15...|         1.0|[1.02940375597645...|       0.0|\n",
      "|0142-GVYSN|  Male|            0|      0|         0|    26|           1|            0|              0|             0|           0|               0|          0|          0|              0|Month-to-month|               1|    Electronic check|          20.3|      511.25|   No|         0.0|                  2.0|           0.0|                0.0|(19,[1,4,12,13,14...|         0.0|[1.08398292176535...|       0.0|\n",
      "|0164-APGRB|Female|            0|      0|         0|    72|           1|            1|    Fiber optic|             1|           1|               1|          1|          1|              1|      Two year|               1|    Electronic check|         114.9|      8496.7|   No|         1.0|                  0.0|           1.0|                0.0|[0.0,1.0,0.0,0.0,...|         0.0|[1.67769043150620...|       0.0|\n",
      "|0174-QRVVY|  Male|            0|      1|         1|    71|           1|            1|              0|             0|           0|               0|          0|          0|              0|      Two year|               0|Credit card (auto...|         25.35|     1847.55|   No|         0.0|                  2.0|           1.0|                3.0|(19,[1,2,3,4,5,13...|         0.0|[2.50380773252910...|       0.0|\n",
      "|0191-EQUUH|Female|            0|      0|         1|    25|           0|            0|            DSL|             1|           0|               0|          1|          0|              0|      Two year|               0|Bank transfer (au...|         35.05|      844.45|   No|         1.0|                  1.0|           1.0|                2.0|(19,[3,4,6,9,13,1...|         0.0|[1.76622672203938...|       0.0|\n",
      "|0206-OYVOC|Female|            0|      1|         1|    46|           1|            0|              0|             0|           0|               0|          0|          0|              0|      Two year|               1|        Mailed check|         19.25|       864.2|   No|         1.0|                  2.0|           1.0|                1.0|(19,[1,2,3,4,12,1...|         0.0|[1.79924728407604...|       0.0|\n",
      "|0207-MDKNV|Female|            0|      0|         0|    15|           1|            0|    Fiber optic|             1|           0|               1|          1|          1|              1|Month-to-month|               0|    Electronic check|         105.1|     1582.75|  Yes|         1.0|                  0.0|           0.0|                0.0|(19,[1,4,6,8,9,10...|         1.0|[0.25545110962267...|       0.0|\n",
      "|0214-JHPFW|Female|            0|      1|         0|    70|           0|            0|            DSL|             0|           1|               1|          1|          1|              1|      Two year|               0|Bank transfer (au...|          57.8|      4039.3|   No|         1.0|                  1.0|           1.0|                2.0|[0.0,0.0,1.0,0.0,...|         0.0|[2.19980663397194...|       0.0|\n",
      "|0221-NAUXK|  Male|            0|      0|         1|    10|           1|            0|              0|             0|           0|               0|          0|          0|              0|      One year|               1|Bank transfer (au...|         19.95|       219.5|   No|         0.0|                  2.0|           2.0|                2.0|(19,[1,3,4,12,13,...|         0.0|[1.50751307899700...|       0.0|\n",
      "+----------+------+-------------+-------+----------+------+------------+-------------+---------------+--------------+------------+----------------+-----------+-----------+---------------+--------------+----------------+--------------------+--------------+------------+-----+------------+---------------------+--------------+-------------------+--------------------+------------+--------------------+----------+\n",
      "only showing top 20 rows\n",
      "\n"
     ]
    }
   ],
   "source": [
    "predictions_test.show()"
   ]
  },
  {
   "cell_type": "markdown",
   "metadata": {},
   "source": [
    "## Step 10: See the evaluation metrics"
   ]
  },
  {
   "cell_type": "code",
   "execution_count": 89,
   "metadata": {},
   "outputs": [],
   "source": [
    "predictions_test = lsvcModel.transform(test)\n",
    "predictions_train = lsvcModel.transform(training)"
   ]
  },
  {
   "cell_type": "markdown",
   "metadata": {},
   "source": [
    "### 10.1 Model Accuracy"
   ]
  },
  {
   "cell_type": "code",
   "execution_count": 90,
   "metadata": {},
   "outputs": [
    {
     "name": "stdout",
     "output_type": "stream",
     "text": [
      "Training set accuracy =  0.8003194888178914\n",
      "Test set accuracy =  0.8105039034776437\n"
     ]
    }
   ],
   "source": [
    "from pyspark.ml.evaluation import MulticlassClassificationEvaluator\n",
    "\n",
    "evaluator = MulticlassClassificationEvaluator(labelCol=\"indexedLabel\", predictionCol=\"prediction\",\n",
    "                                              metricName=\"accuracy\")\n",
    "\n",
    "print(\"Training set accuracy = \" , evaluator.evaluate(predictions_train))\n",
    "print(\"Test set accuracy = \" , evaluator.evaluate(predictions_test))\n"
   ]
  },
  {
   "cell_type": "markdown",
   "metadata": {},
   "source": [
    "### 10.2 : Confusion matrix\n",
    "\n",
    "**Interpret the confusion matrix output**"
   ]
  },
  {
   "cell_type": "code",
   "execution_count": 91,
   "metadata": {
    "scrolled": true
   },
   "outputs": [
    {
     "name": "stdout",
     "output_type": "stream",
     "text": [
      "+-----+---+---+\n",
      "|Churn|  0|  1|\n",
      "+-----+---+---+\n",
      "|   No|955| 80|\n",
      "|  Yes|187|187|\n",
      "+-----+---+---+\n",
      "\n"
     ]
    }
   ],
   "source": [
    "# Confusion matrix\n",
    "cm = predictions_test.groupBy('Churn').pivot('prediction', [0,1]).count().na.fill(0).orderBy('Churn')\n",
    "cm.show()"
   ]
  },
  {
   "cell_type": "code",
   "execution_count": 92,
   "metadata": {},
   "outputs": [
    {
     "data": {
      "text/plain": [
       "[]"
      ]
     },
     "execution_count": 92,
     "metadata": {},
     "output_type": "execute_result"
    },
    {
     "data": {
      "image/png": "[encoded data removed]",
      "text/plain": [
       "<Figure size 432x288 with 2 Axes>"
      ]
     },
     "metadata": {
      "needs_background": "light"
     },
     "output_type": "display_data"
    }
   ],
   "source": [
    "import seaborn as sns\n",
    "\n",
    "cm_pd = cm.toPandas()\n",
    "cm_pd.set_index(\"Churn\", inplace=True)\n",
    "# print(cm_pd)\n",
    "\n",
    "# colormaps : cmap=\"YlGnBu\" , cmap=\"Greens\", cmap=\"Blues\",  cmap=\"Reds\"\n",
    "sns.heatmap(cm_pd, annot=True,  fmt=',', cmap=\"Blues\").plot()"
   ]
  },
  {
   "cell_type": "markdown",
   "metadata": {},
   "source": [
    "### 10.3 - AUC"
   ]
  },
  {
   "cell_type": "code",
   "execution_count": 93,
   "metadata": {},
   "outputs": [
    {
     "name": "stdout",
     "output_type": "stream",
     "text": [
      "AUC for training:  0.8350844120006921\n",
      "AUC for test :  0.8520563693197946\n"
     ]
    }
   ],
   "source": [
    "from pyspark.ml.evaluation import BinaryClassificationEvaluator\n",
    "\n",
    "# default metrics for BinaryClassificationEvaluator is 'areaUnderCurve'\n",
    "evaluator = BinaryClassificationEvaluator(rawPredictionCol=\"rawPrediction\", labelCol='indexedLabel' )\n",
    "# print (\"default metrics : \" ,evaluator.getMetricName())\n",
    "\n",
    "print(\"AUC for training: \" , evaluator.evaluate(predictions_train))\n",
    "print(\"AUC for test : \" , evaluator.evaluate(predictions_test))"
   ]
  },
  {
   "cell_type": "markdown",
   "metadata": {},
   "source": [
    "**=> What does AUC mean?** "
   ]
  },
  {
   "cell_type": "markdown",
   "metadata": {},
   "source": [
    "## Step 11: Try running without scaling features\n",
    "\n",
    "In Step-5  we are adding a scaler at the end to normalize the vector.  \n",
    "Try without scaler.  \n",
    "\n",
    "Uncomment the following line   \n",
    "```\n",
    "#stages = indexers + [assembler, featureIndexer, labelIndexer] \n",
    "```\n",
    "\n",
    "And run the whole notebook (Cell --> Run All)  \n",
    "Do you see any improvement/degradation in accuracy / AUC ?"
   ]
  }
 ],
 "metadata": {
  "anaconda-cloud": {},
  "kernelspec": {
   "display_name": "Python 3",
   "language": "python",
   "name": "python3"
  },
  "language_info": {
   "codemirror_mode": {
    "name": "ipython",
    "version": 3
   },
   "file_extension": ".py",
   "mimetype": "text/x-python",
   "name": "python",
   "nbconvert_exporter": "python",
   "pygments_lexer": "ipython3",
   "version": "3.6.8"
  }
 },
 "nbformat": 4,
 "nbformat_minor": 2
}
